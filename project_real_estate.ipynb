{
 "cells": [
  {
   "cell_type": "markdown",
   "metadata": {},
   "source": [
    "**План проекта**\n",
    "* [1. Описание данных](#data_description)\n",
    "    * [1.1 Загрузка данных и первый взгляд на них](#data_load)\n",
    "    * [1.2 Гистограммы для числовых атрибутов](#data_hist)\n",
    "    * [1.3 Создание отложенной выборки](#val_set)\n",
    "* [2. Базовое решение](#base_des)\n",
    "    * [2.1 Преобразование категориальных признаков](#dummies)\n",
    "    * [2.2 Замена пропущенных значений](#mis_val_base)\n",
    "    * [2.3 Построение базовой модели и её оценка](#base_mod)\n",
    "* [3. Разведочный анализ данных (EDA)](#eda)\n",
    "    * [3.1 Обработка выбросов](#outlier)\n",
    "        * [3.1.1 HouseYear](#HouseYear)\n",
    "        * [3.1.2 HouseFloor, Floor](#Floor)\n",
    "        * [3.1.3 KitchenSquare](#KitchenSquare)\n",
    "        * [3.1.4 Rooms](#Rooms)\n",
    "        * [3.1.5 Square, LifeSquare](#Square)\n",
    "    * [3.2 Создание класса DataPreprocessing](#DataPreprocessing)     \n",
    "\n",
    "\n",
    "    "
   ]
  },
  {
   "cell_type": "markdown",
   "metadata": {},
   "source": [
    "***Подключение библиотек и скриптов***"
   ]
  },
  {
   "cell_type": "code",
   "execution_count": 225,
   "metadata": {},
   "outputs": [],
   "source": [
    "import numpy as np\n",
    "import pandas as pd\n",
    "import random\n",
    "\n",
    "from sklearn.model_selection import train_test_split, cross_val_score\n",
    "from sklearn.preprocessing import StandardScaler, RobustScaler\n",
    "from sklearn.ensemble import RandomForestRegressor\n",
    "from sklearn.metrics import r2_score as r2\n",
    "from sklearn.model_selection import KFold, GridSearchCV\n",
    "\n",
    "from datetime import datetime\n",
    "\n",
    "import matplotlib\n",
    "import matplotlib.pyplot as plt\n",
    "import seaborn as sns\n",
    "%matplotlib inline\n",
    "\n",
    "import warnings\n",
    "warnings.filterwarnings('ignore')"
   ]
  },
  {
   "cell_type": "code",
   "execution_count": 226,
   "metadata": {},
   "outputs": [],
   "source": [
    "from scipy import stats"
   ]
  },
  {
   "cell_type": "code",
   "execution_count": 227,
   "metadata": {},
   "outputs": [],
   "source": [
    "from sklearn.tree import DecisionTreeRegressor\n",
    "from sklearn.linear_model import LinearRegression"
   ]
  },
  {
   "cell_type": "code",
   "execution_count": 228,
   "metadata": {},
   "outputs": [],
   "source": [
    "import matplotlib.style as style\n",
    "style.use('fivethirtyeight')\n",
    "\n",
    "matplotlib.rcParams.update({'font.size': 14})"
   ]
  },
  {
   "cell_type": "markdown",
   "metadata": {},
   "source": [
    "***Пути к директориям и файлам***"
   ]
  },
  {
   "cell_type": "code",
   "execution_count": 229,
   "metadata": {},
   "outputs": [],
   "source": [
    "DATASET_PATH = '../data/project_train.csv'\n",
    "TEST_PATH = '../data/project_test.csv'\n",
    "SUBM_PATH = '../data/sample_submission.csv'"
   ]
  },
  {
   "cell_type": "markdown",
   "metadata": {},
   "source": [
    "***Вспомогательные функции***"
   ]
  },
  {
   "cell_type": "markdown",
   "metadata": {},
   "source": [
    "1. "
   ]
  },
  {
   "cell_type": "code",
   "execution_count": 230,
   "metadata": {},
   "outputs": [],
   "source": [
    "def evaluate_preds(train_true_values, train_pred_values, test_true_values, test_pred_values):\n",
    "    print(\"Train R2:\\t\" + str(round(r2(train_true_values, train_pred_values), 3)))\n",
    "    print(\"Test R2:\\t\" + str(round(r2(test_true_values, test_pred_values), 3)))\n",
    "    \n",
    "    plt.figure(figsize=(18,10))\n",
    "    \n",
    "    plt.subplot(121)\n",
    "    sns.scatterplot(x=train_pred_values, y=train_true_values)\n",
    "    plt.xlabel('Predicted values')\n",
    "    plt.ylabel('True values')\n",
    "    plt.title('Train sample prediction')\n",
    "    \n",
    "    plt.subplot(122)\n",
    "    sns.scatterplot(x=test_pred_values, y=test_true_values)\n",
    "    plt.xlabel('Predicted values')\n",
    "    plt.ylabel('True values')\n",
    "    plt.title('Test sample prediction')\n",
    "\n",
    "    plt.show()"
   ]
  },
  {
   "cell_type": "markdown",
   "metadata": {},
   "source": [
    "## 1. Описание данных <a class='anchor' id='data_description'>"
   ]
  },
  {
   "cell_type": "markdown",
   "metadata": {},
   "source": [
    "**Цель задачи** - предсказать стоимость недвижимости \n",
    "\n",
    "**Описание датасета**\n",
    "\n",
    "* Id - идентификационный номер квартиры\n",
    "* DistrictId - идентификационный номер района\n",
    "* Rooms - количество комнат\n",
    "* Square - площадь\n",
    "* LifeSquare - жилая площадь\n",
    "* KitchenSquare - площадь кухни\n",
    "* Floor - этаж\n",
    "* HouseFloor - количество этажей в доме\n",
    "* HouseYear - год постройки дома\n",
    "* Ecology_1, Ecology_2, Ecology_3 - экологические показатели местности\n",
    "* Social_1, Social_2, Social_3 - социальные показатели местности\n",
    "* Healthcare_1, Helthcare_2 - показатели местности, связанные с охраной здоровья\n",
    "* Shops_1, Shops_2 - показатели, связанные с наличием магазинов, торговых центров\n",
    "* Price - цена квартиры\n",
    "\n",
    "Метрика: коэффициент детерминации\n",
    "$ R^2=1−\\frac{σ^2}{σ^2_y}\\ $"
   ]
  },
  {
   "cell_type": "markdown",
   "metadata": {},
   "source": [
    "### 1.1 Загрузка данных и первый взгляд на них <a class='anchor' id='data_load'>"
   ]
  },
  {
   "cell_type": "code",
   "execution_count": 443,
   "metadata": {},
   "outputs": [
    {
     "data": {
      "text/html": [
       "<div>\n",
       "<style scoped>\n",
       "    .dataframe tbody tr th:only-of-type {\n",
       "        vertical-align: middle;\n",
       "    }\n",
       "\n",
       "    .dataframe tbody tr th {\n",
       "        vertical-align: top;\n",
       "    }\n",
       "\n",
       "    .dataframe thead th {\n",
       "        text-align: right;\n",
       "    }\n",
       "</style>\n",
       "<table border=\"1\" class=\"dataframe\">\n",
       "  <thead>\n",
       "    <tr style=\"text-align: right;\">\n",
       "      <th></th>\n",
       "      <th>Id</th>\n",
       "      <th>DistrictId</th>\n",
       "      <th>Rooms</th>\n",
       "      <th>Square</th>\n",
       "      <th>LifeSquare</th>\n",
       "      <th>KitchenSquare</th>\n",
       "      <th>Floor</th>\n",
       "      <th>HouseFloor</th>\n",
       "      <th>HouseYear</th>\n",
       "      <th>Ecology_1</th>\n",
       "      <th>Ecology_2</th>\n",
       "      <th>Ecology_3</th>\n",
       "      <th>Social_1</th>\n",
       "      <th>Social_2</th>\n",
       "      <th>Social_3</th>\n",
       "      <th>Healthcare_1</th>\n",
       "      <th>Helthcare_2</th>\n",
       "      <th>Shops_1</th>\n",
       "      <th>Shops_2</th>\n",
       "      <th>Price</th>\n",
       "    </tr>\n",
       "  </thead>\n",
       "  <tbody>\n",
       "    <tr>\n",
       "      <th>0</th>\n",
       "      <td>11809</td>\n",
       "      <td>27</td>\n",
       "      <td>3.0</td>\n",
       "      <td>115.027311</td>\n",
       "      <td>NaN</td>\n",
       "      <td>10.0</td>\n",
       "      <td>4</td>\n",
       "      <td>10.0</td>\n",
       "      <td>2014</td>\n",
       "      <td>0.075424</td>\n",
       "      <td>B</td>\n",
       "      <td>B</td>\n",
       "      <td>11</td>\n",
       "      <td>3097</td>\n",
       "      <td>0</td>\n",
       "      <td>NaN</td>\n",
       "      <td>0</td>\n",
       "      <td>0</td>\n",
       "      <td>B</td>\n",
       "      <td>305018.871089</td>\n",
       "    </tr>\n",
       "    <tr>\n",
       "      <th>1</th>\n",
       "      <td>3013</td>\n",
       "      <td>22</td>\n",
       "      <td>1.0</td>\n",
       "      <td>39.832524</td>\n",
       "      <td>23.169223</td>\n",
       "      <td>8.0</td>\n",
       "      <td>7</td>\n",
       "      <td>8.0</td>\n",
       "      <td>1966</td>\n",
       "      <td>0.118537</td>\n",
       "      <td>B</td>\n",
       "      <td>B</td>\n",
       "      <td>30</td>\n",
       "      <td>6207</td>\n",
       "      <td>1</td>\n",
       "      <td>1183.0</td>\n",
       "      <td>1</td>\n",
       "      <td>0</td>\n",
       "      <td>B</td>\n",
       "      <td>177734.553407</td>\n",
       "    </tr>\n",
       "    <tr>\n",
       "      <th>2</th>\n",
       "      <td>8215</td>\n",
       "      <td>1</td>\n",
       "      <td>3.0</td>\n",
       "      <td>78.342215</td>\n",
       "      <td>47.671972</td>\n",
       "      <td>10.0</td>\n",
       "      <td>2</td>\n",
       "      <td>17.0</td>\n",
       "      <td>1988</td>\n",
       "      <td>0.025609</td>\n",
       "      <td>B</td>\n",
       "      <td>B</td>\n",
       "      <td>33</td>\n",
       "      <td>5261</td>\n",
       "      <td>0</td>\n",
       "      <td>240.0</td>\n",
       "      <td>3</td>\n",
       "      <td>1</td>\n",
       "      <td>B</td>\n",
       "      <td>282078.720850</td>\n",
       "    </tr>\n",
       "    <tr>\n",
       "      <th>3</th>\n",
       "      <td>2352</td>\n",
       "      <td>1</td>\n",
       "      <td>1.0</td>\n",
       "      <td>40.409907</td>\n",
       "      <td>NaN</td>\n",
       "      <td>1.0</td>\n",
       "      <td>10</td>\n",
       "      <td>22.0</td>\n",
       "      <td>1977</td>\n",
       "      <td>0.007122</td>\n",
       "      <td>B</td>\n",
       "      <td>B</td>\n",
       "      <td>1</td>\n",
       "      <td>264</td>\n",
       "      <td>0</td>\n",
       "      <td>NaN</td>\n",
       "      <td>0</td>\n",
       "      <td>1</td>\n",
       "      <td>B</td>\n",
       "      <td>168106.007630</td>\n",
       "    </tr>\n",
       "    <tr>\n",
       "      <th>4</th>\n",
       "      <td>13866</td>\n",
       "      <td>94</td>\n",
       "      <td>2.0</td>\n",
       "      <td>64.285067</td>\n",
       "      <td>38.562517</td>\n",
       "      <td>9.0</td>\n",
       "      <td>16</td>\n",
       "      <td>16.0</td>\n",
       "      <td>1972</td>\n",
       "      <td>0.282798</td>\n",
       "      <td>B</td>\n",
       "      <td>B</td>\n",
       "      <td>33</td>\n",
       "      <td>8667</td>\n",
       "      <td>2</td>\n",
       "      <td>NaN</td>\n",
       "      <td>0</td>\n",
       "      <td>6</td>\n",
       "      <td>B</td>\n",
       "      <td>343995.102962</td>\n",
       "    </tr>\n",
       "  </tbody>\n",
       "</table>\n",
       "</div>"
      ],
      "text/plain": [
       "      Id  DistrictId  Rooms      Square  LifeSquare  KitchenSquare  Floor  \\\n",
       "0  11809          27    3.0  115.027311         NaN           10.0      4   \n",
       "1   3013          22    1.0   39.832524   23.169223            8.0      7   \n",
       "2   8215           1    3.0   78.342215   47.671972           10.0      2   \n",
       "3   2352           1    1.0   40.409907         NaN            1.0     10   \n",
       "4  13866          94    2.0   64.285067   38.562517            9.0     16   \n",
       "\n",
       "   HouseFloor  HouseYear  Ecology_1 Ecology_2 Ecology_3  Social_1  Social_2  \\\n",
       "0        10.0       2014   0.075424         B         B        11      3097   \n",
       "1         8.0       1966   0.118537         B         B        30      6207   \n",
       "2        17.0       1988   0.025609         B         B        33      5261   \n",
       "3        22.0       1977   0.007122         B         B         1       264   \n",
       "4        16.0       1972   0.282798         B         B        33      8667   \n",
       "\n",
       "   Social_3  Healthcare_1  Helthcare_2  Shops_1 Shops_2          Price  \n",
       "0         0           NaN            0        0       B  305018.871089  \n",
       "1         1        1183.0            1        0       B  177734.553407  \n",
       "2         0         240.0            3        1       B  282078.720850  \n",
       "3         0           NaN            0        1       B  168106.007630  \n",
       "4         2           NaN            0        6       B  343995.102962  "
      ]
     },
     "execution_count": 443,
     "metadata": {},
     "output_type": "execute_result"
    }
   ],
   "source": [
    "df = pd.read_csv(DATASET_PATH)\n",
    "df.head()"
   ]
  },
  {
   "cell_type": "code",
   "execution_count": 232,
   "metadata": {
    "scrolled": false
   },
   "outputs": [
    {
     "data": {
      "text/html": [
       "<div>\n",
       "<style scoped>\n",
       "    .dataframe tbody tr th:only-of-type {\n",
       "        vertical-align: middle;\n",
       "    }\n",
       "\n",
       "    .dataframe tbody tr th {\n",
       "        vertical-align: top;\n",
       "    }\n",
       "\n",
       "    .dataframe thead th {\n",
       "        text-align: right;\n",
       "    }\n",
       "</style>\n",
       "<table border=\"1\" class=\"dataframe\">\n",
       "  <thead>\n",
       "    <tr style=\"text-align: right;\">\n",
       "      <th></th>\n",
       "      <th>count</th>\n",
       "      <th>mean</th>\n",
       "      <th>std</th>\n",
       "      <th>min</th>\n",
       "      <th>25%</th>\n",
       "      <th>50%</th>\n",
       "      <th>75%</th>\n",
       "      <th>max</th>\n",
       "    </tr>\n",
       "  </thead>\n",
       "  <tbody>\n",
       "    <tr>\n",
       "      <th>Id</th>\n",
       "      <td>10000.0</td>\n",
       "      <td>8383.407700</td>\n",
       "      <td>4859.019020</td>\n",
       "      <td>0.000000</td>\n",
       "      <td>4169.500000</td>\n",
       "      <td>8394.500000</td>\n",
       "      <td>12592.500000</td>\n",
       "      <td>1.679800e+04</td>\n",
       "    </tr>\n",
       "    <tr>\n",
       "      <th>DistrictId</th>\n",
       "      <td>10000.0</td>\n",
       "      <td>50.400800</td>\n",
       "      <td>43.587592</td>\n",
       "      <td>0.000000</td>\n",
       "      <td>20.000000</td>\n",
       "      <td>36.000000</td>\n",
       "      <td>75.000000</td>\n",
       "      <td>2.090000e+02</td>\n",
       "    </tr>\n",
       "    <tr>\n",
       "      <th>Rooms</th>\n",
       "      <td>10000.0</td>\n",
       "      <td>1.890500</td>\n",
       "      <td>0.839512</td>\n",
       "      <td>0.000000</td>\n",
       "      <td>1.000000</td>\n",
       "      <td>2.000000</td>\n",
       "      <td>2.000000</td>\n",
       "      <td>1.900000e+01</td>\n",
       "    </tr>\n",
       "    <tr>\n",
       "      <th>Square</th>\n",
       "      <td>10000.0</td>\n",
       "      <td>56.315775</td>\n",
       "      <td>21.058732</td>\n",
       "      <td>1.136859</td>\n",
       "      <td>41.774881</td>\n",
       "      <td>52.513310</td>\n",
       "      <td>65.900625</td>\n",
       "      <td>6.410652e+02</td>\n",
       "    </tr>\n",
       "    <tr>\n",
       "      <th>LifeSquare</th>\n",
       "      <td>7887.0</td>\n",
       "      <td>37.199645</td>\n",
       "      <td>86.241209</td>\n",
       "      <td>0.370619</td>\n",
       "      <td>22.769832</td>\n",
       "      <td>32.781260</td>\n",
       "      <td>45.128803</td>\n",
       "      <td>7.480592e+03</td>\n",
       "    </tr>\n",
       "    <tr>\n",
       "      <th>KitchenSquare</th>\n",
       "      <td>10000.0</td>\n",
       "      <td>6.273300</td>\n",
       "      <td>28.560917</td>\n",
       "      <td>0.000000</td>\n",
       "      <td>1.000000</td>\n",
       "      <td>6.000000</td>\n",
       "      <td>9.000000</td>\n",
       "      <td>2.014000e+03</td>\n",
       "    </tr>\n",
       "    <tr>\n",
       "      <th>Floor</th>\n",
       "      <td>10000.0</td>\n",
       "      <td>8.526700</td>\n",
       "      <td>5.241148</td>\n",
       "      <td>1.000000</td>\n",
       "      <td>4.000000</td>\n",
       "      <td>7.000000</td>\n",
       "      <td>12.000000</td>\n",
       "      <td>4.200000e+01</td>\n",
       "    </tr>\n",
       "    <tr>\n",
       "      <th>HouseFloor</th>\n",
       "      <td>10000.0</td>\n",
       "      <td>12.609400</td>\n",
       "      <td>6.775974</td>\n",
       "      <td>0.000000</td>\n",
       "      <td>9.000000</td>\n",
       "      <td>13.000000</td>\n",
       "      <td>17.000000</td>\n",
       "      <td>1.170000e+02</td>\n",
       "    </tr>\n",
       "    <tr>\n",
       "      <th>HouseYear</th>\n",
       "      <td>10000.0</td>\n",
       "      <td>3990.166300</td>\n",
       "      <td>200500.261427</td>\n",
       "      <td>1910.000000</td>\n",
       "      <td>1974.000000</td>\n",
       "      <td>1977.000000</td>\n",
       "      <td>2001.000000</td>\n",
       "      <td>2.005201e+07</td>\n",
       "    </tr>\n",
       "    <tr>\n",
       "      <th>Ecology_1</th>\n",
       "      <td>10000.0</td>\n",
       "      <td>0.118858</td>\n",
       "      <td>0.119025</td>\n",
       "      <td>0.000000</td>\n",
       "      <td>0.017647</td>\n",
       "      <td>0.075424</td>\n",
       "      <td>0.195781</td>\n",
       "      <td>5.218671e-01</td>\n",
       "    </tr>\n",
       "    <tr>\n",
       "      <th>Social_1</th>\n",
       "      <td>10000.0</td>\n",
       "      <td>24.687000</td>\n",
       "      <td>17.532614</td>\n",
       "      <td>0.000000</td>\n",
       "      <td>6.000000</td>\n",
       "      <td>25.000000</td>\n",
       "      <td>36.000000</td>\n",
       "      <td>7.400000e+01</td>\n",
       "    </tr>\n",
       "    <tr>\n",
       "      <th>Social_2</th>\n",
       "      <td>10000.0</td>\n",
       "      <td>5352.157400</td>\n",
       "      <td>4006.799803</td>\n",
       "      <td>168.000000</td>\n",
       "      <td>1564.000000</td>\n",
       "      <td>5285.000000</td>\n",
       "      <td>7227.000000</td>\n",
       "      <td>1.908300e+04</td>\n",
       "    </tr>\n",
       "    <tr>\n",
       "      <th>Social_3</th>\n",
       "      <td>10000.0</td>\n",
       "      <td>8.039200</td>\n",
       "      <td>23.831875</td>\n",
       "      <td>0.000000</td>\n",
       "      <td>0.000000</td>\n",
       "      <td>2.000000</td>\n",
       "      <td>5.000000</td>\n",
       "      <td>1.410000e+02</td>\n",
       "    </tr>\n",
       "    <tr>\n",
       "      <th>Healthcare_1</th>\n",
       "      <td>5202.0</td>\n",
       "      <td>1142.904460</td>\n",
       "      <td>1021.517264</td>\n",
       "      <td>0.000000</td>\n",
       "      <td>350.000000</td>\n",
       "      <td>900.000000</td>\n",
       "      <td>1548.000000</td>\n",
       "      <td>4.849000e+03</td>\n",
       "    </tr>\n",
       "    <tr>\n",
       "      <th>Helthcare_2</th>\n",
       "      <td>10000.0</td>\n",
       "      <td>1.319500</td>\n",
       "      <td>1.493601</td>\n",
       "      <td>0.000000</td>\n",
       "      <td>0.000000</td>\n",
       "      <td>1.000000</td>\n",
       "      <td>2.000000</td>\n",
       "      <td>6.000000e+00</td>\n",
       "    </tr>\n",
       "    <tr>\n",
       "      <th>Shops_1</th>\n",
       "      <td>10000.0</td>\n",
       "      <td>4.231300</td>\n",
       "      <td>4.806341</td>\n",
       "      <td>0.000000</td>\n",
       "      <td>1.000000</td>\n",
       "      <td>3.000000</td>\n",
       "      <td>6.000000</td>\n",
       "      <td>2.300000e+01</td>\n",
       "    </tr>\n",
       "    <tr>\n",
       "      <th>Price</th>\n",
       "      <td>10000.0</td>\n",
       "      <td>214138.857399</td>\n",
       "      <td>92872.293865</td>\n",
       "      <td>59174.778028</td>\n",
       "      <td>153872.633942</td>\n",
       "      <td>192269.644879</td>\n",
       "      <td>249135.462171</td>\n",
       "      <td>6.332335e+05</td>\n",
       "    </tr>\n",
       "  </tbody>\n",
       "</table>\n",
       "</div>"
      ],
      "text/plain": [
       "                 count           mean            std           min  \\\n",
       "Id             10000.0    8383.407700    4859.019020      0.000000   \n",
       "DistrictId     10000.0      50.400800      43.587592      0.000000   \n",
       "Rooms          10000.0       1.890500       0.839512      0.000000   \n",
       "Square         10000.0      56.315775      21.058732      1.136859   \n",
       "LifeSquare      7887.0      37.199645      86.241209      0.370619   \n",
       "KitchenSquare  10000.0       6.273300      28.560917      0.000000   \n",
       "Floor          10000.0       8.526700       5.241148      1.000000   \n",
       "HouseFloor     10000.0      12.609400       6.775974      0.000000   \n",
       "HouseYear      10000.0    3990.166300  200500.261427   1910.000000   \n",
       "Ecology_1      10000.0       0.118858       0.119025      0.000000   \n",
       "Social_1       10000.0      24.687000      17.532614      0.000000   \n",
       "Social_2       10000.0    5352.157400    4006.799803    168.000000   \n",
       "Social_3       10000.0       8.039200      23.831875      0.000000   \n",
       "Healthcare_1    5202.0    1142.904460    1021.517264      0.000000   \n",
       "Helthcare_2    10000.0       1.319500       1.493601      0.000000   \n",
       "Shops_1        10000.0       4.231300       4.806341      0.000000   \n",
       "Price          10000.0  214138.857399   92872.293865  59174.778028   \n",
       "\n",
       "                         25%            50%            75%           max  \n",
       "Id               4169.500000    8394.500000   12592.500000  1.679800e+04  \n",
       "DistrictId         20.000000      36.000000      75.000000  2.090000e+02  \n",
       "Rooms               1.000000       2.000000       2.000000  1.900000e+01  \n",
       "Square             41.774881      52.513310      65.900625  6.410652e+02  \n",
       "LifeSquare         22.769832      32.781260      45.128803  7.480592e+03  \n",
       "KitchenSquare       1.000000       6.000000       9.000000  2.014000e+03  \n",
       "Floor               4.000000       7.000000      12.000000  4.200000e+01  \n",
       "HouseFloor          9.000000      13.000000      17.000000  1.170000e+02  \n",
       "HouseYear        1974.000000    1977.000000    2001.000000  2.005201e+07  \n",
       "Ecology_1           0.017647       0.075424       0.195781  5.218671e-01  \n",
       "Social_1            6.000000      25.000000      36.000000  7.400000e+01  \n",
       "Social_2         1564.000000    5285.000000    7227.000000  1.908300e+04  \n",
       "Social_3            0.000000       2.000000       5.000000  1.410000e+02  \n",
       "Healthcare_1      350.000000     900.000000    1548.000000  4.849000e+03  \n",
       "Helthcare_2         0.000000       1.000000       2.000000  6.000000e+00  \n",
       "Shops_1             1.000000       3.000000       6.000000  2.300000e+01  \n",
       "Price          153872.633942  192269.644879  249135.462171  6.332335e+05  "
      ]
     },
     "execution_count": 232,
     "metadata": {},
     "output_type": "execute_result"
    }
   ],
   "source": [
    "df.describe().T"
   ]
  },
  {
   "cell_type": "code",
   "execution_count": 233,
   "metadata": {},
   "outputs": [
    {
     "data": {
      "text/plain": [
       "Id                 int64\n",
       "DistrictId         int64\n",
       "Rooms            float64\n",
       "Square           float64\n",
       "LifeSquare       float64\n",
       "KitchenSquare    float64\n",
       "Floor              int64\n",
       "HouseFloor       float64\n",
       "HouseYear          int64\n",
       "Ecology_1        float64\n",
       "Ecology_2         object\n",
       "Ecology_3         object\n",
       "Social_1           int64\n",
       "Social_2           int64\n",
       "Social_3           int64\n",
       "Healthcare_1     float64\n",
       "Helthcare_2        int64\n",
       "Shops_1            int64\n",
       "Shops_2           object\n",
       "Price            float64\n",
       "dtype: object"
      ]
     },
     "execution_count": 233,
     "metadata": {},
     "output_type": "execute_result"
    }
   ],
   "source": [
    "df.dtypes"
   ]
  },
  {
   "cell_type": "code",
   "execution_count": null,
   "metadata": {},
   "outputs": [],
   "source": []
  },
  {
   "cell_type": "markdown",
   "metadata": {},
   "source": [
    "Посмотрим на категориальные признаки:"
   ]
  },
  {
   "cell_type": "code",
   "execution_count": 234,
   "metadata": {},
   "outputs": [
    {
     "data": {
      "text/plain": [
       "B    9903\n",
       "A      97\n",
       "Name: Ecology_2, dtype: int64"
      ]
     },
     "execution_count": 234,
     "metadata": {},
     "output_type": "execute_result"
    }
   ],
   "source": [
    "df['Ecology_2'].value_counts()"
   ]
  },
  {
   "cell_type": "code",
   "execution_count": 235,
   "metadata": {
    "scrolled": false
   },
   "outputs": [
    {
     "data": {
      "text/plain": [
       "B    9725\n",
       "A     275\n",
       "Name: Ecology_3, dtype: int64"
      ]
     },
     "execution_count": 235,
     "metadata": {},
     "output_type": "execute_result"
    }
   ],
   "source": [
    "df['Ecology_3'].value_counts()"
   ]
  },
  {
   "cell_type": "code",
   "execution_count": 236,
   "metadata": {
    "scrolled": true
   },
   "outputs": [
    {
     "data": {
      "text/plain": [
       "B    9175\n",
       "A     825\n",
       "Name: Shops_2, dtype: int64"
      ]
     },
     "execution_count": 236,
     "metadata": {},
     "output_type": "execute_result"
    }
   ],
   "source": [
    "df['Shops_2'].value_counts()"
   ]
  },
  {
   "cell_type": "markdown",
   "metadata": {},
   "source": [
    "**Пропущенные значения**"
   ]
  },
  {
   "cell_type": "code",
   "execution_count": 237,
   "metadata": {},
   "outputs": [
    {
     "data": {
      "text/plain": [
       "Id                  0\n",
       "DistrictId          0\n",
       "Rooms               0\n",
       "Square              0\n",
       "LifeSquare       2113\n",
       "KitchenSquare       0\n",
       "Floor               0\n",
       "HouseFloor          0\n",
       "HouseYear           0\n",
       "Ecology_1           0\n",
       "Ecology_2           0\n",
       "Ecology_3           0\n",
       "Social_1            0\n",
       "Social_2            0\n",
       "Social_3            0\n",
       "Healthcare_1     4798\n",
       "Helthcare_2         0\n",
       "Shops_1             0\n",
       "Shops_2             0\n",
       "Price               0\n",
       "dtype: int64"
      ]
     },
     "execution_count": 237,
     "metadata": {},
     "output_type": "execute_result"
    }
   ],
   "source": [
    "df.isna().sum()"
   ]
  },
  {
   "cell_type": "code",
   "execution_count": 444,
   "metadata": {},
   "outputs": [
    {
     "data": {
      "text/html": [
       "<div>\n",
       "<style scoped>\n",
       "    .dataframe tbody tr th:only-of-type {\n",
       "        vertical-align: middle;\n",
       "    }\n",
       "\n",
       "    .dataframe tbody tr th {\n",
       "        vertical-align: top;\n",
       "    }\n",
       "\n",
       "    .dataframe thead th {\n",
       "        text-align: right;\n",
       "    }\n",
       "</style>\n",
       "<table border=\"1\" class=\"dataframe\">\n",
       "  <thead>\n",
       "    <tr style=\"text-align: right;\">\n",
       "      <th></th>\n",
       "      <th>Id</th>\n",
       "      <th>DistrictId</th>\n",
       "      <th>Rooms</th>\n",
       "      <th>Square</th>\n",
       "      <th>LifeSquare</th>\n",
       "      <th>KitchenSquare</th>\n",
       "      <th>Floor</th>\n",
       "      <th>HouseFloor</th>\n",
       "      <th>HouseYear</th>\n",
       "      <th>Ecology_1</th>\n",
       "      <th>Ecology_2</th>\n",
       "      <th>Ecology_3</th>\n",
       "      <th>Social_1</th>\n",
       "      <th>Social_2</th>\n",
       "      <th>Social_3</th>\n",
       "      <th>Healthcare_1</th>\n",
       "      <th>Helthcare_2</th>\n",
       "      <th>Shops_1</th>\n",
       "      <th>Shops_2</th>\n",
       "    </tr>\n",
       "  </thead>\n",
       "  <tbody>\n",
       "    <tr>\n",
       "      <th>0</th>\n",
       "      <td>4567</td>\n",
       "      <td>44</td>\n",
       "      <td>1.0</td>\n",
       "      <td>36.847630</td>\n",
       "      <td>19.094182</td>\n",
       "      <td>5.0</td>\n",
       "      <td>5</td>\n",
       "      <td>9.0</td>\n",
       "      <td>1970</td>\n",
       "      <td>0.036122</td>\n",
       "      <td>B</td>\n",
       "      <td>B</td>\n",
       "      <td>24</td>\n",
       "      <td>4378</td>\n",
       "      <td>0</td>\n",
       "      <td>1036.0</td>\n",
       "      <td>1</td>\n",
       "      <td>1</td>\n",
       "      <td>B</td>\n",
       "    </tr>\n",
       "    <tr>\n",
       "      <th>1</th>\n",
       "      <td>5925</td>\n",
       "      <td>62</td>\n",
       "      <td>1.0</td>\n",
       "      <td>42.493907</td>\n",
       "      <td>42.568133</td>\n",
       "      <td>10.0</td>\n",
       "      <td>7</td>\n",
       "      <td>17.0</td>\n",
       "      <td>2017</td>\n",
       "      <td>0.072158</td>\n",
       "      <td>B</td>\n",
       "      <td>B</td>\n",
       "      <td>2</td>\n",
       "      <td>629</td>\n",
       "      <td>1</td>\n",
       "      <td>NaN</td>\n",
       "      <td>0</td>\n",
       "      <td>0</td>\n",
       "      <td>A</td>\n",
       "    </tr>\n",
       "    <tr>\n",
       "      <th>2</th>\n",
       "      <td>960</td>\n",
       "      <td>27</td>\n",
       "      <td>2.0</td>\n",
       "      <td>59.463678</td>\n",
       "      <td>NaN</td>\n",
       "      <td>9.0</td>\n",
       "      <td>19</td>\n",
       "      <td>19.0</td>\n",
       "      <td>1977</td>\n",
       "      <td>0.211401</td>\n",
       "      <td>B</td>\n",
       "      <td>B</td>\n",
       "      <td>9</td>\n",
       "      <td>1892</td>\n",
       "      <td>0</td>\n",
       "      <td>NaN</td>\n",
       "      <td>0</td>\n",
       "      <td>1</td>\n",
       "      <td>B</td>\n",
       "    </tr>\n",
       "    <tr>\n",
       "      <th>3</th>\n",
       "      <td>3848</td>\n",
       "      <td>23</td>\n",
       "      <td>3.0</td>\n",
       "      <td>49.646030</td>\n",
       "      <td>33.893825</td>\n",
       "      <td>6.0</td>\n",
       "      <td>2</td>\n",
       "      <td>2.0</td>\n",
       "      <td>1965</td>\n",
       "      <td>0.014073</td>\n",
       "      <td>B</td>\n",
       "      <td>B</td>\n",
       "      <td>2</td>\n",
       "      <td>475</td>\n",
       "      <td>0</td>\n",
       "      <td>NaN</td>\n",
       "      <td>0</td>\n",
       "      <td>0</td>\n",
       "      <td>B</td>\n",
       "    </tr>\n",
       "    <tr>\n",
       "      <th>4</th>\n",
       "      <td>746</td>\n",
       "      <td>74</td>\n",
       "      <td>1.0</td>\n",
       "      <td>53.837056</td>\n",
       "      <td>NaN</td>\n",
       "      <td>1.0</td>\n",
       "      <td>8</td>\n",
       "      <td>17.0</td>\n",
       "      <td>1977</td>\n",
       "      <td>0.309479</td>\n",
       "      <td>B</td>\n",
       "      <td>B</td>\n",
       "      <td>35</td>\n",
       "      <td>7715</td>\n",
       "      <td>4</td>\n",
       "      <td>990.0</td>\n",
       "      <td>0</td>\n",
       "      <td>6</td>\n",
       "      <td>B</td>\n",
       "    </tr>\n",
       "  </tbody>\n",
       "</table>\n",
       "</div>"
      ],
      "text/plain": [
       "     Id  DistrictId  Rooms     Square  LifeSquare  KitchenSquare  Floor  \\\n",
       "0  4567          44    1.0  36.847630   19.094182            5.0      5   \n",
       "1  5925          62    1.0  42.493907   42.568133           10.0      7   \n",
       "2   960          27    2.0  59.463678         NaN            9.0     19   \n",
       "3  3848          23    3.0  49.646030   33.893825            6.0      2   \n",
       "4   746          74    1.0  53.837056         NaN            1.0      8   \n",
       "\n",
       "   HouseFloor  HouseYear  Ecology_1 Ecology_2 Ecology_3  Social_1  Social_2  \\\n",
       "0         9.0       1970   0.036122         B         B        24      4378   \n",
       "1        17.0       2017   0.072158         B         B         2       629   \n",
       "2        19.0       1977   0.211401         B         B         9      1892   \n",
       "3         2.0       1965   0.014073         B         B         2       475   \n",
       "4        17.0       1977   0.309479         B         B        35      7715   \n",
       "\n",
       "   Social_3  Healthcare_1  Helthcare_2  Shops_1 Shops_2  \n",
       "0         0        1036.0            1        1       B  \n",
       "1         1           NaN            0        0       A  \n",
       "2         0           NaN            0        1       B  \n",
       "3         0           NaN            0        0       B  \n",
       "4         4         990.0            0        6       B  "
      ]
     },
     "execution_count": 444,
     "metadata": {},
     "output_type": "execute_result"
    }
   ],
   "source": [
    "test_df = pd.read_csv(TEST_PATH)\n",
    "test_df.head()"
   ]
  },
  {
   "cell_type": "code",
   "execution_count": 239,
   "metadata": {},
   "outputs": [
    {
     "name": "stdout",
     "output_type": "stream",
     "text": [
      "Строк в обучающей выборке: 10000\n",
      "Строк в тестовой выборке 5000\n"
     ]
    }
   ],
   "source": [
    "print('Строк в обучающей выборке:', df.shape[0])\n",
    "print('Строк в тестовой выборке', test_df.shape[0])"
   ]
  },
  {
   "cell_type": "code",
   "execution_count": 240,
   "metadata": {},
   "outputs": [
    {
     "data": {
      "text/plain": [
       "True"
      ]
     },
     "execution_count": 240,
     "metadata": {},
     "output_type": "execute_result"
    }
   ],
   "source": [
    "df.shape[1] - 1 == test_df.shape[1]"
   ]
  },
  {
   "cell_type": "markdown",
   "metadata": {},
   "source": [
    "### 1.2 Гистограммы для числовых атрибутов <a class='anchor' id='data_hist'>"
   ]
  },
  {
   "cell_type": "code",
   "execution_count": 241,
   "metadata": {},
   "outputs": [
    {
     "data": {
      "image/png": "[encoded data removed]",
      "text/plain": [
       "<Figure size 1152x1152 with 20 Axes>"
      ]
     },
     "metadata": {},
     "output_type": "display_data"
    }
   ],
   "source": [
    "df.hist(bins=100, figsize=(16,16))\n",
    "plt.show()"
   ]
  },
  {
   "cell_type": "markdown",
   "metadata": {},
   "source": [
    "- Видно, что признаки 'LifeSquare', 'KitchenSquare', 'HouseYear' имеют выбросы.\n",
    "- Атрибуты имеют разные масштабы."
   ]
  },
  {
   "cell_type": "markdown",
   "metadata": {},
   "source": [
    "### 1.3 Создание отложенной выборки (испытательного набора) <a class='anchor' id='val_set'>"
   ]
  },
  {
   "cell_type": "markdown",
   "metadata": {},
   "source": [
    "В целях борьбы с переобучением сделаем стратифицированную выборку на основе площади объекта недвижимости, так как разумно предположить, что площадь является важным атрибутом для прогнозирования стоимости квартиры."
   ]
  },
  {
   "cell_type": "code",
   "execution_count": 242,
   "metadata": {},
   "outputs": [
    {
     "data": {
      "text/plain": [
       "<AxesSubplot:>"
      ]
     },
     "execution_count": 242,
     "metadata": {},
     "output_type": "execute_result"
    },
    {
     "data": {
      "image/png": "[encoded data removed]",
      "text/plain": [
       "<Figure size 576x576 with 1 Axes>"
      ]
     },
     "metadata": {},
     "output_type": "display_data"
    }
   ],
   "source": [
    "df.Square.hist(bins=200, figsize=(8,8))"
   ]
  },
  {
   "cell_type": "markdown",
   "metadata": {},
   "source": [
    "Большинство значений площади квартир сгруппированы около 30 - 100 м^2 , но некторые выходят далеко за 120. Создадим атрибут категории дохода (0-30, 30-60, 60-90, 90-120, >120)"
   ]
  },
  {
   "cell_type": "code",
   "execution_count": 445,
   "metadata": {},
   "outputs": [],
   "source": [
    "df['Square_cat'] = np.ceil(df.Square / 30)\n",
    "df['Square_cat'].where(df['Square_cat'] < 5, 5.0, inplace=True)"
   ]
  },
  {
   "cell_type": "code",
   "execution_count": 244,
   "metadata": {},
   "outputs": [
    {
     "data": {
      "text/plain": [
       "2.0    6249\n",
       "3.0    3217\n",
       "4.0     337\n",
       "1.0     105\n",
       "5.0      92\n",
       "Name: Square_cat, dtype: int64"
      ]
     },
     "execution_count": 244,
     "metadata": {},
     "output_type": "execute_result"
    }
   ],
   "source": [
    "df['Square_cat'].value_counts()"
   ]
  },
  {
   "cell_type": "code",
   "execution_count": 245,
   "metadata": {
    "scrolled": true
   },
   "outputs": [
    {
     "data": {
      "text/plain": [
       "<AxesSubplot:>"
      ]
     },
     "execution_count": 245,
     "metadata": {},
     "output_type": "execute_result"
    },
    {
     "data": {
      "image/png": "[encoded data removed]",
      "text/plain": [
       "<Figure size 432x288 with 1 Axes>"
      ]
     },
     "metadata": {},
     "output_type": "display_data"
    }
   ],
   "source": [
    "df['Square_cat'].hist()"
   ]
  },
  {
   "cell_type": "code",
   "execution_count": 446,
   "metadata": {},
   "outputs": [],
   "source": [
    "from sklearn.model_selection import StratifiedShuffleSplit\n",
    "\n",
    "split = StratifiedShuffleSplit(n_splits=1, test_size=0.2, random_state=28)\n",
    "for train_index, test_index in split.split(df, df[\"Square_cat\"]):\n",
    "    strat_train_set = df.loc[train_index]\n",
    "    strat_test_set = df.loc[test_index]"
   ]
  },
  {
   "cell_type": "code",
   "execution_count": 247,
   "metadata": {},
   "outputs": [
    {
     "data": {
      "text/plain": [
       "2.0    0.6249\n",
       "3.0    0.3217\n",
       "4.0    0.0337\n",
       "1.0    0.0105\n",
       "5.0    0.0092\n",
       "Name: Square_cat, dtype: float64"
      ]
     },
     "execution_count": 247,
     "metadata": {},
     "output_type": "execute_result"
    }
   ],
   "source": [
    "df[\"Square_cat\"].value_counts() / len(df)"
   ]
  },
  {
   "cell_type": "code",
   "execution_count": 248,
   "metadata": {},
   "outputs": [],
   "source": [
    "def income_cat_proportions(data):\n",
    "    return data[\"Square_cat\"].value_counts() / len(data)\n",
    "\n",
    "train_set, test_set = train_test_split(df, test_size=0.2, random_state=28)\n",
    "\n",
    "compare_props = pd.DataFrame({\n",
    "    \"Overall\": income_cat_proportions(df),\n",
    "    \"Stratified\": income_cat_proportions(strat_test_set),\n",
    "    \"Random\": income_cat_proportions(test_set),\n",
    "}).sort_index()\n",
    "compare_props[\"Rand. %error\"] = 100 * compare_props[\"Random\"] / compare_props[\"Overall\"] - 100\n",
    "compare_props[\"Strat. %error\"] = 100 * compare_props[\"Stratified\"] / compare_props[\"Overall\"] - 100"
   ]
  },
  {
   "cell_type": "code",
   "execution_count": 249,
   "metadata": {},
   "outputs": [
    {
     "data": {
      "text/html": [
       "<div>\n",
       "<style scoped>\n",
       "    .dataframe tbody tr th:only-of-type {\n",
       "        vertical-align: middle;\n",
       "    }\n",
       "\n",
       "    .dataframe tbody tr th {\n",
       "        vertical-align: top;\n",
       "    }\n",
       "\n",
       "    .dataframe thead th {\n",
       "        text-align: right;\n",
       "    }\n",
       "</style>\n",
       "<table border=\"1\" class=\"dataframe\">\n",
       "  <thead>\n",
       "    <tr style=\"text-align: right;\">\n",
       "      <th></th>\n",
       "      <th>Overall</th>\n",
       "      <th>Stratified</th>\n",
       "      <th>Random</th>\n",
       "      <th>Rand. %error</th>\n",
       "      <th>Strat. %error</th>\n",
       "    </tr>\n",
       "  </thead>\n",
       "  <tbody>\n",
       "    <tr>\n",
       "      <th>1.0</th>\n",
       "      <td>0.0105</td>\n",
       "      <td>0.0105</td>\n",
       "      <td>0.0115</td>\n",
       "      <td>9.523810</td>\n",
       "      <td>0.000000</td>\n",
       "    </tr>\n",
       "    <tr>\n",
       "      <th>2.0</th>\n",
       "      <td>0.6249</td>\n",
       "      <td>0.6250</td>\n",
       "      <td>0.6305</td>\n",
       "      <td>0.896143</td>\n",
       "      <td>0.016003</td>\n",
       "    </tr>\n",
       "    <tr>\n",
       "      <th>3.0</th>\n",
       "      <td>0.3217</td>\n",
       "      <td>0.3220</td>\n",
       "      <td>0.3170</td>\n",
       "      <td>-1.460988</td>\n",
       "      <td>0.093255</td>\n",
       "    </tr>\n",
       "    <tr>\n",
       "      <th>4.0</th>\n",
       "      <td>0.0337</td>\n",
       "      <td>0.0335</td>\n",
       "      <td>0.0340</td>\n",
       "      <td>0.890208</td>\n",
       "      <td>-0.593472</td>\n",
       "    </tr>\n",
       "    <tr>\n",
       "      <th>5.0</th>\n",
       "      <td>0.0092</td>\n",
       "      <td>0.0090</td>\n",
       "      <td>0.0070</td>\n",
       "      <td>-23.913043</td>\n",
       "      <td>-2.173913</td>\n",
       "    </tr>\n",
       "  </tbody>\n",
       "</table>\n",
       "</div>"
      ],
      "text/plain": [
       "     Overall  Stratified  Random  Rand. %error  Strat. %error\n",
       "1.0   0.0105      0.0105  0.0115      9.523810       0.000000\n",
       "2.0   0.6249      0.6250  0.6305      0.896143       0.016003\n",
       "3.0   0.3217      0.3220  0.3170     -1.460988       0.093255\n",
       "4.0   0.0337      0.0335  0.0340      0.890208      -0.593472\n",
       "5.0   0.0092      0.0090  0.0070    -23.913043      -2.173913"
      ]
     },
     "execution_count": 249,
     "metadata": {},
     "output_type": "execute_result"
    }
   ],
   "source": [
    "compare_props"
   ]
  },
  {
   "cell_type": "code",
   "execution_count": 250,
   "metadata": {},
   "outputs": [],
   "source": [
    "for set_ in (strat_train_set, strat_test_set, df):\n",
    "    set_.drop(\"Square_cat\", axis=1, inplace=True)"
   ]
  },
  {
   "cell_type": "code",
   "execution_count": 251,
   "metadata": {},
   "outputs": [
    {
     "data": {
      "text/plain": [
       "Index(['Id', 'DistrictId', 'Rooms', 'Square', 'LifeSquare', 'KitchenSquare',\n",
       "       'Floor', 'HouseFloor', 'HouseYear', 'Ecology_1', 'Ecology_2',\n",
       "       'Ecology_3', 'Social_1', 'Social_2', 'Social_3', 'Healthcare_1',\n",
       "       'Helthcare_2', 'Shops_1', 'Shops_2', 'Price'],\n",
       "      dtype='object')"
      ]
     },
     "execution_count": 251,
     "metadata": {},
     "output_type": "execute_result"
    }
   ],
   "source": [
    "df.columns"
   ]
  },
  {
   "cell_type": "markdown",
   "metadata": {},
   "source": [
    "## 2. Базовое решение <a class='anchor' id='base_des'>"
   ]
  },
  {
   "cell_type": "code",
   "execution_count": 252,
   "metadata": {},
   "outputs": [],
   "source": [
    "temp_df = strat_train_set.copy()\n",
    "temp_val_df = strat_test_set.copy()\n",
    "\n",
    "temp_test_df = test_df.copy()"
   ]
  },
  {
   "cell_type": "markdown",
   "metadata": {},
   "source": [
    "### 2.1  Преобразование категориальных признаков <a class='anchor' id='dummies'>"
   ]
  },
  {
   "cell_type": "code",
   "execution_count": 253,
   "metadata": {},
   "outputs": [],
   "source": [
    "binary_to_numbers = {'A': 0, 'B': 1}\n",
    "\n",
    "for set_ in (temp_df, temp_val_df, temp_test_df):\n",
    "    set_['Ecology_2'] = set_['Ecology_2'].replace(binary_to_numbers)\n",
    "    set_['Ecology_3'] = set_['Ecology_3'].replace(binary_to_numbers)\n",
    "    set_['Shops_2'] = set_['Shops_2'].replace(binary_to_numbers)"
   ]
  },
  {
   "cell_type": "markdown",
   "metadata": {},
   "source": [
    "### 2.2 Замена пропущенных значений <a class='anchor' id='mis_val_base'>"
   ]
  },
  {
   "cell_type": "code",
   "execution_count": 254,
   "metadata": {},
   "outputs": [
    {
     "name": "stdout",
     "output_type": "stream",
     "text": [
      "-----\n",
      "LifeSquare      1713\n",
      "Healthcare_1    3850\n",
      "dtype: int64\n",
      "-----\n",
      "LifeSquare      400\n",
      "Healthcare_1    948\n",
      "dtype: int64\n",
      "-----\n",
      "LifeSquare      1041\n",
      "Healthcare_1    2377\n",
      "dtype: int64\n"
     ]
    }
   ],
   "source": [
    "for set_ in (temp_df, temp_val_df, temp_test_df):\n",
    "    print('-----')\n",
    "    print(set_.isna().sum()[set_.isna().sum() > 0])"
   ]
  },
  {
   "cell_type": "markdown",
   "metadata": {},
   "source": [
    "**признак 'LifeSquare_nan'**"
   ]
  },
  {
   "cell_type": "code",
   "execution_count": 255,
   "metadata": {},
   "outputs": [],
   "source": [
    "for set_ in (temp_df, temp_val_df, temp_test_df):\n",
    "    set_['LifeSquare_nan'] = set_['LifeSquare'].isna() * 1\n",
    "\n",
    "    condition = (set_['LifeSquare'].isna())\n",
    "\n",
    "    set_.loc[condition, 'LifeSquare'] = set_.loc[condition, 'Square'] \\\n",
    "                                            - set_.loc[condition, 'KitchenSquare'] - 3"
   ]
  },
  {
   "cell_type": "markdown",
   "metadata": {},
   "source": [
    "**признак 'Healthcare_1'**"
   ]
  },
  {
   "cell_type": "markdown",
   "metadata": {},
   "source": [
    "Заменять пропущенные значения признака 'Healthcare_1' будем путём прогнозирования с помощью модели, обученной на имеющихся данных"
   ]
  },
  {
   "cell_type": "markdown",
   "metadata": {},
   "source": [
    "Для начала посмотрим как каждый числовой атрибут связан с признаком 'Healthcare_1'"
   ]
  },
  {
   "cell_type": "code",
   "execution_count": 256,
   "metadata": {},
   "outputs": [
    {
     "data": {
      "text/plain": [
       "Healthcare_1      1.000000\n",
       "DistrictId        0.321909\n",
       "Helthcare_2       0.212779\n",
       "Social_3          0.144826\n",
       "Price             0.139008\n",
       "Social_1          0.073249\n",
       "Shops_1           0.061946\n",
       "Social_2          0.047577\n",
       "Rooms             0.038983\n",
       "KitchenSquare     0.005628\n",
       "Id                0.003325\n",
       "HouseYear        -0.013460\n",
       "Shops_2          -0.025856\n",
       "Ecology_2        -0.026598\n",
       "Square           -0.048190\n",
       "Ecology_1        -0.049598\n",
       "LifeSquare       -0.074536\n",
       "Ecology_3        -0.106122\n",
       "HouseFloor       -0.150664\n",
       "Floor            -0.156208\n",
       "LifeSquare_nan   -0.175731\n",
       "Name: Healthcare_1, dtype: float64"
      ]
     },
     "execution_count": 256,
     "metadata": {},
     "output_type": "execute_result"
    }
   ],
   "source": [
    "corr_matrix = temp_df.corr()\n",
    "\n",
    "corr_matrix['Healthcare_1'].sort_values(ascending=False)"
   ]
  },
  {
   "cell_type": "code",
   "execution_count": 257,
   "metadata": {},
   "outputs": [
    {
     "data": {
      "text/plain": [
       "Index(['Id', 'DistrictId', 'Rooms', 'Square', 'LifeSquare', 'KitchenSquare',\n",
       "       'Floor', 'HouseFloor', 'HouseYear', 'Ecology_1', 'Ecology_2',\n",
       "       'Ecology_3', 'Social_1', 'Social_2', 'Social_3', 'Healthcare_1',\n",
       "       'Helthcare_2', 'Shops_1', 'Shops_2', 'Price', 'LifeSquare_nan'],\n",
       "      dtype='object')"
      ]
     },
     "execution_count": 257,
     "metadata": {},
     "output_type": "execute_result"
    }
   ],
   "source": [
    "temp_df.columns"
   ]
  },
  {
   "cell_type": "markdown",
   "metadata": {},
   "source": [
    "Так как логично предположить, что значения признака Healthcare1 не зависят от таких атрибутов, как 'Rooms', 'Square', 'LifeSquare', 'KitchenSquare', 'Floor', 'HouseFloor', 'HouseYear', оставим только те которые, скорее всего, помогут определить пропущенные значения"
   ]
  },
  {
   "cell_type": "code",
   "execution_count": 258,
   "metadata": {},
   "outputs": [],
   "source": [
    "columns = ['Ecology_1',  'Social_1', 'Social_2', 'Social_3', 'Helthcare_2', \n",
    "           'Shops_1']\n",
    "\n",
    "for set_ in (temp_df, temp_val_df, temp_test_df):\n",
    "    set_['Health_nan'] = set_['Healthcare_1'].isna() * 1\n",
    "\n",
    "# Датсеты, в которых надо заменить пропущенные значения:\n",
    "health_train_null = temp_df[temp_df.Health_nan == 1][columns]\n",
    "health_val_null = temp_val_df[temp_val_df.Health_nan == 1][columns]\n",
    "\n",
    "health_test_null = temp_test_df[temp_test_df.Health_nan == 1][columns]"
   ]
  },
  {
   "cell_type": "markdown",
   "metadata": {},
   "source": [
    "**Обучение модели**"
   ]
  },
  {
   "cell_type": "code",
   "execution_count": 259,
   "metadata": {},
   "outputs": [],
   "source": [
    "X = temp_df[temp_df.Health_nan == 0].drop(columns='Healthcare_1')[columns]\n",
    "y = temp_df[temp_df.Health_nan == 0]['Healthcare_1']"
   ]
  },
  {
   "cell_type": "code",
   "execution_count": 260,
   "metadata": {},
   "outputs": [
    {
     "data": {
      "text/plain": [
       "((4150, 9), (4150,))"
      ]
     },
     "execution_count": 260,
     "metadata": {},
     "output_type": "execute_result"
    }
   ],
   "source": [
    "X.shape, y.shape"
   ]
  },
  {
   "cell_type": "code",
   "execution_count": 261,
   "metadata": {},
   "outputs": [],
   "source": [
    "dt_model = DecisionTreeRegressor(random_state=28)"
   ]
  },
  {
   "cell_type": "code",
   "execution_count": 262,
   "metadata": {
    "scrolled": true
   },
   "outputs": [
    {
     "data": {
      "text/plain": [
       "array([0.99989186, 1.        , 0.99799141])"
      ]
     },
     "execution_count": 262,
     "metadata": {},
     "output_type": "execute_result"
    }
   ],
   "source": [
    "cv_score_dt = cross_val_score(dt_model, X, y, scoring='r2', cv=KFold(n_splits=3, shuffle=True, random_state=28))\n",
    "cv_score_dt"
   ]
  },
  {
   "cell_type": "markdown",
   "metadata": {},
   "source": [
    "Результаты обнадёживающие, оставляем эту модель и рассчитываем с помощью неё пропущенные значения признака 'Healthcare_1'"
   ]
  },
  {
   "cell_type": "code",
   "execution_count": 263,
   "metadata": {},
   "outputs": [],
   "source": [
    "dt_model.fit(X, y)\n",
    "\n",
    "health_train_pred = dt_model.predict(health_train_null)\n",
    "health_val_pred = dt_model.predict(health_val_null)\n",
    "\n",
    "health_test_pred = dt_model.predict(health_test_null)"
   ]
  },
  {
   "cell_type": "code",
   "execution_count": 264,
   "metadata": {},
   "outputs": [
    {
     "data": {
      "text/plain": [
       "6227"
      ]
     },
     "execution_count": 264,
     "metadata": {},
     "output_type": "execute_result"
    }
   ],
   "source": [
    "len(health_train_pred) + len(health_test_pred)"
   ]
  },
  {
   "cell_type": "code",
   "execution_count": 265,
   "metadata": {},
   "outputs": [
    {
     "data": {
      "text/html": [
       "<div>\n",
       "<style scoped>\n",
       "    .dataframe tbody tr th:only-of-type {\n",
       "        vertical-align: middle;\n",
       "    }\n",
       "\n",
       "    .dataframe tbody tr th {\n",
       "        vertical-align: top;\n",
       "    }\n",
       "\n",
       "    .dataframe thead th {\n",
       "        text-align: right;\n",
       "    }\n",
       "</style>\n",
       "<table border=\"1\" class=\"dataframe\">\n",
       "  <thead>\n",
       "    <tr style=\"text-align: right;\">\n",
       "      <th></th>\n",
       "      <th>feature_name</th>\n",
       "      <th>importance</th>\n",
       "    </tr>\n",
       "  </thead>\n",
       "  <tbody>\n",
       "    <tr>\n",
       "      <th>5</th>\n",
       "      <td>Social_3</td>\n",
       "      <td>0.311802</td>\n",
       "    </tr>\n",
       "    <tr>\n",
       "      <th>4</th>\n",
       "      <td>Social_2</td>\n",
       "      <td>0.248198</td>\n",
       "    </tr>\n",
       "    <tr>\n",
       "      <th>3</th>\n",
       "      <td>Social_1</td>\n",
       "      <td>0.160854</td>\n",
       "    </tr>\n",
       "    <tr>\n",
       "      <th>0</th>\n",
       "      <td>Ecology_1</td>\n",
       "      <td>0.141030</td>\n",
       "    </tr>\n",
       "    <tr>\n",
       "      <th>7</th>\n",
       "      <td>Shops_1</td>\n",
       "      <td>0.089445</td>\n",
       "    </tr>\n",
       "    <tr>\n",
       "      <th>6</th>\n",
       "      <td>Helthcare_2</td>\n",
       "      <td>0.048613</td>\n",
       "    </tr>\n",
       "    <tr>\n",
       "      <th>8</th>\n",
       "      <td>Shops_2</td>\n",
       "      <td>0.000057</td>\n",
       "    </tr>\n",
       "    <tr>\n",
       "      <th>1</th>\n",
       "      <td>Ecology_2</td>\n",
       "      <td>0.000000</td>\n",
       "    </tr>\n",
       "    <tr>\n",
       "      <th>2</th>\n",
       "      <td>Ecology_3</td>\n",
       "      <td>0.000000</td>\n",
       "    </tr>\n",
       "  </tbody>\n",
       "</table>\n",
       "</div>"
      ],
      "text/plain": [
       "  feature_name  importance\n",
       "5     Social_3    0.311802\n",
       "4     Social_2    0.248198\n",
       "3     Social_1    0.160854\n",
       "0    Ecology_1    0.141030\n",
       "7      Shops_1    0.089445\n",
       "6  Helthcare_2    0.048613\n",
       "8      Shops_2    0.000057\n",
       "1    Ecology_2    0.000000\n",
       "2    Ecology_3    0.000000"
      ]
     },
     "execution_count": 265,
     "metadata": {},
     "output_type": "execute_result"
    }
   ],
   "source": [
    "feature_importances = pd.DataFrame(zip(X.columns, dt_model.feature_importances_), \n",
    "                                   columns=['feature_name', 'importance'])\n",
    "\n",
    "feature_importances.sort_values(by='importance', ascending=False)"
   ]
  },
  {
   "cell_type": "code",
   "execution_count": 266,
   "metadata": {},
   "outputs": [
    {
     "data": {
      "text/plain": [
       "array([  46., 1015., 1015., ...,   46., 1547.,  350.])"
      ]
     },
     "execution_count": 266,
     "metadata": {},
     "output_type": "execute_result"
    }
   ],
   "source": [
    "health_train_pred"
   ]
  },
  {
   "cell_type": "code",
   "execution_count": 267,
   "metadata": {
    "scrolled": true
   },
   "outputs": [
    {
     "data": {
      "text/plain": [
       "Int64Index([5767, 4430, 5911, 6095, 7342, 5011,  757, 4819, 4496, 9638,\n",
       "            ...\n",
       "            3268, 9246, 8207, 3373, 6398, 5285, 7369, 4497,  284, 2194],\n",
       "           dtype='int64', length=3850)"
      ]
     },
     "execution_count": 267,
     "metadata": {},
     "output_type": "execute_result"
    }
   ],
   "source": [
    "health_train_null.index"
   ]
  },
  {
   "cell_type": "markdown",
   "metadata": {},
   "source": [
    "Заполняем пропущенные значения предсказанными моделью"
   ]
  },
  {
   "cell_type": "code",
   "execution_count": 268,
   "metadata": {},
   "outputs": [],
   "source": [
    "health_train = pd.Series(health_train_pred, index=health_train_null.index)\n",
    "health_val = pd.Series(health_val_pred, index=health_val_null.index)\n",
    "\n",
    "health_test = pd.Series(health_test_pred, index=health_test_null.index)"
   ]
  },
  {
   "cell_type": "code",
   "execution_count": 269,
   "metadata": {},
   "outputs": [],
   "source": [
    "temp_df['Healthcare_1'].fillna(health_train, inplace=True)\n",
    "temp_val_df['Healthcare_1'].fillna(health_val, inplace=True)\n",
    "\n",
    "temp_test_df['Healthcare_1'].fillna(health_test, inplace=True)"
   ]
  },
  {
   "cell_type": "code",
   "execution_count": 270,
   "metadata": {},
   "outputs": [
    {
     "data": {
      "text/html": [
       "<div>\n",
       "<style scoped>\n",
       "    .dataframe tbody tr th:only-of-type {\n",
       "        vertical-align: middle;\n",
       "    }\n",
       "\n",
       "    .dataframe tbody tr th {\n",
       "        vertical-align: top;\n",
       "    }\n",
       "\n",
       "    .dataframe thead th {\n",
       "        text-align: right;\n",
       "    }\n",
       "</style>\n",
       "<table border=\"1\" class=\"dataframe\">\n",
       "  <thead>\n",
       "    <tr style=\"text-align: right;\">\n",
       "      <th></th>\n",
       "      <th>Id</th>\n",
       "      <th>DistrictId</th>\n",
       "      <th>Rooms</th>\n",
       "      <th>Square</th>\n",
       "      <th>LifeSquare</th>\n",
       "      <th>KitchenSquare</th>\n",
       "      <th>Floor</th>\n",
       "      <th>HouseFloor</th>\n",
       "      <th>HouseYear</th>\n",
       "      <th>Ecology_1</th>\n",
       "      <th>...</th>\n",
       "      <th>Social_1</th>\n",
       "      <th>Social_2</th>\n",
       "      <th>Social_3</th>\n",
       "      <th>Healthcare_1</th>\n",
       "      <th>Helthcare_2</th>\n",
       "      <th>Shops_1</th>\n",
       "      <th>Shops_2</th>\n",
       "      <th>Price</th>\n",
       "      <th>LifeSquare_nan</th>\n",
       "      <th>Health_nan</th>\n",
       "    </tr>\n",
       "  </thead>\n",
       "  <tbody>\n",
       "    <tr>\n",
       "      <th>7579</th>\n",
       "      <td>2149</td>\n",
       "      <td>62</td>\n",
       "      <td>3.0</td>\n",
       "      <td>61.586468</td>\n",
       "      <td>46.508579</td>\n",
       "      <td>6.0</td>\n",
       "      <td>7</td>\n",
       "      <td>9.0</td>\n",
       "      <td>1979</td>\n",
       "      <td>0.037178</td>\n",
       "      <td>...</td>\n",
       "      <td>52</td>\n",
       "      <td>11217</td>\n",
       "      <td>1</td>\n",
       "      <td>2300.0</td>\n",
       "      <td>1</td>\n",
       "      <td>7</td>\n",
       "      <td>1</td>\n",
       "      <td>240804.697900</td>\n",
       "      <td>0</td>\n",
       "      <td>0</td>\n",
       "    </tr>\n",
       "    <tr>\n",
       "      <th>5837</th>\n",
       "      <td>3410</td>\n",
       "      <td>87</td>\n",
       "      <td>3.0</td>\n",
       "      <td>61.052434</td>\n",
       "      <td>45.511257</td>\n",
       "      <td>6.0</td>\n",
       "      <td>3</td>\n",
       "      <td>9.0</td>\n",
       "      <td>1978</td>\n",
       "      <td>0.000000</td>\n",
       "      <td>...</td>\n",
       "      <td>39</td>\n",
       "      <td>8647</td>\n",
       "      <td>0</td>\n",
       "      <td>810.0</td>\n",
       "      <td>0</td>\n",
       "      <td>5</td>\n",
       "      <td>1</td>\n",
       "      <td>284057.268711</td>\n",
       "      <td>0</td>\n",
       "      <td>0</td>\n",
       "    </tr>\n",
       "    <tr>\n",
       "      <th>9391</th>\n",
       "      <td>16187</td>\n",
       "      <td>6</td>\n",
       "      <td>3.0</td>\n",
       "      <td>82.136953</td>\n",
       "      <td>78.136953</td>\n",
       "      <td>1.0</td>\n",
       "      <td>3</td>\n",
       "      <td>17.0</td>\n",
       "      <td>1977</td>\n",
       "      <td>0.243205</td>\n",
       "      <td>...</td>\n",
       "      <td>5</td>\n",
       "      <td>1564</td>\n",
       "      <td>0</td>\n",
       "      <td>540.0</td>\n",
       "      <td>0</td>\n",
       "      <td>0</td>\n",
       "      <td>1</td>\n",
       "      <td>214324.131855</td>\n",
       "      <td>1</td>\n",
       "      <td>0</td>\n",
       "    </tr>\n",
       "    <tr>\n",
       "      <th>313</th>\n",
       "      <td>14565</td>\n",
       "      <td>53</td>\n",
       "      <td>1.0</td>\n",
       "      <td>39.246823</td>\n",
       "      <td>35.246823</td>\n",
       "      <td>1.0</td>\n",
       "      <td>4</td>\n",
       "      <td>19.0</td>\n",
       "      <td>1977</td>\n",
       "      <td>0.049637</td>\n",
       "      <td>...</td>\n",
       "      <td>34</td>\n",
       "      <td>7759</td>\n",
       "      <td>0</td>\n",
       "      <td>229.0</td>\n",
       "      <td>1</td>\n",
       "      <td>3</td>\n",
       "      <td>1</td>\n",
       "      <td>203671.175291</td>\n",
       "      <td>1</td>\n",
       "      <td>0</td>\n",
       "    </tr>\n",
       "    <tr>\n",
       "      <th>5767</th>\n",
       "      <td>8694</td>\n",
       "      <td>8</td>\n",
       "      <td>2.0</td>\n",
       "      <td>44.966817</td>\n",
       "      <td>28.410299</td>\n",
       "      <td>6.0</td>\n",
       "      <td>3</td>\n",
       "      <td>9.0</td>\n",
       "      <td>1979</td>\n",
       "      <td>0.219006</td>\n",
       "      <td>...</td>\n",
       "      <td>28</td>\n",
       "      <td>6746</td>\n",
       "      <td>3</td>\n",
       "      <td>46.0</td>\n",
       "      <td>1</td>\n",
       "      <td>4</td>\n",
       "      <td>1</td>\n",
       "      <td>200029.483919</td>\n",
       "      <td>0</td>\n",
       "      <td>1</td>\n",
       "    </tr>\n",
       "    <tr>\n",
       "      <th>...</th>\n",
       "      <td>...</td>\n",
       "      <td>...</td>\n",
       "      <td>...</td>\n",
       "      <td>...</td>\n",
       "      <td>...</td>\n",
       "      <td>...</td>\n",
       "      <td>...</td>\n",
       "      <td>...</td>\n",
       "      <td>...</td>\n",
       "      <td>...</td>\n",
       "      <td>...</td>\n",
       "      <td>...</td>\n",
       "      <td>...</td>\n",
       "      <td>...</td>\n",
       "      <td>...</td>\n",
       "      <td>...</td>\n",
       "      <td>...</td>\n",
       "      <td>...</td>\n",
       "      <td>...</td>\n",
       "      <td>...</td>\n",
       "      <td>...</td>\n",
       "    </tr>\n",
       "    <tr>\n",
       "      <th>3414</th>\n",
       "      <td>10283</td>\n",
       "      <td>19</td>\n",
       "      <td>3.0</td>\n",
       "      <td>77.469848</td>\n",
       "      <td>48.756854</td>\n",
       "      <td>9.0</td>\n",
       "      <td>3</td>\n",
       "      <td>6.0</td>\n",
       "      <td>1957</td>\n",
       "      <td>0.309479</td>\n",
       "      <td>...</td>\n",
       "      <td>35</td>\n",
       "      <td>7715</td>\n",
       "      <td>4</td>\n",
       "      <td>990.0</td>\n",
       "      <td>0</td>\n",
       "      <td>6</td>\n",
       "      <td>1</td>\n",
       "      <td>293459.205444</td>\n",
       "      <td>0</td>\n",
       "      <td>0</td>\n",
       "    </tr>\n",
       "    <tr>\n",
       "      <th>4497</th>\n",
       "      <td>12628</td>\n",
       "      <td>78</td>\n",
       "      <td>1.0</td>\n",
       "      <td>34.307988</td>\n",
       "      <td>22.568769</td>\n",
       "      <td>6.0</td>\n",
       "      <td>6</td>\n",
       "      <td>9.0</td>\n",
       "      <td>1973</td>\n",
       "      <td>0.219006</td>\n",
       "      <td>...</td>\n",
       "      <td>28</td>\n",
       "      <td>6746</td>\n",
       "      <td>3</td>\n",
       "      <td>46.0</td>\n",
       "      <td>1</td>\n",
       "      <td>4</td>\n",
       "      <td>1</td>\n",
       "      <td>88176.739773</td>\n",
       "      <td>0</td>\n",
       "      <td>1</td>\n",
       "    </tr>\n",
       "    <tr>\n",
       "      <th>284</th>\n",
       "      <td>1724</td>\n",
       "      <td>74</td>\n",
       "      <td>1.0</td>\n",
       "      <td>36.523264</td>\n",
       "      <td>32.523264</td>\n",
       "      <td>1.0</td>\n",
       "      <td>3</td>\n",
       "      <td>17.0</td>\n",
       "      <td>1977</td>\n",
       "      <td>0.075779</td>\n",
       "      <td>...</td>\n",
       "      <td>6</td>\n",
       "      <td>1437</td>\n",
       "      <td>3</td>\n",
       "      <td>1547.0</td>\n",
       "      <td>0</td>\n",
       "      <td>2</td>\n",
       "      <td>1</td>\n",
       "      <td>127047.787553</td>\n",
       "      <td>1</td>\n",
       "      <td>1</td>\n",
       "    </tr>\n",
       "    <tr>\n",
       "      <th>2670</th>\n",
       "      <td>16381</td>\n",
       "      <td>28</td>\n",
       "      <td>1.0</td>\n",
       "      <td>35.637992</td>\n",
       "      <td>19.382057</td>\n",
       "      <td>9.0</td>\n",
       "      <td>4</td>\n",
       "      <td>12.0</td>\n",
       "      <td>1965</td>\n",
       "      <td>0.118537</td>\n",
       "      <td>...</td>\n",
       "      <td>30</td>\n",
       "      <td>6207</td>\n",
       "      <td>1</td>\n",
       "      <td>1183.0</td>\n",
       "      <td>1</td>\n",
       "      <td>0</td>\n",
       "      <td>1</td>\n",
       "      <td>184243.992920</td>\n",
       "      <td>0</td>\n",
       "      <td>0</td>\n",
       "    </tr>\n",
       "    <tr>\n",
       "      <th>2194</th>\n",
       "      <td>3159</td>\n",
       "      <td>88</td>\n",
       "      <td>0.0</td>\n",
       "      <td>38.697117</td>\n",
       "      <td>19.345131</td>\n",
       "      <td>9.0</td>\n",
       "      <td>9</td>\n",
       "      <td>16.0</td>\n",
       "      <td>1982</td>\n",
       "      <td>0.127376</td>\n",
       "      <td>...</td>\n",
       "      <td>43</td>\n",
       "      <td>8429</td>\n",
       "      <td>3</td>\n",
       "      <td>350.0</td>\n",
       "      <td>3</td>\n",
       "      <td>9</td>\n",
       "      <td>1</td>\n",
       "      <td>158998.110646</td>\n",
       "      <td>0</td>\n",
       "      <td>1</td>\n",
       "    </tr>\n",
       "  </tbody>\n",
       "</table>\n",
       "<p>8000 rows × 22 columns</p>\n",
       "</div>"
      ],
      "text/plain": [
       "         Id  DistrictId  Rooms     Square  LifeSquare  KitchenSquare  Floor  \\\n",
       "7579   2149          62    3.0  61.586468   46.508579            6.0      7   \n",
       "5837   3410          87    3.0  61.052434   45.511257            6.0      3   \n",
       "9391  16187           6    3.0  82.136953   78.136953            1.0      3   \n",
       "313   14565          53    1.0  39.246823   35.246823            1.0      4   \n",
       "5767   8694           8    2.0  44.966817   28.410299            6.0      3   \n",
       "...     ...         ...    ...        ...         ...            ...    ...   \n",
       "3414  10283          19    3.0  77.469848   48.756854            9.0      3   \n",
       "4497  12628          78    1.0  34.307988   22.568769            6.0      6   \n",
       "284    1724          74    1.0  36.523264   32.523264            1.0      3   \n",
       "2670  16381          28    1.0  35.637992   19.382057            9.0      4   \n",
       "2194   3159          88    0.0  38.697117   19.345131            9.0      9   \n",
       "\n",
       "      HouseFloor  HouseYear  Ecology_1  ...  Social_1  Social_2  Social_3  \\\n",
       "7579         9.0       1979   0.037178  ...        52     11217         1   \n",
       "5837         9.0       1978   0.000000  ...        39      8647         0   \n",
       "9391        17.0       1977   0.243205  ...         5      1564         0   \n",
       "313         19.0       1977   0.049637  ...        34      7759         0   \n",
       "5767         9.0       1979   0.219006  ...        28      6746         3   \n",
       "...          ...        ...        ...  ...       ...       ...       ...   \n",
       "3414         6.0       1957   0.309479  ...        35      7715         4   \n",
       "4497         9.0       1973   0.219006  ...        28      6746         3   \n",
       "284         17.0       1977   0.075779  ...         6      1437         3   \n",
       "2670        12.0       1965   0.118537  ...        30      6207         1   \n",
       "2194        16.0       1982   0.127376  ...        43      8429         3   \n",
       "\n",
       "      Healthcare_1  Helthcare_2  Shops_1  Shops_2          Price  \\\n",
       "7579        2300.0            1        7        1  240804.697900   \n",
       "5837         810.0            0        5        1  284057.268711   \n",
       "9391         540.0            0        0        1  214324.131855   \n",
       "313          229.0            1        3        1  203671.175291   \n",
       "5767          46.0            1        4        1  200029.483919   \n",
       "...            ...          ...      ...      ...            ...   \n",
       "3414         990.0            0        6        1  293459.205444   \n",
       "4497          46.0            1        4        1   88176.739773   \n",
       "284         1547.0            0        2        1  127047.787553   \n",
       "2670        1183.0            1        0        1  184243.992920   \n",
       "2194         350.0            3        9        1  158998.110646   \n",
       "\n",
       "      LifeSquare_nan  Health_nan  \n",
       "7579               0           0  \n",
       "5837               0           0  \n",
       "9391               1           0  \n",
       "313                1           0  \n",
       "5767               0           1  \n",
       "...              ...         ...  \n",
       "3414               0           0  \n",
       "4497               0           1  \n",
       "284                1           1  \n",
       "2670               0           0  \n",
       "2194               0           1  \n",
       "\n",
       "[8000 rows x 22 columns]"
      ]
     },
     "execution_count": 270,
     "metadata": {},
     "output_type": "execute_result"
    }
   ],
   "source": [
    "temp_df"
   ]
  },
  {
   "cell_type": "code",
   "execution_count": 271,
   "metadata": {},
   "outputs": [
    {
     "name": "stdout",
     "output_type": "stream",
     "text": [
      "0\n",
      "0\n",
      "0\n"
     ]
    }
   ],
   "source": [
    "for set_ in (temp_df, temp_val_df, temp_test_df):\n",
    "    print(set_.isna().sum().sum())"
   ]
  },
  {
   "cell_type": "markdown",
   "metadata": {},
   "source": [
    "### 2.3  Построение базовой модели и её оценка <a class='anchor' id='base_mod'>"
   ]
  },
  {
   "cell_type": "code",
   "execution_count": 272,
   "metadata": {},
   "outputs": [
    {
     "data": {
      "text/plain": [
       "Index(['Id', 'DistrictId', 'Rooms', 'Square', 'LifeSquare', 'KitchenSquare',\n",
       "       'Floor', 'HouseFloor', 'HouseYear', 'Ecology_1', 'Ecology_2',\n",
       "       'Ecology_3', 'Social_1', 'Social_2', 'Social_3', 'Healthcare_1',\n",
       "       'Helthcare_2', 'Shops_1', 'Shops_2', 'Price', 'LifeSquare_nan',\n",
       "       'Health_nan'],\n",
       "      dtype='object')"
      ]
     },
     "execution_count": 272,
     "metadata": {},
     "output_type": "execute_result"
    }
   ],
   "source": [
    "temp_df.columns"
   ]
  },
  {
   "cell_type": "code",
   "execution_count": 273,
   "metadata": {},
   "outputs": [],
   "source": [
    "feature_names = ['DistrictId', 'Rooms', 'Square', 'LifeSquare', 'KitchenSquare',\n",
    "       'Floor', 'HouseFloor', 'HouseYear', 'Ecology_1', 'Ecology_2',\n",
    "       'Ecology_3', 'Social_1', 'Social_2', 'Social_3', 'Healthcare_1',\n",
    "       'Helthcare_2', 'Shops_1', 'Shops_2', 'LifeSquare_nan',\n",
    "       'Health_nan']\n",
    "\n",
    "target_name = 'Price'"
   ]
  },
  {
   "cell_type": "code",
   "execution_count": 274,
   "metadata": {},
   "outputs": [],
   "source": [
    "X_train = temp_df[feature_names]\n",
    "y_train = temp_df[target_name]\n",
    "\n",
    "X_valid = temp_val_df[feature_names]\n",
    "y_valid = temp_val_df[target_name]"
   ]
  },
  {
   "cell_type": "code",
   "execution_count": 275,
   "metadata": {},
   "outputs": [
    {
     "data": {
      "text/plain": [
       "RandomForestRegressor(n_jobs=-1, random_state=28)"
      ]
     },
     "execution_count": 275,
     "metadata": {},
     "output_type": "execute_result"
    }
   ],
   "source": [
    "rf_model = RandomForestRegressor(random_state=28, criterion='mse', n_jobs=-1)\n",
    "rf_model.fit(X_train, y_train)"
   ]
  },
  {
   "cell_type": "code",
   "execution_count": 276,
   "metadata": {},
   "outputs": [
    {
     "name": "stdout",
     "output_type": "stream",
     "text": [
      "Train R2:\t0.962\n",
      "Test R2:\t0.741\n"
     ]
    },
    {
     "data": {
      "image/png": "[encoded data removed]",
      "text/plain": [
       "<Figure size 1296x720 with 2 Axes>"
      ]
     },
     "metadata": {},
     "output_type": "display_data"
    }
   ],
   "source": [
    "y_train_preds = rf_model.predict(X_train)\n",
    "y_test_preds = rf_model.predict(X_valid)\n",
    "\n",
    "evaluate_preds(y_train, y_train_preds, y_valid, y_test_preds)"
   ]
  },
  {
   "cell_type": "markdown",
   "metadata": {},
   "source": [
    "Базовая модель получилась переобученной"
   ]
  },
  {
   "cell_type": "code",
   "execution_count": 277,
   "metadata": {},
   "outputs": [
    {
     "data": {
      "text/html": [
       "<div>\n",
       "<style scoped>\n",
       "    .dataframe tbody tr th:only-of-type {\n",
       "        vertical-align: middle;\n",
       "    }\n",
       "\n",
       "    .dataframe tbody tr th {\n",
       "        vertical-align: top;\n",
       "    }\n",
       "\n",
       "    .dataframe thead th {\n",
       "        text-align: right;\n",
       "    }\n",
       "</style>\n",
       "<table border=\"1\" class=\"dataframe\">\n",
       "  <thead>\n",
       "    <tr style=\"text-align: right;\">\n",
       "      <th></th>\n",
       "      <th>feature_name</th>\n",
       "      <th>importance</th>\n",
       "    </tr>\n",
       "  </thead>\n",
       "  <tbody>\n",
       "    <tr>\n",
       "      <th>2</th>\n",
       "      <td>Square</td>\n",
       "      <td>0.399698</td>\n",
       "    </tr>\n",
       "    <tr>\n",
       "      <th>11</th>\n",
       "      <td>Social_1</td>\n",
       "      <td>0.134961</td>\n",
       "    </tr>\n",
       "    <tr>\n",
       "      <th>1</th>\n",
       "      <td>Rooms</td>\n",
       "      <td>0.062262</td>\n",
       "    </tr>\n",
       "    <tr>\n",
       "      <th>12</th>\n",
       "      <td>Social_2</td>\n",
       "      <td>0.059690</td>\n",
       "    </tr>\n",
       "    <tr>\n",
       "      <th>13</th>\n",
       "      <td>Social_3</td>\n",
       "      <td>0.053016</td>\n",
       "    </tr>\n",
       "    <tr>\n",
       "      <th>0</th>\n",
       "      <td>DistrictId</td>\n",
       "      <td>0.042647</td>\n",
       "    </tr>\n",
       "    <tr>\n",
       "      <th>3</th>\n",
       "      <td>LifeSquare</td>\n",
       "      <td>0.040581</td>\n",
       "    </tr>\n",
       "    <tr>\n",
       "      <th>8</th>\n",
       "      <td>Ecology_1</td>\n",
       "      <td>0.039042</td>\n",
       "    </tr>\n",
       "    <tr>\n",
       "      <th>7</th>\n",
       "      <td>HouseYear</td>\n",
       "      <td>0.036602</td>\n",
       "    </tr>\n",
       "    <tr>\n",
       "      <th>14</th>\n",
       "      <td>Healthcare_1</td>\n",
       "      <td>0.028034</td>\n",
       "    </tr>\n",
       "    <tr>\n",
       "      <th>5</th>\n",
       "      <td>Floor</td>\n",
       "      <td>0.026871</td>\n",
       "    </tr>\n",
       "    <tr>\n",
       "      <th>6</th>\n",
       "      <td>HouseFloor</td>\n",
       "      <td>0.023127</td>\n",
       "    </tr>\n",
       "    <tr>\n",
       "      <th>4</th>\n",
       "      <td>KitchenSquare</td>\n",
       "      <td>0.021344</td>\n",
       "    </tr>\n",
       "    <tr>\n",
       "      <th>16</th>\n",
       "      <td>Shops_1</td>\n",
       "      <td>0.018871</td>\n",
       "    </tr>\n",
       "    <tr>\n",
       "      <th>15</th>\n",
       "      <td>Helthcare_2</td>\n",
       "      <td>0.007644</td>\n",
       "    </tr>\n",
       "    <tr>\n",
       "      <th>19</th>\n",
       "      <td>Health_nan</td>\n",
       "      <td>0.003097</td>\n",
       "    </tr>\n",
       "    <tr>\n",
       "      <th>18</th>\n",
       "      <td>LifeSquare_nan</td>\n",
       "      <td>0.001027</td>\n",
       "    </tr>\n",
       "    <tr>\n",
       "      <th>17</th>\n",
       "      <td>Shops_2</td>\n",
       "      <td>0.000764</td>\n",
       "    </tr>\n",
       "    <tr>\n",
       "      <th>10</th>\n",
       "      <td>Ecology_3</td>\n",
       "      <td>0.000518</td>\n",
       "    </tr>\n",
       "    <tr>\n",
       "      <th>9</th>\n",
       "      <td>Ecology_2</td>\n",
       "      <td>0.000206</td>\n",
       "    </tr>\n",
       "  </tbody>\n",
       "</table>\n",
       "</div>"
      ],
      "text/plain": [
       "      feature_name  importance\n",
       "2           Square    0.399698\n",
       "11        Social_1    0.134961\n",
       "1            Rooms    0.062262\n",
       "12        Social_2    0.059690\n",
       "13        Social_3    0.053016\n",
       "0       DistrictId    0.042647\n",
       "3       LifeSquare    0.040581\n",
       "8        Ecology_1    0.039042\n",
       "7        HouseYear    0.036602\n",
       "14    Healthcare_1    0.028034\n",
       "5            Floor    0.026871\n",
       "6       HouseFloor    0.023127\n",
       "4    KitchenSquare    0.021344\n",
       "16         Shops_1    0.018871\n",
       "15     Helthcare_2    0.007644\n",
       "19      Health_nan    0.003097\n",
       "18  LifeSquare_nan    0.001027\n",
       "17         Shops_2    0.000764\n",
       "10       Ecology_3    0.000518\n",
       "9        Ecology_2    0.000206"
      ]
     },
     "execution_count": 277,
     "metadata": {},
     "output_type": "execute_result"
    }
   ],
   "source": [
    "feature_importances = pd.DataFrame(zip(X_train.columns, rf_model.feature_importances_), \n",
    "                                   columns=['feature_name', 'importance'])\n",
    "\n",
    "feature_importances.sort_values(by='importance', ascending=False)"
   ]
  },
  {
   "cell_type": "code",
   "execution_count": 278,
   "metadata": {},
   "outputs": [
    {
     "data": {
      "text/plain": [
       "(5000, 21)"
      ]
     },
     "execution_count": 278,
     "metadata": {},
     "output_type": "execute_result"
    }
   ],
   "source": [
    "temp_test_df.shape"
   ]
  },
  {
   "cell_type": "code",
   "execution_count": 279,
   "metadata": {},
   "outputs": [
    {
     "data": {
      "text/plain": [
       "(8000, 22)"
      ]
     },
     "execution_count": 279,
     "metadata": {},
     "output_type": "execute_result"
    }
   ],
   "source": [
    "temp_df.shape"
   ]
  },
  {
   "cell_type": "code",
   "execution_count": 280,
   "metadata": {},
   "outputs": [
    {
     "data": {
      "text/html": [
       "<div>\n",
       "<style scoped>\n",
       "    .dataframe tbody tr th:only-of-type {\n",
       "        vertical-align: middle;\n",
       "    }\n",
       "\n",
       "    .dataframe tbody tr th {\n",
       "        vertical-align: top;\n",
       "    }\n",
       "\n",
       "    .dataframe thead th {\n",
       "        text-align: right;\n",
       "    }\n",
       "</style>\n",
       "<table border=\"1\" class=\"dataframe\">\n",
       "  <thead>\n",
       "    <tr style=\"text-align: right;\">\n",
       "      <th></th>\n",
       "      <th>Id</th>\n",
       "      <th>Price</th>\n",
       "    </tr>\n",
       "  </thead>\n",
       "  <tbody>\n",
       "    <tr>\n",
       "      <th>0</th>\n",
       "      <td>4567</td>\n",
       "      <td>200000.0</td>\n",
       "    </tr>\n",
       "    <tr>\n",
       "      <th>1</th>\n",
       "      <td>5925</td>\n",
       "      <td>200000.0</td>\n",
       "    </tr>\n",
       "    <tr>\n",
       "      <th>2</th>\n",
       "      <td>960</td>\n",
       "      <td>200000.0</td>\n",
       "    </tr>\n",
       "    <tr>\n",
       "      <th>3</th>\n",
       "      <td>3848</td>\n",
       "      <td>200000.0</td>\n",
       "    </tr>\n",
       "    <tr>\n",
       "      <th>4</th>\n",
       "      <td>746</td>\n",
       "      <td>200000.0</td>\n",
       "    </tr>\n",
       "  </tbody>\n",
       "</table>\n",
       "</div>"
      ],
      "text/plain": [
       "     Id     Price\n",
       "0  4567  200000.0\n",
       "1  5925  200000.0\n",
       "2   960  200000.0\n",
       "3  3848  200000.0\n",
       "4   746  200000.0"
      ]
     },
     "execution_count": 280,
     "metadata": {},
     "output_type": "execute_result"
    }
   ],
   "source": [
    "submit = pd.read_csv(SUBM_PATH)\n",
    "submit.head()"
   ]
  },
  {
   "cell_type": "code",
   "execution_count": 281,
   "metadata": {},
   "outputs": [
    {
     "data": {
      "text/plain": [
       "array([161757.74441568, 116925.63281067, 139123.95399944, ...,\n",
       "       146322.08637961, 194865.98900505, 252604.78595066])"
      ]
     },
     "execution_count": 281,
     "metadata": {},
     "output_type": "execute_result"
    }
   ],
   "source": [
    "predictions = rf_model.predict(temp_test_df[feature_names])\n",
    "predictions"
   ]
  },
  {
   "cell_type": "code",
   "execution_count": 282,
   "metadata": {},
   "outputs": [
    {
     "data": {
      "text/html": [
       "<div>\n",
       "<style scoped>\n",
       "    .dataframe tbody tr th:only-of-type {\n",
       "        vertical-align: middle;\n",
       "    }\n",
       "\n",
       "    .dataframe tbody tr th {\n",
       "        vertical-align: top;\n",
       "    }\n",
       "\n",
       "    .dataframe thead th {\n",
       "        text-align: right;\n",
       "    }\n",
       "</style>\n",
       "<table border=\"1\" class=\"dataframe\">\n",
       "  <thead>\n",
       "    <tr style=\"text-align: right;\">\n",
       "      <th></th>\n",
       "      <th>Id</th>\n",
       "      <th>Price</th>\n",
       "    </tr>\n",
       "  </thead>\n",
       "  <tbody>\n",
       "    <tr>\n",
       "      <th>0</th>\n",
       "      <td>4567</td>\n",
       "      <td>161757.744416</td>\n",
       "    </tr>\n",
       "    <tr>\n",
       "      <th>1</th>\n",
       "      <td>5925</td>\n",
       "      <td>116925.632811</td>\n",
       "    </tr>\n",
       "    <tr>\n",
       "      <th>2</th>\n",
       "      <td>960</td>\n",
       "      <td>139123.953999</td>\n",
       "    </tr>\n",
       "    <tr>\n",
       "      <th>3</th>\n",
       "      <td>3848</td>\n",
       "      <td>122472.211282</td>\n",
       "    </tr>\n",
       "    <tr>\n",
       "      <th>4</th>\n",
       "      <td>746</td>\n",
       "      <td>212246.938494</td>\n",
       "    </tr>\n",
       "  </tbody>\n",
       "</table>\n",
       "</div>"
      ],
      "text/plain": [
       "     Id          Price\n",
       "0  4567  161757.744416\n",
       "1  5925  116925.632811\n",
       "2   960  139123.953999\n",
       "3  3848  122472.211282\n",
       "4   746  212246.938494"
      ]
     },
     "execution_count": 282,
     "metadata": {},
     "output_type": "execute_result"
    }
   ],
   "source": [
    "submit['Price'] = predictions\n",
    "submit.head()"
   ]
  },
  {
   "cell_type": "code",
   "execution_count": 283,
   "metadata": {},
   "outputs": [],
   "source": [
    "submit.to_csv('base_submit.csv', index=False, header = 1)"
   ]
  },
  {
   "cell_type": "code",
   "execution_count": 284,
   "metadata": {},
   "outputs": [
    {
     "name": "stdout",
     "output_type": "stream",
     "text": [
      "Результат на kaggle (Public Score): 0.73156\n"
     ]
    }
   ],
   "source": [
    "score_base_rf = 0.73156\n",
    "print('Результат на kaggle (Public Score):', score_base_rf)"
   ]
  },
  {
   "cell_type": "markdown",
   "metadata": {},
   "source": [
    "## 3. Разведочный анализ данных (EDA - Exploratory Data Analysis) <a class='anchor' id='eda'>"
   ]
  },
  {
   "cell_type": "code",
   "execution_count": null,
   "metadata": {},
   "outputs": [],
   "source": []
  },
  {
   "cell_type": "markdown",
   "metadata": {},
   "source": [
    "Стратегия замены пропущенных значений описана выше: [2.2 Замена пропущенных значений](#mis_val_base)"
   ]
  },
  {
   "cell_type": "markdown",
   "metadata": {},
   "source": [
    "### 3.1 Обработка выбросов  <a class='anchor' id='outlier'>"
   ]
  },
  {
   "cell_type": "code",
   "execution_count": 285,
   "metadata": {},
   "outputs": [],
   "source": [
    "strat_train_set['Id'] = strat_train_set['Id'].astype(str)\n",
    "strat_train_set['DistrictId'] = strat_train_set['DistrictId'].astype(str)"
   ]
  },
  {
   "cell_type": "code",
   "execution_count": 286,
   "metadata": {},
   "outputs": [],
   "source": [
    "columns = list(strat_train_set.dtypes[strat_train_set.dtypes != object].index)"
   ]
  },
  {
   "cell_type": "markdown",
   "metadata": {},
   "source": [
    "Так как среднее арифметическое чувствительно к выбросам в отличии от медианы, то можно по разности между ними судить о том, много ли выбросов в признаке."
   ]
  },
  {
   "cell_type": "code",
   "execution_count": 287,
   "metadata": {},
   "outputs": [],
   "source": [
    "lst = []\n",
    "for col in columns:\n",
    "    mn = strat_train_set[col].mean()\n",
    "    md = strat_train_set[col].median()\n",
    "    lst.append([col, mn, md, mn / md])"
   ]
  },
  {
   "cell_type": "code",
   "execution_count": 288,
   "metadata": {},
   "outputs": [
    {
     "data": {
      "text/html": [
       "<div>\n",
       "<style scoped>\n",
       "    .dataframe tbody tr th:only-of-type {\n",
       "        vertical-align: middle;\n",
       "    }\n",
       "\n",
       "    .dataframe tbody tr th {\n",
       "        vertical-align: top;\n",
       "    }\n",
       "\n",
       "    .dataframe thead th {\n",
       "        text-align: right;\n",
       "    }\n",
       "</style>\n",
       "<table border=\"1\" class=\"dataframe\">\n",
       "  <thead>\n",
       "    <tr style=\"text-align: right;\">\n",
       "      <th></th>\n",
       "      <th>Feature</th>\n",
       "      <th>mean</th>\n",
       "      <th>median</th>\n",
       "      <th>delta</th>\n",
       "    </tr>\n",
       "  </thead>\n",
       "  <tbody>\n",
       "    <tr>\n",
       "      <th>10</th>\n",
       "      <td>Social_3</td>\n",
       "      <td>7.915875</td>\n",
       "      <td>2.000000</td>\n",
       "      <td>3.957937</td>\n",
       "    </tr>\n",
       "    <tr>\n",
       "      <th>6</th>\n",
       "      <td>HouseYear</td>\n",
       "      <td>4491.296500</td>\n",
       "      <td>1977.000000</td>\n",
       "      <td>2.271774</td>\n",
       "    </tr>\n",
       "    <tr>\n",
       "      <th>7</th>\n",
       "      <td>Ecology_1</td>\n",
       "      <td>0.119954</td>\n",
       "      <td>0.075779</td>\n",
       "      <td>1.582949</td>\n",
       "    </tr>\n",
       "    <tr>\n",
       "      <th>13</th>\n",
       "      <td>Shops_1</td>\n",
       "      <td>4.177250</td>\n",
       "      <td>3.000000</td>\n",
       "      <td>1.392417</td>\n",
       "    </tr>\n",
       "    <tr>\n",
       "      <th>12</th>\n",
       "      <td>Helthcare_2</td>\n",
       "      <td>1.322375</td>\n",
       "      <td>1.000000</td>\n",
       "      <td>1.322375</td>\n",
       "    </tr>\n",
       "    <tr>\n",
       "      <th>11</th>\n",
       "      <td>Healthcare_1</td>\n",
       "      <td>1153.841446</td>\n",
       "      <td>900.000000</td>\n",
       "      <td>1.282046</td>\n",
       "    </tr>\n",
       "    <tr>\n",
       "      <th>4</th>\n",
       "      <td>Floor</td>\n",
       "      <td>8.530875</td>\n",
       "      <td>7.000000</td>\n",
       "      <td>1.218696</td>\n",
       "    </tr>\n",
       "    <tr>\n",
       "      <th>14</th>\n",
       "      <td>Price</td>\n",
       "      <td>213921.270870</td>\n",
       "      <td>191777.349232</td>\n",
       "      <td>1.115467</td>\n",
       "    </tr>\n",
       "    <tr>\n",
       "      <th>2</th>\n",
       "      <td>LifeSquare</td>\n",
       "      <td>36.265409</td>\n",
       "      <td>32.729196</td>\n",
       "      <td>1.108045</td>\n",
       "    </tr>\n",
       "    <tr>\n",
       "      <th>1</th>\n",
       "      <td>Square</td>\n",
       "      <td>56.314587</td>\n",
       "      <td>52.456064</td>\n",
       "      <td>1.073557</td>\n",
       "    </tr>\n",
       "    <tr>\n",
       "      <th>3</th>\n",
       "      <td>KitchenSquare</td>\n",
       "      <td>6.351875</td>\n",
       "      <td>6.000000</td>\n",
       "      <td>1.058646</td>\n",
       "    </tr>\n",
       "    <tr>\n",
       "      <th>5</th>\n",
       "      <td>HouseFloor</td>\n",
       "      <td>12.604250</td>\n",
       "      <td>12.000000</td>\n",
       "      <td>1.050354</td>\n",
       "    </tr>\n",
       "    <tr>\n",
       "      <th>9</th>\n",
       "      <td>Social_2</td>\n",
       "      <td>5309.726875</td>\n",
       "      <td>5285.000000</td>\n",
       "      <td>1.004679</td>\n",
       "    </tr>\n",
       "    <tr>\n",
       "      <th>8</th>\n",
       "      <td>Social_1</td>\n",
       "      <td>24.539750</td>\n",
       "      <td>25.000000</td>\n",
       "      <td>0.981590</td>\n",
       "    </tr>\n",
       "    <tr>\n",
       "      <th>0</th>\n",
       "      <td>Rooms</td>\n",
       "      <td>1.888125</td>\n",
       "      <td>2.000000</td>\n",
       "      <td>0.944063</td>\n",
       "    </tr>\n",
       "  </tbody>\n",
       "</table>\n",
       "</div>"
      ],
      "text/plain": [
       "          Feature           mean         median     delta\n",
       "10       Social_3       7.915875       2.000000  3.957937\n",
       "6       HouseYear    4491.296500    1977.000000  2.271774\n",
       "7       Ecology_1       0.119954       0.075779  1.582949\n",
       "13        Shops_1       4.177250       3.000000  1.392417\n",
       "12    Helthcare_2       1.322375       1.000000  1.322375\n",
       "11   Healthcare_1    1153.841446     900.000000  1.282046\n",
       "4           Floor       8.530875       7.000000  1.218696\n",
       "14          Price  213921.270870  191777.349232  1.115467\n",
       "2      LifeSquare      36.265409      32.729196  1.108045\n",
       "1          Square      56.314587      52.456064  1.073557\n",
       "3   KitchenSquare       6.351875       6.000000  1.058646\n",
       "5      HouseFloor      12.604250      12.000000  1.050354\n",
       "9        Social_2    5309.726875    5285.000000  1.004679\n",
       "8        Social_1      24.539750      25.000000  0.981590\n",
       "0           Rooms       1.888125       2.000000  0.944063"
      ]
     },
     "execution_count": 288,
     "metadata": {},
     "output_type": "execute_result"
    }
   ],
   "source": [
    "mn_md_df = pd.DataFrame(lst, columns = ['Feature', 'mean', 'median', 'delta'])\n",
    "mn_md_df.sort_values(by='delta', ascending=False)"
   ]
  },
  {
   "cell_type": "code",
   "execution_count": 289,
   "metadata": {},
   "outputs": [
    {
     "data": {
      "text/plain": [
       "<AxesSubplot:>"
      ]
     },
     "execution_count": 289,
     "metadata": {},
     "output_type": "execute_result"
    },
    {
     "data": {
      "image/png": "[encoded data removed]",
      "text/plain": [
       "<Figure size 432x288 with 1 Axes>"
      ]
     },
     "metadata": {},
     "output_type": "display_data"
    }
   ],
   "source": [
    "strat_train_set['Social_3'].hist(bins=100)"
   ]
  },
  {
   "cell_type": "code",
   "execution_count": 290,
   "metadata": {
    "scrolled": true
   },
   "outputs": [
    {
     "data": {
      "text/plain": [
       "{'104', '174', '189', '30', '4', '43'}"
      ]
     },
     "execution_count": 290,
     "metadata": {},
     "output_type": "execute_result"
    }
   ],
   "source": [
    "set(strat_train_set[strat_train_set['Social_3']==141].DistrictId)"
   ]
  },
  {
   "cell_type": "markdown",
   "metadata": {},
   "source": [
    "#### 3.1.1 HouseYear  <a class='anchor' id='HouseYear'>"
   ]
  },
  {
   "cell_type": "code",
   "execution_count": 291,
   "metadata": {},
   "outputs": [
    {
     "data": {
      "image/png": "[encoded data removed]",
      "text/plain": [
       "<Figure size 432x288 with 1 Axes>"
      ]
     },
     "metadata": {},
     "output_type": "display_data"
    }
   ],
   "source": [
    "plt.hist(strat_train_set['HouseYear'], bins=100, log=True)\n",
    "plt.show()"
   ]
  },
  {
   "cell_type": "code",
   "execution_count": 292,
   "metadata": {},
   "outputs": [
    {
     "data": {
      "text/plain": [
       "9163    20052011\n",
       "8828        4968\n",
       "6073        2020\n",
       "5412        2020\n",
       "1976        2020\n",
       "          ...   \n",
       "485         1917\n",
       "7610        1916\n",
       "2066        1912\n",
       "2795        1912\n",
       "6794        1910\n",
       "Name: HouseYear, Length: 8000, dtype: int64"
      ]
     },
     "execution_count": 292,
     "metadata": {},
     "output_type": "execute_result"
    }
   ],
   "source": [
    "strat_train_set['HouseYear'].sort_values(ascending=False)"
   ]
  },
  {
   "cell_type": "code",
   "execution_count": 293,
   "metadata": {},
   "outputs": [
    {
     "data": {
      "text/html": [
       "<div>\n",
       "<style scoped>\n",
       "    .dataframe tbody tr th:only-of-type {\n",
       "        vertical-align: middle;\n",
       "    }\n",
       "\n",
       "    .dataframe tbody tr th {\n",
       "        vertical-align: top;\n",
       "    }\n",
       "\n",
       "    .dataframe thead th {\n",
       "        text-align: right;\n",
       "    }\n",
       "</style>\n",
       "<table border=\"1\" class=\"dataframe\">\n",
       "  <thead>\n",
       "    <tr style=\"text-align: right;\">\n",
       "      <th></th>\n",
       "      <th>Id</th>\n",
       "      <th>DistrictId</th>\n",
       "      <th>Rooms</th>\n",
       "      <th>Square</th>\n",
       "      <th>LifeSquare</th>\n",
       "      <th>KitchenSquare</th>\n",
       "      <th>Floor</th>\n",
       "      <th>HouseFloor</th>\n",
       "      <th>HouseYear</th>\n",
       "      <th>Ecology_1</th>\n",
       "      <th>Ecology_2</th>\n",
       "      <th>Ecology_3</th>\n",
       "      <th>Social_1</th>\n",
       "      <th>Social_2</th>\n",
       "      <th>Social_3</th>\n",
       "      <th>Healthcare_1</th>\n",
       "      <th>Helthcare_2</th>\n",
       "      <th>Shops_1</th>\n",
       "      <th>Shops_2</th>\n",
       "      <th>Price</th>\n",
       "    </tr>\n",
       "  </thead>\n",
       "  <tbody>\n",
       "    <tr>\n",
       "      <th>8828</th>\n",
       "      <td>11607</td>\n",
       "      <td>147</td>\n",
       "      <td>2.0</td>\n",
       "      <td>44.791836</td>\n",
       "      <td>28.360393</td>\n",
       "      <td>5.0</td>\n",
       "      <td>4</td>\n",
       "      <td>9.0</td>\n",
       "      <td>4968</td>\n",
       "      <td>0.319809</td>\n",
       "      <td>B</td>\n",
       "      <td>B</td>\n",
       "      <td>25</td>\n",
       "      <td>4756</td>\n",
       "      <td>16</td>\n",
       "      <td>2857.0</td>\n",
       "      <td>5</td>\n",
       "      <td>8</td>\n",
       "      <td>B</td>\n",
       "      <td>243028.603096</td>\n",
       "    </tr>\n",
       "    <tr>\n",
       "      <th>9163</th>\n",
       "      <td>10814</td>\n",
       "      <td>109</td>\n",
       "      <td>1.0</td>\n",
       "      <td>37.265070</td>\n",
       "      <td>20.239714</td>\n",
       "      <td>9.0</td>\n",
       "      <td>9</td>\n",
       "      <td>12.0</td>\n",
       "      <td>20052011</td>\n",
       "      <td>0.136330</td>\n",
       "      <td>B</td>\n",
       "      <td>B</td>\n",
       "      <td>30</td>\n",
       "      <td>6141</td>\n",
       "      <td>10</td>\n",
       "      <td>262.0</td>\n",
       "      <td>3</td>\n",
       "      <td>6</td>\n",
       "      <td>B</td>\n",
       "      <td>254084.534396</td>\n",
       "    </tr>\n",
       "  </tbody>\n",
       "</table>\n",
       "</div>"
      ],
      "text/plain": [
       "         Id DistrictId  Rooms     Square  LifeSquare  KitchenSquare  Floor  \\\n",
       "8828  11607        147    2.0  44.791836   28.360393            5.0      4   \n",
       "9163  10814        109    1.0  37.265070   20.239714            9.0      9   \n",
       "\n",
       "      HouseFloor  HouseYear  Ecology_1 Ecology_2 Ecology_3  Social_1  \\\n",
       "8828         9.0       4968   0.319809         B         B        25   \n",
       "9163        12.0   20052011   0.136330         B         B        30   \n",
       "\n",
       "      Social_2  Social_3  Healthcare_1  Helthcare_2  Shops_1 Shops_2  \\\n",
       "8828      4756        16        2857.0            5        8       B   \n",
       "9163      6141        10         262.0            3        6       B   \n",
       "\n",
       "              Price  \n",
       "8828  243028.603096  \n",
       "9163  254084.534396  "
      ]
     },
     "execution_count": 293,
     "metadata": {},
     "output_type": "execute_result"
    }
   ],
   "source": [
    "strat_train_set[strat_train_set['HouseYear'] > 2020]"
   ]
  },
  {
   "cell_type": "code",
   "execution_count": 294,
   "metadata": {
    "scrolled": true
   },
   "outputs": [],
   "source": [
    "strat_train_set.loc[strat_train_set['HouseYear'] == 20052011, 'HouseYear'] = 2011\n",
    "strat_train_set.loc[strat_train_set['HouseYear'] == 4968, 'HouseYear'] = 1968"
   ]
  },
  {
   "cell_type": "markdown",
   "metadata": {},
   "source": [
    "#### 3.1.2 HouseFloor, Floor  <a class='anchor' id='Floor'>"
   ]
  },
  {
   "cell_type": "code",
   "execution_count": 295,
   "metadata": {},
   "outputs": [
    {
     "data": {
      "text/plain": [
       "array([  0.,   1.,   2.,   3.,   4.,   5.,   6.,   7.,   8.,   9.,  10.,\n",
       "        11.,  12.,  13.,  14.,  15.,  16.,  17.,  18.,  19.,  20.,  21.,\n",
       "        22.,  23.,  24.,  25.,  26.,  27.,  28.,  29.,  30.,  32.,  37.,\n",
       "        38.,  39.,  40.,  44.,  47.,  48.,  99., 117.])"
      ]
     },
     "execution_count": 295,
     "metadata": {},
     "output_type": "execute_result"
    }
   ],
   "source": [
    "strat_train_set['HouseFloor'].sort_values().unique()"
   ]
  },
  {
   "cell_type": "code",
   "execution_count": 296,
   "metadata": {},
   "outputs": [
    {
     "data": {
      "text/plain": [
       "array([  0.,   1.,   2.,   3.,   4.,   5.,   6.,   7.,   8.,   9.,  10.,\n",
       "        11.,  12.,  13.,  14.,  15.,  16.,  17.,  18.,  19.,  20.,  21.,\n",
       "        22.,  23.,  24.,  25.,  30.,  40.,  99., 117.])"
      ]
     },
     "execution_count": 296,
     "metadata": {},
     "output_type": "execute_result"
    }
   ],
   "source": [
    "strat_train_set[strat_train_set.HouseYear < 2000]['HouseFloor'].sort_values().unique()"
   ]
  },
  {
   "cell_type": "markdown",
   "metadata": {},
   "source": [
    "В признаке 'HouseFloor' явно выбросы, особенно если учесть, что до 2003 самым высоким жилым зданием в Москве был Жилой дом на Котельнической набережной этажностью 32"
   ]
  },
  {
   "cell_type": "code",
   "execution_count": 89,
   "metadata": {},
   "outputs": [
    {
     "data": {
      "text/plain": [
       "array([ 1,  2,  3,  4,  5,  6,  7,  8,  9, 10, 11, 12, 13, 14, 15, 16, 17,\n",
       "       18, 19, 20, 21, 22, 23, 24, 25, 26, 27, 28, 31, 32, 33, 37, 42],\n",
       "      dtype=int64)"
      ]
     },
     "execution_count": 89,
     "metadata": {},
     "output_type": "execute_result"
    }
   ],
   "source": [
    "strat_train_set['Floor'].sort_values().unique()"
   ]
  },
  {
   "cell_type": "code",
   "execution_count": 223,
   "metadata": {},
   "outputs": [
    {
     "data": {
      "text/plain": [
       "array([ 1,  2,  3,  4,  5,  6,  7,  8,  9, 10, 11, 12, 13, 14, 15, 16, 17,\n",
       "       18, 19, 20, 21, 22, 23, 24, 25, 26, 27, 33], dtype=int64)"
      ]
     },
     "execution_count": 223,
     "metadata": {},
     "output_type": "execute_result"
    }
   ],
   "source": [
    "strat_train_set[strat_train_set.HouseYear < 2000]['Floor'].sort_values().unique()"
   ]
  },
  {
   "cell_type": "markdown",
   "metadata": {},
   "source": [
    "Значения признака 'Floor' выглядят адекватно. Ничего с ним делать не будем"
   ]
  },
  {
   "cell_type": "code",
   "execution_count": 298,
   "metadata": {},
   "outputs": [
    {
     "data": {
      "text/plain": [
       "1468"
      ]
     },
     "execution_count": 298,
     "metadata": {},
     "output_type": "execute_result"
    }
   ],
   "source": [
    "(strat_train_set['Floor'] > strat_train_set['HouseFloor']).sum()"
   ]
  },
  {
   "cell_type": "markdown",
   "metadata": {},
   "source": [
    "Также придётся побороться со значениями в которых этаж, на котором находится квартира, выше этжности дома. В таких случаях будем просто заменять этажность дома на значение атрибута 'Floor'."
   ]
  },
  {
   "cell_type": "code",
   "execution_count": 300,
   "metadata": {},
   "outputs": [
    {
     "data": {
      "text/html": [
       "<div>\n",
       "<style scoped>\n",
       "    .dataframe tbody tr th:only-of-type {\n",
       "        vertical-align: middle;\n",
       "    }\n",
       "\n",
       "    .dataframe tbody tr th {\n",
       "        vertical-align: top;\n",
       "    }\n",
       "\n",
       "    .dataframe thead th {\n",
       "        text-align: right;\n",
       "    }\n",
       "</style>\n",
       "<table border=\"1\" class=\"dataframe\">\n",
       "  <thead>\n",
       "    <tr style=\"text-align: right;\">\n",
       "      <th></th>\n",
       "      <th>Id</th>\n",
       "      <th>DistrictId</th>\n",
       "      <th>Rooms</th>\n",
       "      <th>Square</th>\n",
       "      <th>LifeSquare</th>\n",
       "      <th>KitchenSquare</th>\n",
       "      <th>Floor</th>\n",
       "      <th>HouseFloor</th>\n",
       "      <th>HouseYear</th>\n",
       "      <th>Ecology_1</th>\n",
       "      <th>Ecology_2</th>\n",
       "      <th>Ecology_3</th>\n",
       "      <th>Social_1</th>\n",
       "      <th>Social_2</th>\n",
       "      <th>Social_3</th>\n",
       "      <th>Healthcare_1</th>\n",
       "      <th>Helthcare_2</th>\n",
       "      <th>Shops_1</th>\n",
       "      <th>Shops_2</th>\n",
       "      <th>Price</th>\n",
       "    </tr>\n",
       "  </thead>\n",
       "  <tbody>\n",
       "    <tr>\n",
       "      <th>1026</th>\n",
       "      <td>7275</td>\n",
       "      <td>95</td>\n",
       "      <td>4.0</td>\n",
       "      <td>99.039161</td>\n",
       "      <td>71.575839</td>\n",
       "      <td>11.0</td>\n",
       "      <td>2</td>\n",
       "      <td>3.0</td>\n",
       "      <td>1942</td>\n",
       "      <td>0.000699</td>\n",
       "      <td>B</td>\n",
       "      <td>B</td>\n",
       "      <td>14</td>\n",
       "      <td>3369</td>\n",
       "      <td>24</td>\n",
       "      <td>4129.0</td>\n",
       "      <td>0</td>\n",
       "      <td>3</td>\n",
       "      <td>B</td>\n",
       "      <td>624156.003381</td>\n",
       "    </tr>\n",
       "    <tr>\n",
       "      <th>8434</th>\n",
       "      <td>11017</td>\n",
       "      <td>101</td>\n",
       "      <td>3.0</td>\n",
       "      <td>55.476882</td>\n",
       "      <td>37.698072</td>\n",
       "      <td>6.0</td>\n",
       "      <td>7</td>\n",
       "      <td>3.0</td>\n",
       "      <td>1959</td>\n",
       "      <td>0.225825</td>\n",
       "      <td>A</td>\n",
       "      <td>B</td>\n",
       "      <td>41</td>\n",
       "      <td>6558</td>\n",
       "      <td>7</td>\n",
       "      <td>1548.0</td>\n",
       "      <td>3</td>\n",
       "      <td>2</td>\n",
       "      <td>B</td>\n",
       "      <td>118410.974059</td>\n",
       "    </tr>\n",
       "    <tr>\n",
       "      <th>3391</th>\n",
       "      <td>1494</td>\n",
       "      <td>124</td>\n",
       "      <td>3.0</td>\n",
       "      <td>70.363852</td>\n",
       "      <td>47.861824</td>\n",
       "      <td>7.0</td>\n",
       "      <td>3</td>\n",
       "      <td>3.0</td>\n",
       "      <td>1952</td>\n",
       "      <td>0.169091</td>\n",
       "      <td>B</td>\n",
       "      <td>B</td>\n",
       "      <td>19</td>\n",
       "      <td>3856</td>\n",
       "      <td>10</td>\n",
       "      <td>NaN</td>\n",
       "      <td>2</td>\n",
       "      <td>5</td>\n",
       "      <td>B</td>\n",
       "      <td>259143.174754</td>\n",
       "    </tr>\n",
       "    <tr>\n",
       "      <th>2314</th>\n",
       "      <td>7505</td>\n",
       "      <td>2</td>\n",
       "      <td>2.0</td>\n",
       "      <td>53.055026</td>\n",
       "      <td>26.925534</td>\n",
       "      <td>7.0</td>\n",
       "      <td>5</td>\n",
       "      <td>3.0</td>\n",
       "      <td>1955</td>\n",
       "      <td>0.035145</td>\n",
       "      <td>B</td>\n",
       "      <td>B</td>\n",
       "      <td>42</td>\n",
       "      <td>9292</td>\n",
       "      <td>3</td>\n",
       "      <td>2620.0</td>\n",
       "      <td>0</td>\n",
       "      <td>3</td>\n",
       "      <td>B</td>\n",
       "      <td>212894.088951</td>\n",
       "    </tr>\n",
       "    <tr>\n",
       "      <th>5509</th>\n",
       "      <td>9454</td>\n",
       "      <td>22</td>\n",
       "      <td>2.0</td>\n",
       "      <td>50.072347</td>\n",
       "      <td>33.357161</td>\n",
       "      <td>7.0</td>\n",
       "      <td>3</td>\n",
       "      <td>3.0</td>\n",
       "      <td>1951</td>\n",
       "      <td>0.118537</td>\n",
       "      <td>B</td>\n",
       "      <td>B</td>\n",
       "      <td>30</td>\n",
       "      <td>6207</td>\n",
       "      <td>1</td>\n",
       "      <td>1183.0</td>\n",
       "      <td>1</td>\n",
       "      <td>0</td>\n",
       "      <td>B</td>\n",
       "      <td>193062.427929</td>\n",
       "    </tr>\n",
       "    <tr>\n",
       "      <th>2103</th>\n",
       "      <td>4671</td>\n",
       "      <td>124</td>\n",
       "      <td>2.0</td>\n",
       "      <td>61.875122</td>\n",
       "      <td>37.481412</td>\n",
       "      <td>9.0</td>\n",
       "      <td>2</td>\n",
       "      <td>3.0</td>\n",
       "      <td>1952</td>\n",
       "      <td>0.169091</td>\n",
       "      <td>B</td>\n",
       "      <td>B</td>\n",
       "      <td>19</td>\n",
       "      <td>3856</td>\n",
       "      <td>10</td>\n",
       "      <td>NaN</td>\n",
       "      <td>2</td>\n",
       "      <td>5</td>\n",
       "      <td>B</td>\n",
       "      <td>306525.883704</td>\n",
       "    </tr>\n",
       "    <tr>\n",
       "      <th>7106</th>\n",
       "      <td>7018</td>\n",
       "      <td>120</td>\n",
       "      <td>3.0</td>\n",
       "      <td>87.848494</td>\n",
       "      <td>56.589076</td>\n",
       "      <td>11.0</td>\n",
       "      <td>2</td>\n",
       "      <td>3.0</td>\n",
       "      <td>1931</td>\n",
       "      <td>0.341072</td>\n",
       "      <td>B</td>\n",
       "      <td>B</td>\n",
       "      <td>27</td>\n",
       "      <td>5664</td>\n",
       "      <td>48</td>\n",
       "      <td>2300.0</td>\n",
       "      <td>3</td>\n",
       "      <td>11</td>\n",
       "      <td>B</td>\n",
       "      <td>402075.431031</td>\n",
       "    </tr>\n",
       "  </tbody>\n",
       "</table>\n",
       "</div>"
      ],
      "text/plain": [
       "         Id DistrictId  Rooms     Square  LifeSquare  KitchenSquare  Floor  \\\n",
       "1026   7275         95    4.0  99.039161   71.575839           11.0      2   \n",
       "8434  11017        101    3.0  55.476882   37.698072            6.0      7   \n",
       "3391   1494        124    3.0  70.363852   47.861824            7.0      3   \n",
       "2314   7505          2    2.0  53.055026   26.925534            7.0      5   \n",
       "5509   9454         22    2.0  50.072347   33.357161            7.0      3   \n",
       "2103   4671        124    2.0  61.875122   37.481412            9.0      2   \n",
       "7106   7018        120    3.0  87.848494   56.589076           11.0      2   \n",
       "\n",
       "      HouseFloor  HouseYear  Ecology_1 Ecology_2 Ecology_3  Social_1  \\\n",
       "1026         3.0       1942   0.000699         B         B        14   \n",
       "8434         3.0       1959   0.225825         A         B        41   \n",
       "3391         3.0       1952   0.169091         B         B        19   \n",
       "2314         3.0       1955   0.035145         B         B        42   \n",
       "5509         3.0       1951   0.118537         B         B        30   \n",
       "2103         3.0       1952   0.169091         B         B        19   \n",
       "7106         3.0       1931   0.341072         B         B        27   \n",
       "\n",
       "      Social_2  Social_3  Healthcare_1  Helthcare_2  Shops_1 Shops_2  \\\n",
       "1026      3369        24        4129.0            0        3       B   \n",
       "8434      6558         7        1548.0            3        2       B   \n",
       "3391      3856        10           NaN            2        5       B   \n",
       "2314      9292         3        2620.0            0        3       B   \n",
       "5509      6207         1        1183.0            1        0       B   \n",
       "2103      3856        10           NaN            2        5       B   \n",
       "7106      5664        48        2300.0            3       11       B   \n",
       "\n",
       "              Price  \n",
       "1026  624156.003381  \n",
       "8434  118410.974059  \n",
       "3391  259143.174754  \n",
       "2314  212894.088951  \n",
       "5509  193062.427929  \n",
       "2103  306525.883704  \n",
       "7106  402075.431031  "
      ]
     },
     "execution_count": 300,
     "metadata": {},
     "output_type": "execute_result"
    }
   ],
   "source": [
    "strat_train_set.loc[(strat_train_set['HouseFloor'] < 4) & (strat_train_set.HouseYear < 1960)]"
   ]
  },
  {
   "cell_type": "markdown",
   "metadata": {},
   "source": [
    "Врядли после 1960 года в Москве строили 1-, 2- этажные дома. А в этом наборе данных нет таких домов, построенных до 1960. Поэтому 1-, 2- этажные дома будем считать выбросом."
   ]
  },
  {
   "cell_type": "code",
   "execution_count": 140,
   "metadata": {},
   "outputs": [],
   "source": [
    "strat_train_set['HouseFloor_outlier'] = 0\n",
    "strat_train_set.loc[strat_train_set['HouseFloor'] < 3, 'HouseFloor_outlier'] = 1\n",
    "strat_train_set.loc[strat_train_set['Floor'] > strat_train_set['HouseFloor'], 'HouseFloor_outlier'] = 1\n",
    "strat_train_set.loc[(strat_train_set.HouseYear < 2002) & (strat_train_set.HouseFloor > 32), 'HouseFloor_outlier'] = 1"
   ]
  },
  {
   "cell_type": "markdown",
   "metadata": {},
   "source": [
    "Из выбросов сделаем пропущенные значения"
   ]
  },
  {
   "cell_type": "code",
   "execution_count": 141,
   "metadata": {},
   "outputs": [],
   "source": [
    "strat_train_set.loc[strat_train_set['HouseFloor_outlier'] == 1, 'HouseFloor'] = np.nan"
   ]
  },
  {
   "cell_type": "markdown",
   "metadata": {},
   "source": [
    "Заменять пропущенные значения средней этажностью домов такого же года постройки"
   ]
  },
  {
   "cell_type": "code",
   "execution_count": 301,
   "metadata": {},
   "outputs": [],
   "source": [
    "strat_train_set['HouseFloor'].fillna(\n",
    "   strat_train_set.groupby(['HouseYear'])['HouseFloor'].transform(lambda x: np.rint(x.mean())\n",
    "    ), inplace=True)\n",
    "\n",
    "# оставшиеся nan заменим значением 'Floor'\n",
    "exp['HouseFloor'].fillna(strat_train_set.Floor, inplace=True)"
   ]
  },
  {
   "cell_type": "code",
   "execution_count": 302,
   "metadata": {},
   "outputs": [
    {
     "data": {
      "text/plain": [
       "1468"
      ]
     },
     "execution_count": 302,
     "metadata": {},
     "output_type": "execute_result"
    }
   ],
   "source": [
    "(strat_train_set['Floor'] > strat_train_set['HouseFloor']).sum()"
   ]
  },
  {
   "cell_type": "code",
   "execution_count": 303,
   "metadata": {},
   "outputs": [],
   "source": [
    "strat_train_set.loc[strat_train_set['Floor'] > strat_train_set['HouseFloor'], \n",
    "                    'HouseFloor'] = strat_train_set.Floor"
   ]
  },
  {
   "cell_type": "code",
   "execution_count": 304,
   "metadata": {},
   "outputs": [
    {
     "data": {
      "text/plain": [
       "0"
      ]
     },
     "execution_count": 304,
     "metadata": {},
     "output_type": "execute_result"
    }
   ],
   "source": [
    "(strat_train_set['Floor'] > strat_train_set['HouseFloor']).sum()"
   ]
  },
  {
   "cell_type": "code",
   "execution_count": 305,
   "metadata": {},
   "outputs": [
    {
     "data": {
      "text/plain": [
       "0"
      ]
     },
     "execution_count": 305,
     "metadata": {},
     "output_type": "execute_result"
    }
   ],
   "source": [
    "strat_train_set['HouseFloor'].isna().sum()"
   ]
  },
  {
   "cell_type": "markdown",
   "metadata": {},
   "source": [
    "#### 3.1.3 KitchenSquare  <a class='anchor' id='KitchenSquare'> "
   ]
  },
  {
   "cell_type": "code",
   "execution_count": 307,
   "metadata": {},
   "outputs": [
    {
     "data": {
      "text/plain": [
       "1.0       1976\n",
       "8.0       1027\n",
       "5.0        937\n",
       "10.0       853\n",
       "6.0        842\n",
       "9.0        669\n",
       "0.0        559\n",
       "7.0        493\n",
       "12.0       208\n",
       "11.0       182\n",
       "13.0        52\n",
       "14.0        41\n",
       "4.0         31\n",
       "15.0        27\n",
       "3.0         16\n",
       "16.0        13\n",
       "20.0        12\n",
       "17.0         9\n",
       "19.0         7\n",
       "18.0         5\n",
       "30.0         2\n",
       "2.0          2\n",
       "51.0         2\n",
       "37.0         2\n",
       "58.0         2\n",
       "41.0         2\n",
       "22.0         2\n",
       "36.0         1\n",
       "26.0         1\n",
       "48.0         1\n",
       "2014.0       1\n",
       "40.0         1\n",
       "23.0         1\n",
       "35.0         1\n",
       "123.0        1\n",
       "78.0         1\n",
       "54.0         1\n",
       "27.0         1\n",
       "29.0         1\n",
       "25.0         1\n",
       "62.0         1\n",
       "31.0         1\n",
       "63.0         1\n",
       "112.0        1\n",
       "21.0         1\n",
       "42.0         1\n",
       "75.0         1\n",
       "39.0         1\n",
       "73.0         1\n",
       "1970.0       1\n",
       "32.0         1\n",
       "72.0         1\n",
       "43.0         1\n",
       "60.0         1\n",
       "Name: KitchenSquare, dtype: int64"
      ]
     },
     "execution_count": 307,
     "metadata": {},
     "output_type": "execute_result"
    }
   ],
   "source": [
    "strat_train_set['KitchenSquare'].value_counts()"
   ]
  },
  {
   "cell_type": "code",
   "execution_count": 309,
   "metadata": {},
   "outputs": [
    {
     "data": {
      "text/plain": [
       "(13.0, 0.0)"
      ]
     },
     "execution_count": 309,
     "metadata": {},
     "output_type": "execute_result"
    }
   ],
   "source": [
    "strat_train_set['KitchenSquare'].quantile(.975), strat_train_set['KitchenSquare'].quantile(.025)"
   ]
  },
  {
   "cell_type": "code",
   "execution_count": 310,
   "metadata": {},
   "outputs": [],
   "source": [
    "condition = (strat_train_set['KitchenSquare'].isna()) \\\n",
    "             | (strat_train_set['KitchenSquare'] > strat_train_set['KitchenSquare'].quantile(.975))\n",
    "        \n",
    "strat_train_set.loc[condition, 'KitchenSquare'] = strat_train_set['KitchenSquare'].median()\n",
    "\n",
    "strat_train_set.loc[strat_train_set['KitchenSquare'] < 3, 'KitchenSquare'] = 3"
   ]
  },
  {
   "cell_type": "code",
   "execution_count": 311,
   "metadata": {},
   "outputs": [
    {
     "data": {
      "text/plain": [
       "3.0     2553\n",
       "8.0     1027\n",
       "6.0      995\n",
       "5.0      937\n",
       "10.0     853\n",
       "9.0      669\n",
       "7.0      493\n",
       "12.0     208\n",
       "11.0     182\n",
       "13.0      52\n",
       "4.0       31\n",
       "Name: KitchenSquare, dtype: int64"
      ]
     },
     "execution_count": 311,
     "metadata": {},
     "output_type": "execute_result"
    }
   ],
   "source": [
    "strat_train_set['KitchenSquare'].value_counts()"
   ]
  },
  {
   "cell_type": "markdown",
   "metadata": {},
   "source": [
    "#### 3.1.4 Rooms  <a class='anchor' id='Rooms'>"
   ]
  },
  {
   "cell_type": "code",
   "execution_count": 312,
   "metadata": {},
   "outputs": [
    {
     "data": {
      "text/plain": [
       "2.0     3112\n",
       "1.0     2967\n",
       "3.0     1776\n",
       "4.0      119\n",
       "5.0       15\n",
       "0.0        8\n",
       "19.0       1\n",
       "10.0       1\n",
       "6.0        1\n",
       "Name: Rooms, dtype: int64"
      ]
     },
     "execution_count": 312,
     "metadata": {},
     "output_type": "execute_result"
    }
   ],
   "source": [
    "strat_train_set['Rooms'].value_counts()"
   ]
  },
  {
   "cell_type": "code",
   "execution_count": 321,
   "metadata": {},
   "outputs": [],
   "source": [
    "strat_train_set['Rooms_outlier'] = 0\n",
    "strat_train_set.loc[strat_train_set['Rooms'] == 0, 'Rooms_outlier'] = 1\n",
    "strat_train_set.loc[strat_train_set['Rooms'] == 0, 'Rooms'] = 1"
   ]
  },
  {
   "cell_type": "code",
   "execution_count": 335,
   "metadata": {},
   "outputs": [],
   "source": [
    "strat_train_set.loc[strat_train_set['Rooms'] > 5, 'Rooms_outlier'] = 1\n",
    "strat_train_set.loc[strat_train_set['Rooms'] > 5, 'Rooms'] = 1"
   ]
  },
  {
   "cell_type": "code",
   "execution_count": 338,
   "metadata": {},
   "outputs": [],
   "source": [
    "strat_train_set.loc[(strat_train_set['Rooms'] >= 4) & (strat_train_set['Square'] < 50), 'Rooms_outlier'] = 1\n",
    "strat_train_set.loc[(strat_train_set['Rooms'] >= 4) & (strat_train_set['Square'] < 50), 'Rooms'] = 1"
   ]
  },
  {
   "cell_type": "code",
   "execution_count": 343,
   "metadata": {},
   "outputs": [
    {
     "data": {
      "text/plain": [
       "2.0    3112\n",
       "1.0    2980\n",
       "3.0    1776\n",
       "4.0     119\n",
       "5.0      13\n",
       "Name: Rooms, dtype: int64"
      ]
     },
     "execution_count": 343,
     "metadata": {},
     "output_type": "execute_result"
    }
   ],
   "source": [
    "strat_train_set['Rooms'].value_counts()"
   ]
  },
  {
   "cell_type": "markdown",
   "metadata": {},
   "source": [
    "#### 3.1.5 Square, LifeSquare  <a class='anchor' id='Square'>"
   ]
  },
  {
   "cell_type": "markdown",
   "metadata": {},
   "source": [
    "Заменим пропущенные значения"
   ]
  },
  {
   "cell_type": "code",
   "execution_count": 344,
   "metadata": {},
   "outputs": [],
   "source": [
    "strat_train_set['LifeSquare_nan'] = strat_train_set['LifeSquare'].isna() * 1\n",
    "\n",
    "condition = (strat_train_set['LifeSquare'].isna()) \\\n",
    "             & (~strat_train_set['Square'].isna()) \\\n",
    "             & (~strat_train_set['KitchenSquare'].isna())\n",
    "        \n",
    "strat_train_set.loc[condition, 'LifeSquare'] = strat_train_set.loc[condition, 'Square'] \\\n",
    "                                            - strat_train_set.loc[condition, 'KitchenSquare'] - 5"
   ]
  },
  {
   "cell_type": "code",
   "execution_count": 345,
   "metadata": {},
   "outputs": [
    {
     "data": {
      "text/plain": [
       "0"
      ]
     },
     "execution_count": 345,
     "metadata": {},
     "output_type": "execute_result"
    }
   ],
   "source": [
    "strat_train_set['LifeSquare'].isna().sum()"
   ]
  },
  {
   "cell_type": "code",
   "execution_count": null,
   "metadata": {},
   "outputs": [],
   "source": []
  },
  {
   "cell_type": "code",
   "execution_count": 349,
   "metadata": {
    "scrolled": false
   },
   "outputs": [
    {
     "data": {
      "text/html": [
       "<div>\n",
       "<style scoped>\n",
       "    .dataframe tbody tr th:only-of-type {\n",
       "        vertical-align: middle;\n",
       "    }\n",
       "\n",
       "    .dataframe tbody tr th {\n",
       "        vertical-align: top;\n",
       "    }\n",
       "\n",
       "    .dataframe thead th {\n",
       "        text-align: right;\n",
       "    }\n",
       "</style>\n",
       "<table border=\"1\" class=\"dataframe\">\n",
       "  <thead>\n",
       "    <tr style=\"text-align: right;\">\n",
       "      <th></th>\n",
       "      <th>Id</th>\n",
       "      <th>DistrictId</th>\n",
       "      <th>Rooms</th>\n",
       "      <th>Square</th>\n",
       "      <th>LifeSquare</th>\n",
       "      <th>KitchenSquare</th>\n",
       "      <th>Floor</th>\n",
       "      <th>HouseFloor</th>\n",
       "      <th>HouseYear</th>\n",
       "      <th>Ecology_1</th>\n",
       "      <th>...</th>\n",
       "      <th>Social_2</th>\n",
       "      <th>Social_3</th>\n",
       "      <th>Healthcare_1</th>\n",
       "      <th>Helthcare_2</th>\n",
       "      <th>Shops_1</th>\n",
       "      <th>Shops_2</th>\n",
       "      <th>Price</th>\n",
       "      <th>room_sq</th>\n",
       "      <th>Rooms_outlier</th>\n",
       "      <th>LifeSquare_nan</th>\n",
       "    </tr>\n",
       "  </thead>\n",
       "  <tbody>\n",
       "    <tr>\n",
       "      <th>4496</th>\n",
       "      <td>15744</td>\n",
       "      <td>34</td>\n",
       "      <td>1.0</td>\n",
       "      <td>1.988943</td>\n",
       "      <td>2.642219</td>\n",
       "      <td>3.0</td>\n",
       "      <td>21</td>\n",
       "      <td>21.0</td>\n",
       "      <td>1977</td>\n",
       "      <td>0.069753</td>\n",
       "      <td>...</td>\n",
       "      <td>13670</td>\n",
       "      <td>4</td>\n",
       "      <td>NaN</td>\n",
       "      <td>1</td>\n",
       "      <td>11</td>\n",
       "      <td>B</td>\n",
       "      <td>458378.777006</td>\n",
       "      <td>1.988943</td>\n",
       "      <td>0</td>\n",
       "      <td>0</td>\n",
       "    </tr>\n",
       "    <tr>\n",
       "      <th>161</th>\n",
       "      <td>6782</td>\n",
       "      <td>45</td>\n",
       "      <td>1.0</td>\n",
       "      <td>2.954309</td>\n",
       "      <td>5.257278</td>\n",
       "      <td>3.0</td>\n",
       "      <td>3</td>\n",
       "      <td>3.0</td>\n",
       "      <td>1977</td>\n",
       "      <td>0.195781</td>\n",
       "      <td>...</td>\n",
       "      <td>5212</td>\n",
       "      <td>6</td>\n",
       "      <td>NaN</td>\n",
       "      <td>3</td>\n",
       "      <td>2</td>\n",
       "      <td>B</td>\n",
       "      <td>438005.182323</td>\n",
       "      <td>2.954309</td>\n",
       "      <td>0</td>\n",
       "      <td>0</td>\n",
       "    </tr>\n",
       "    <tr>\n",
       "      <th>5265</th>\n",
       "      <td>8386</td>\n",
       "      <td>27</td>\n",
       "      <td>2.0</td>\n",
       "      <td>62.067272</td>\n",
       "      <td>63.456181</td>\n",
       "      <td>10.0</td>\n",
       "      <td>3</td>\n",
       "      <td>17.0</td>\n",
       "      <td>2017</td>\n",
       "      <td>0.017647</td>\n",
       "      <td>...</td>\n",
       "      <td>469</td>\n",
       "      <td>0</td>\n",
       "      <td>NaN</td>\n",
       "      <td>0</td>\n",
       "      <td>0</td>\n",
       "      <td>B</td>\n",
       "      <td>178467.117151</td>\n",
       "      <td>31.033636</td>\n",
       "      <td>0</td>\n",
       "      <td>0</td>\n",
       "    </tr>\n",
       "    <tr>\n",
       "      <th>4105</th>\n",
       "      <td>14322</td>\n",
       "      <td>1</td>\n",
       "      <td>2.0</td>\n",
       "      <td>62.411905</td>\n",
       "      <td>63.593900</td>\n",
       "      <td>3.0</td>\n",
       "      <td>24</td>\n",
       "      <td>24.0</td>\n",
       "      <td>1977</td>\n",
       "      <td>0.007122</td>\n",
       "      <td>...</td>\n",
       "      <td>264</td>\n",
       "      <td>0</td>\n",
       "      <td>NaN</td>\n",
       "      <td>0</td>\n",
       "      <td>1</td>\n",
       "      <td>B</td>\n",
       "      <td>209817.034644</td>\n",
       "      <td>31.205953</td>\n",
       "      <td>0</td>\n",
       "      <td>0</td>\n",
       "    </tr>\n",
       "    <tr>\n",
       "      <th>7819</th>\n",
       "      <td>15840</td>\n",
       "      <td>1</td>\n",
       "      <td>1.0</td>\n",
       "      <td>43.764463</td>\n",
       "      <td>43.981998</td>\n",
       "      <td>3.0</td>\n",
       "      <td>2</td>\n",
       "      <td>2.0</td>\n",
       "      <td>2019</td>\n",
       "      <td>0.007122</td>\n",
       "      <td>...</td>\n",
       "      <td>264</td>\n",
       "      <td>0</td>\n",
       "      <td>NaN</td>\n",
       "      <td>0</td>\n",
       "      <td>1</td>\n",
       "      <td>B</td>\n",
       "      <td>142003.769940</td>\n",
       "      <td>43.764463</td>\n",
       "      <td>0</td>\n",
       "      <td>0</td>\n",
       "    </tr>\n",
       "    <tr>\n",
       "      <th>...</th>\n",
       "      <td>...</td>\n",
       "      <td>...</td>\n",
       "      <td>...</td>\n",
       "      <td>...</td>\n",
       "      <td>...</td>\n",
       "      <td>...</td>\n",
       "      <td>...</td>\n",
       "      <td>...</td>\n",
       "      <td>...</td>\n",
       "      <td>...</td>\n",
       "      <td>...</td>\n",
       "      <td>...</td>\n",
       "      <td>...</td>\n",
       "      <td>...</td>\n",
       "      <td>...</td>\n",
       "      <td>...</td>\n",
       "      <td>...</td>\n",
       "      <td>...</td>\n",
       "      <td>...</td>\n",
       "      <td>...</td>\n",
       "      <td>...</td>\n",
       "    </tr>\n",
       "    <tr>\n",
       "      <th>1528</th>\n",
       "      <td>2137</td>\n",
       "      <td>9</td>\n",
       "      <td>2.0</td>\n",
       "      <td>46.469859</td>\n",
       "      <td>50.703196</td>\n",
       "      <td>9.0</td>\n",
       "      <td>2</td>\n",
       "      <td>12.0</td>\n",
       "      <td>1966</td>\n",
       "      <td>0.310199</td>\n",
       "      <td>...</td>\n",
       "      <td>2748</td>\n",
       "      <td>1</td>\n",
       "      <td>NaN</td>\n",
       "      <td>0</td>\n",
       "      <td>0</td>\n",
       "      <td>B</td>\n",
       "      <td>159286.262162</td>\n",
       "      <td>23.234930</td>\n",
       "      <td>0</td>\n",
       "      <td>0</td>\n",
       "    </tr>\n",
       "    <tr>\n",
       "      <th>8900</th>\n",
       "      <td>16136</td>\n",
       "      <td>6</td>\n",
       "      <td>2.0</td>\n",
       "      <td>52.534282</td>\n",
       "      <td>56.961780</td>\n",
       "      <td>3.0</td>\n",
       "      <td>17</td>\n",
       "      <td>17.0</td>\n",
       "      <td>2016</td>\n",
       "      <td>0.243205</td>\n",
       "      <td>...</td>\n",
       "      <td>1564</td>\n",
       "      <td>0</td>\n",
       "      <td>540.0</td>\n",
       "      <td>0</td>\n",
       "      <td>0</td>\n",
       "      <td>B</td>\n",
       "      <td>145428.851540</td>\n",
       "      <td>26.267141</td>\n",
       "      <td>0</td>\n",
       "      <td>0</td>\n",
       "    </tr>\n",
       "    <tr>\n",
       "      <th>7419</th>\n",
       "      <td>5443</td>\n",
       "      <td>5</td>\n",
       "      <td>1.0</td>\n",
       "      <td>48.514321</td>\n",
       "      <td>49.922828</td>\n",
       "      <td>3.0</td>\n",
       "      <td>16</td>\n",
       "      <td>24.0</td>\n",
       "      <td>2017</td>\n",
       "      <td>0.150818</td>\n",
       "      <td>...</td>\n",
       "      <td>3433</td>\n",
       "      <td>4</td>\n",
       "      <td>2643.0</td>\n",
       "      <td>4</td>\n",
       "      <td>5</td>\n",
       "      <td>B</td>\n",
       "      <td>290958.689421</td>\n",
       "      <td>48.514321</td>\n",
       "      <td>0</td>\n",
       "      <td>0</td>\n",
       "    </tr>\n",
       "    <tr>\n",
       "      <th>8863</th>\n",
       "      <td>9639</td>\n",
       "      <td>73</td>\n",
       "      <td>1.0</td>\n",
       "      <td>51.329603</td>\n",
       "      <td>53.966051</td>\n",
       "      <td>3.0</td>\n",
       "      <td>11</td>\n",
       "      <td>11.0</td>\n",
       "      <td>1977</td>\n",
       "      <td>0.042032</td>\n",
       "      <td>...</td>\n",
       "      <td>6856</td>\n",
       "      <td>84</td>\n",
       "      <td>1940.0</td>\n",
       "      <td>2</td>\n",
       "      <td>5</td>\n",
       "      <td>B</td>\n",
       "      <td>445920.620104</td>\n",
       "      <td>51.329603</td>\n",
       "      <td>0</td>\n",
       "      <td>0</td>\n",
       "    </tr>\n",
       "    <tr>\n",
       "      <th>7107</th>\n",
       "      <td>12900</td>\n",
       "      <td>52</td>\n",
       "      <td>1.0</td>\n",
       "      <td>40.994010</td>\n",
       "      <td>42.052183</td>\n",
       "      <td>3.0</td>\n",
       "      <td>8</td>\n",
       "      <td>17.0</td>\n",
       "      <td>1977</td>\n",
       "      <td>0.371149</td>\n",
       "      <td>...</td>\n",
       "      <td>7065</td>\n",
       "      <td>1</td>\n",
       "      <td>750.0</td>\n",
       "      <td>2</td>\n",
       "      <td>5</td>\n",
       "      <td>B</td>\n",
       "      <td>132962.299404</td>\n",
       "      <td>40.994010</td>\n",
       "      <td>0</td>\n",
       "      <td>0</td>\n",
       "    </tr>\n",
       "  </tbody>\n",
       "</table>\n",
       "<p>377 rows × 23 columns</p>\n",
       "</div>"
      ],
      "text/plain": [
       "         Id DistrictId  Rooms     Square  LifeSquare  KitchenSquare  Floor  \\\n",
       "4496  15744         34    1.0   1.988943    2.642219            3.0     21   \n",
       "161    6782         45    1.0   2.954309    5.257278            3.0      3   \n",
       "5265   8386         27    2.0  62.067272   63.456181           10.0      3   \n",
       "4105  14322          1    2.0  62.411905   63.593900            3.0     24   \n",
       "7819  15840          1    1.0  43.764463   43.981998            3.0      2   \n",
       "...     ...        ...    ...        ...         ...            ...    ...   \n",
       "1528   2137          9    2.0  46.469859   50.703196            9.0      2   \n",
       "8900  16136          6    2.0  52.534282   56.961780            3.0     17   \n",
       "7419   5443          5    1.0  48.514321   49.922828            3.0     16   \n",
       "8863   9639         73    1.0  51.329603   53.966051            3.0     11   \n",
       "7107  12900         52    1.0  40.994010   42.052183            3.0      8   \n",
       "\n",
       "      HouseFloor  HouseYear  Ecology_1  ... Social_2 Social_3  Healthcare_1  \\\n",
       "4496        21.0       1977   0.069753  ...    13670        4           NaN   \n",
       "161          3.0       1977   0.195781  ...     5212        6           NaN   \n",
       "5265        17.0       2017   0.017647  ...      469        0           NaN   \n",
       "4105        24.0       1977   0.007122  ...      264        0           NaN   \n",
       "7819         2.0       2019   0.007122  ...      264        0           NaN   \n",
       "...          ...        ...        ...  ...      ...      ...           ...   \n",
       "1528        12.0       1966   0.310199  ...     2748        1           NaN   \n",
       "8900        17.0       2016   0.243205  ...     1564        0         540.0   \n",
       "7419        24.0       2017   0.150818  ...     3433        4        2643.0   \n",
       "8863        11.0       1977   0.042032  ...     6856       84        1940.0   \n",
       "7107        17.0       1977   0.371149  ...     7065        1         750.0   \n",
       "\n",
       "      Helthcare_2  Shops_1  Shops_2          Price    room_sq Rooms_outlier  \\\n",
       "4496            1       11        B  458378.777006   1.988943             0   \n",
       "161             3        2        B  438005.182323   2.954309             0   \n",
       "5265            0        0        B  178467.117151  31.033636             0   \n",
       "4105            0        1        B  209817.034644  31.205953             0   \n",
       "7819            0        1        B  142003.769940  43.764463             0   \n",
       "...           ...      ...      ...            ...        ...           ...   \n",
       "1528            0        0        B  159286.262162  23.234930             0   \n",
       "8900            0        0        B  145428.851540  26.267141             0   \n",
       "7419            4        5        B  290958.689421  48.514321             0   \n",
       "8863            2        5        B  445920.620104  51.329603             0   \n",
       "7107            2        5        B  132962.299404  40.994010             0   \n",
       "\n",
       "      LifeSquare_nan  \n",
       "4496               0  \n",
       "161                0  \n",
       "5265               0  \n",
       "4105               0  \n",
       "7819               0  \n",
       "...              ...  \n",
       "1528               0  \n",
       "8900               0  \n",
       "7419               0  \n",
       "8863               0  \n",
       "7107               0  \n",
       "\n",
       "[377 rows x 23 columns]"
      ]
     },
     "execution_count": 349,
     "metadata": {},
     "output_type": "execute_result"
    }
   ],
   "source": [
    "strat_train_set[strat_train_set.LifeSquare > strat_train_set.Square]"
   ]
  },
  {
   "cell_type": "markdown",
   "metadata": {},
   "source": [
    "Странно, если площадь квартиры меньше 10. Такие данные будем считать выбросом, обрабатывать их будем следующем образом:\n",
    "- если жилая площадь больше 10, то общую площадь заменим на сумму жилой, кухни + 5\n",
    "- если жилая площадь меньше 10, то общую площадь заменим на медиану площади квартир того же года и такого же количества комнат"
   ]
  },
  {
   "cell_type": "code",
   "execution_count": 357,
   "metadata": {},
   "outputs": [
    {
     "data": {
      "text/html": [
       "<div>\n",
       "<style scoped>\n",
       "    .dataframe tbody tr th:only-of-type {\n",
       "        vertical-align: middle;\n",
       "    }\n",
       "\n",
       "    .dataframe tbody tr th {\n",
       "        vertical-align: top;\n",
       "    }\n",
       "\n",
       "    .dataframe thead th {\n",
       "        text-align: right;\n",
       "    }\n",
       "</style>\n",
       "<table border=\"1\" class=\"dataframe\">\n",
       "  <thead>\n",
       "    <tr style=\"text-align: right;\">\n",
       "      <th></th>\n",
       "      <th>Id</th>\n",
       "      <th>DistrictId</th>\n",
       "      <th>Rooms</th>\n",
       "      <th>Square</th>\n",
       "      <th>LifeSquare</th>\n",
       "      <th>KitchenSquare</th>\n",
       "      <th>Floor</th>\n",
       "      <th>HouseFloor</th>\n",
       "      <th>HouseYear</th>\n",
       "      <th>Ecology_1</th>\n",
       "      <th>...</th>\n",
       "      <th>Social_3</th>\n",
       "      <th>Healthcare_1</th>\n",
       "      <th>Helthcare_2</th>\n",
       "      <th>Shops_1</th>\n",
       "      <th>Shops_2</th>\n",
       "      <th>Price</th>\n",
       "      <th>room_sq</th>\n",
       "      <th>Rooms_outlier</th>\n",
       "      <th>LifeSquare_nan</th>\n",
       "      <th>Square_outlier</th>\n",
       "    </tr>\n",
       "  </thead>\n",
       "  <tbody>\n",
       "  </tbody>\n",
       "</table>\n",
       "<p>0 rows × 24 columns</p>\n",
       "</div>"
      ],
      "text/plain": [
       "Empty DataFrame\n",
       "Columns: [Id, DistrictId, Rooms, Square, LifeSquare, KitchenSquare, Floor, HouseFloor, HouseYear, Ecology_1, Ecology_2, Ecology_3, Social_1, Social_2, Social_3, Healthcare_1, Helthcare_2, Shops_1, Shops_2, Price, room_sq, Rooms_outlier, LifeSquare_nan, Square_outlier]\n",
       "Index: []\n",
       "\n",
       "[0 rows x 24 columns]"
      ]
     },
     "execution_count": 357,
     "metadata": {},
     "output_type": "execute_result"
    }
   ],
   "source": [
    "strat_train_set[strat_train_set.Square < 10]"
   ]
  },
  {
   "cell_type": "code",
   "execution_count": 351,
   "metadata": {},
   "outputs": [],
   "source": [
    "strat_train_set['Square_outlier'] = 0"
   ]
  },
  {
   "cell_type": "code",
   "execution_count": 354,
   "metadata": {},
   "outputs": [],
   "source": [
    "strat_train_set.loc[(strat_train_set['Square'] < 10) & (strat_train_set['LifeSquare'] > 10), 'Square_outlier'] = 1\n",
    "strat_train_set.loc[(strat_train_set['Square'] < 10) & (strat_train_set['LifeSquare'] > 10), 'Square'] = \\\n",
    "                          strat_train_set['LifeSquare']  +  strat_train_set['KitchenSquare'] + 5"
   ]
  },
  {
   "cell_type": "code",
   "execution_count": 356,
   "metadata": {},
   "outputs": [],
   "source": [
    "strat_train_set.loc[(strat_train_set['Square'] < 10) & (strat_train_set['LifeSquare'] <= 10), 'Square_outlier'] = 1\n",
    "strat_train_set.loc[(strat_train_set['Square'] < 10) & (strat_train_set['LifeSquare'] <= 10), 'Square'] = np.nan\n",
    "\n",
    "strat_train_set['Square'].fillna(\n",
    "   strat_train_set.groupby(['HouseYear', 'Rooms'])['Square'].transform(lambda x: x.median()), inplace=True)"
   ]
  },
  {
   "cell_type": "code",
   "execution_count": 358,
   "metadata": {},
   "outputs": [
    {
     "data": {
      "text/html": [
       "<div>\n",
       "<style scoped>\n",
       "    .dataframe tbody tr th:only-of-type {\n",
       "        vertical-align: middle;\n",
       "    }\n",
       "\n",
       "    .dataframe tbody tr th {\n",
       "        vertical-align: top;\n",
       "    }\n",
       "\n",
       "    .dataframe thead th {\n",
       "        text-align: right;\n",
       "    }\n",
       "</style>\n",
       "<table border=\"1\" class=\"dataframe\">\n",
       "  <thead>\n",
       "    <tr style=\"text-align: right;\">\n",
       "      <th></th>\n",
       "      <th>Id</th>\n",
       "      <th>DistrictId</th>\n",
       "      <th>Rooms</th>\n",
       "      <th>Square</th>\n",
       "      <th>LifeSquare</th>\n",
       "      <th>KitchenSquare</th>\n",
       "      <th>Floor</th>\n",
       "      <th>HouseFloor</th>\n",
       "      <th>HouseYear</th>\n",
       "      <th>Ecology_1</th>\n",
       "      <th>...</th>\n",
       "      <th>Social_3</th>\n",
       "      <th>Healthcare_1</th>\n",
       "      <th>Helthcare_2</th>\n",
       "      <th>Shops_1</th>\n",
       "      <th>Shops_2</th>\n",
       "      <th>Price</th>\n",
       "      <th>room_sq</th>\n",
       "      <th>Rooms_outlier</th>\n",
       "      <th>LifeSquare_nan</th>\n",
       "      <th>Square_outlier</th>\n",
       "    </tr>\n",
       "  </thead>\n",
       "  <tbody>\n",
       "    <tr>\n",
       "      <th>4496</th>\n",
       "      <td>15744</td>\n",
       "      <td>34</td>\n",
       "      <td>1.0</td>\n",
       "      <td>44.401671</td>\n",
       "      <td>2.642219</td>\n",
       "      <td>3.0</td>\n",
       "      <td>21</td>\n",
       "      <td>21.0</td>\n",
       "      <td>1977</td>\n",
       "      <td>0.069753</td>\n",
       "      <td>...</td>\n",
       "      <td>4</td>\n",
       "      <td>NaN</td>\n",
       "      <td>1</td>\n",
       "      <td>11</td>\n",
       "      <td>B</td>\n",
       "      <td>458378.777006</td>\n",
       "      <td>1.988943</td>\n",
       "      <td>0</td>\n",
       "      <td>0</td>\n",
       "      <td>1</td>\n",
       "    </tr>\n",
       "    <tr>\n",
       "      <th>161</th>\n",
       "      <td>6782</td>\n",
       "      <td>45</td>\n",
       "      <td>1.0</td>\n",
       "      <td>44.401671</td>\n",
       "      <td>5.257278</td>\n",
       "      <td>3.0</td>\n",
       "      <td>3</td>\n",
       "      <td>3.0</td>\n",
       "      <td>1977</td>\n",
       "      <td>0.195781</td>\n",
       "      <td>...</td>\n",
       "      <td>6</td>\n",
       "      <td>NaN</td>\n",
       "      <td>3</td>\n",
       "      <td>2</td>\n",
       "      <td>B</td>\n",
       "      <td>438005.182323</td>\n",
       "      <td>2.954309</td>\n",
       "      <td>0</td>\n",
       "      <td>0</td>\n",
       "      <td>1</td>\n",
       "    </tr>\n",
       "    <tr>\n",
       "      <th>9869</th>\n",
       "      <td>3224</td>\n",
       "      <td>27</td>\n",
       "      <td>1.0</td>\n",
       "      <td>44.401671</td>\n",
       "      <td>0.873147</td>\n",
       "      <td>3.0</td>\n",
       "      <td>1</td>\n",
       "      <td>1.0</td>\n",
       "      <td>1977</td>\n",
       "      <td>0.017647</td>\n",
       "      <td>...</td>\n",
       "      <td>0</td>\n",
       "      <td>NaN</td>\n",
       "      <td>0</td>\n",
       "      <td>0</td>\n",
       "      <td>B</td>\n",
       "      <td>126596.941798</td>\n",
       "      <td>2.377248</td>\n",
       "      <td>1</td>\n",
       "      <td>0</td>\n",
       "      <td>1</td>\n",
       "    </tr>\n",
       "    <tr>\n",
       "      <th>7470</th>\n",
       "      <td>14786</td>\n",
       "      <td>1</td>\n",
       "      <td>1.0</td>\n",
       "      <td>44.401671</td>\n",
       "      <td>4.525736</td>\n",
       "      <td>3.0</td>\n",
       "      <td>3</td>\n",
       "      <td>3.0</td>\n",
       "      <td>1977</td>\n",
       "      <td>0.007122</td>\n",
       "      <td>...</td>\n",
       "      <td>0</td>\n",
       "      <td>NaN</td>\n",
       "      <td>0</td>\n",
       "      <td>1</td>\n",
       "      <td>B</td>\n",
       "      <td>181434.825589</td>\n",
       "      <td>1.136859</td>\n",
       "      <td>0</td>\n",
       "      <td>0</td>\n",
       "      <td>1</td>\n",
       "    </tr>\n",
       "    <tr>\n",
       "      <th>9067</th>\n",
       "      <td>13265</td>\n",
       "      <td>1</td>\n",
       "      <td>3.0</td>\n",
       "      <td>82.767964</td>\n",
       "      <td>79.767964</td>\n",
       "      <td>3.0</td>\n",
       "      <td>6</td>\n",
       "      <td>17.0</td>\n",
       "      <td>1977</td>\n",
       "      <td>0.007122</td>\n",
       "      <td>...</td>\n",
       "      <td>0</td>\n",
       "      <td>NaN</td>\n",
       "      <td>0</td>\n",
       "      <td>1</td>\n",
       "      <td>B</td>\n",
       "      <td>237716.681261</td>\n",
       "      <td>1.607893</td>\n",
       "      <td>0</td>\n",
       "      <td>0</td>\n",
       "      <td>1</td>\n",
       "    </tr>\n",
       "    <tr>\n",
       "      <th>7033</th>\n",
       "      <td>1748</td>\n",
       "      <td>88</td>\n",
       "      <td>2.0</td>\n",
       "      <td>70.628717</td>\n",
       "      <td>67.628717</td>\n",
       "      <td>3.0</td>\n",
       "      <td>24</td>\n",
       "      <td>24.0</td>\n",
       "      <td>1977</td>\n",
       "      <td>0.127376</td>\n",
       "      <td>...</td>\n",
       "      <td>3</td>\n",
       "      <td>NaN</td>\n",
       "      <td>3</td>\n",
       "      <td>9</td>\n",
       "      <td>B</td>\n",
       "      <td>412511.088764</td>\n",
       "      <td>2.748531</td>\n",
       "      <td>0</td>\n",
       "      <td>0</td>\n",
       "      <td>1</td>\n",
       "    </tr>\n",
       "    <tr>\n",
       "      <th>328</th>\n",
       "      <td>4504</td>\n",
       "      <td>27</td>\n",
       "      <td>3.0</td>\n",
       "      <td>85.139016</td>\n",
       "      <td>5.610772</td>\n",
       "      <td>3.0</td>\n",
       "      <td>8</td>\n",
       "      <td>19.0</td>\n",
       "      <td>2016</td>\n",
       "      <td>0.211401</td>\n",
       "      <td>...</td>\n",
       "      <td>0</td>\n",
       "      <td>NaN</td>\n",
       "      <td>0</td>\n",
       "      <td>1</td>\n",
       "      <td>B</td>\n",
       "      <td>161379.067034</td>\n",
       "      <td>1.463444</td>\n",
       "      <td>0</td>\n",
       "      <td>0</td>\n",
       "      <td>1</td>\n",
       "    </tr>\n",
       "    <tr>\n",
       "      <th>8805</th>\n",
       "      <td>10527</td>\n",
       "      <td>27</td>\n",
       "      <td>1.0</td>\n",
       "      <td>43.805837</td>\n",
       "      <td>40.805837</td>\n",
       "      <td>3.0</td>\n",
       "      <td>10</td>\n",
       "      <td>17.0</td>\n",
       "      <td>2013</td>\n",
       "      <td>0.211401</td>\n",
       "      <td>...</td>\n",
       "      <td>0</td>\n",
       "      <td>NaN</td>\n",
       "      <td>0</td>\n",
       "      <td>1</td>\n",
       "      <td>B</td>\n",
       "      <td>97560.720383</td>\n",
       "      <td>4.380726</td>\n",
       "      <td>0</td>\n",
       "      <td>0</td>\n",
       "      <td>1</td>\n",
       "    </tr>\n",
       "    <tr>\n",
       "      <th>1401</th>\n",
       "      <td>9487</td>\n",
       "      <td>5</td>\n",
       "      <td>1.0</td>\n",
       "      <td>44.401671</td>\n",
       "      <td>5.549458</td>\n",
       "      <td>3.0</td>\n",
       "      <td>1</td>\n",
       "      <td>1.0</td>\n",
       "      <td>1977</td>\n",
       "      <td>0.150818</td>\n",
       "      <td>...</td>\n",
       "      <td>4</td>\n",
       "      <td>2643.0</td>\n",
       "      <td>4</td>\n",
       "      <td>5</td>\n",
       "      <td>B</td>\n",
       "      <td>369472.403061</td>\n",
       "      <td>5.129222</td>\n",
       "      <td>0</td>\n",
       "      <td>0</td>\n",
       "      <td>1</td>\n",
       "    </tr>\n",
       "    <tr>\n",
       "      <th>5009</th>\n",
       "      <td>11526</td>\n",
       "      <td>27</td>\n",
       "      <td>1.0</td>\n",
       "      <td>44.401671</td>\n",
       "      <td>1.969969</td>\n",
       "      <td>3.0</td>\n",
       "      <td>18</td>\n",
       "      <td>18.0</td>\n",
       "      <td>1977</td>\n",
       "      <td>0.011654</td>\n",
       "      <td>...</td>\n",
       "      <td>0</td>\n",
       "      <td>NaN</td>\n",
       "      <td>0</td>\n",
       "      <td>0</td>\n",
       "      <td>B</td>\n",
       "      <td>107604.269441</td>\n",
       "      <td>4.633498</td>\n",
       "      <td>0</td>\n",
       "      <td>0</td>\n",
       "      <td>1</td>\n",
       "    </tr>\n",
       "  </tbody>\n",
       "</table>\n",
       "<p>10 rows × 24 columns</p>\n",
       "</div>"
      ],
      "text/plain": [
       "         Id DistrictId  Rooms     Square  LifeSquare  KitchenSquare  Floor  \\\n",
       "4496  15744         34    1.0  44.401671    2.642219            3.0     21   \n",
       "161    6782         45    1.0  44.401671    5.257278            3.0      3   \n",
       "9869   3224         27    1.0  44.401671    0.873147            3.0      1   \n",
       "7470  14786          1    1.0  44.401671    4.525736            3.0      3   \n",
       "9067  13265          1    3.0  82.767964   79.767964            3.0      6   \n",
       "7033   1748         88    2.0  70.628717   67.628717            3.0     24   \n",
       "328    4504         27    3.0  85.139016    5.610772            3.0      8   \n",
       "8805  10527         27    1.0  43.805837   40.805837            3.0     10   \n",
       "1401   9487          5    1.0  44.401671    5.549458            3.0      1   \n",
       "5009  11526         27    1.0  44.401671    1.969969            3.0     18   \n",
       "\n",
       "      HouseFloor  HouseYear  Ecology_1  ... Social_3 Healthcare_1  \\\n",
       "4496        21.0       1977   0.069753  ...        4          NaN   \n",
       "161          3.0       1977   0.195781  ...        6          NaN   \n",
       "9869         1.0       1977   0.017647  ...        0          NaN   \n",
       "7470         3.0       1977   0.007122  ...        0          NaN   \n",
       "9067        17.0       1977   0.007122  ...        0          NaN   \n",
       "7033        24.0       1977   0.127376  ...        3          NaN   \n",
       "328         19.0       2016   0.211401  ...        0          NaN   \n",
       "8805        17.0       2013   0.211401  ...        0          NaN   \n",
       "1401         1.0       1977   0.150818  ...        4       2643.0   \n",
       "5009        18.0       1977   0.011654  ...        0          NaN   \n",
       "\n",
       "      Helthcare_2  Shops_1  Shops_2          Price   room_sq  Rooms_outlier  \\\n",
       "4496            1       11        B  458378.777006  1.988943              0   \n",
       "161             3        2        B  438005.182323  2.954309              0   \n",
       "9869            0        0        B  126596.941798  2.377248              1   \n",
       "7470            0        1        B  181434.825589  1.136859              0   \n",
       "9067            0        1        B  237716.681261  1.607893              0   \n",
       "7033            3        9        B  412511.088764  2.748531              0   \n",
       "328             0        1        B  161379.067034  1.463444              0   \n",
       "8805            0        1        B   97560.720383  4.380726              0   \n",
       "1401            4        5        B  369472.403061  5.129222              0   \n",
       "5009            0        0        B  107604.269441  4.633498              0   \n",
       "\n",
       "     LifeSquare_nan  Square_outlier  \n",
       "4496              0               1  \n",
       "161               0               1  \n",
       "9869              0               1  \n",
       "7470              0               1  \n",
       "9067              0               1  \n",
       "7033              0               1  \n",
       "328               0               1  \n",
       "8805              0               1  \n",
       "1401              0               1  \n",
       "5009              0               1  \n",
       "\n",
       "[10 rows x 24 columns]"
      ]
     },
     "execution_count": 358,
     "metadata": {},
     "output_type": "execute_result"
    }
   ],
   "source": [
    "strat_train_set[strat_train_set['Square_outlier'] == 1]"
   ]
  },
  {
   "cell_type": "markdown",
   "metadata": {},
   "source": [
    "Есть квартиры с неправдоподбной жилой площадью. Если LifeSquare < 0.25 * Square, то жилую площадь заменим на 0,5 * Square"
   ]
  },
  {
   "cell_type": "code",
   "execution_count": 378,
   "metadata": {
    "scrolled": true
   },
   "outputs": [
    {
     "data": {
      "text/plain": [
       "Series([], Name: LifeSquare, dtype: float64)"
      ]
     },
     "execution_count": 378,
     "metadata": {},
     "output_type": "execute_result"
    }
   ],
   "source": [
    "strat_train_set[strat_train_set['LifeSquare'] < 0.25 * strat_train_set['Square']].LifeSquare.sort_values()"
   ]
  },
  {
   "cell_type": "code",
   "execution_count": 379,
   "metadata": {},
   "outputs": [],
   "source": [
    "strat_train_set.loc[strat_train_set['LifeSquare'] < 0.25 * strat_train_set['Square'], 'LifeSquare_nan'] = 1\n",
    "strat_train_set.loc[strat_train_set['LifeSquare'] < 0.25 * strat_train_set['Square'], 'LifeSquare'] = \\\n",
    "                                                            0.5 * strat_train_set['Square']"
   ]
  },
  {
   "cell_type": "markdown",
   "metadata": {},
   "source": [
    "### 3.2 Создание класса DataPreprocessing  <a class='anchor' id='DataPreprocessing'>"
   ]
  },
  {
   "cell_type": "code",
   "execution_count": 447,
   "metadata": {},
   "outputs": [],
   "source": [
    "class DataPreprocessing:\n",
    "    \"\"\"Подготовка исходных данных\"\"\"\n",
    "\n",
    "    def __init__(self):\n",
    "        \"\"\"Параметры класса\"\"\"\n",
    "        self.medians = None\n",
    "        self.kitchen_square_quantile = None\n",
    "        self.dt_model = DecisionTreeRegressor(random_state=28)\n",
    "        self.columns = ['Ecology_1',  'Social_1', 'Social_2', 'Social_3', 'Helthcare_2', 'Shops_1']\n",
    "        \n",
    "    def fit(self, X):\n",
    "        \"\"\"Сохранение статистик\"\"\"       \n",
    "        # Расчет медиан\n",
    "        self.medians = X.median()\n",
    "        self.kitchen_square_quantile = X['KitchenSquare'].quantile(.975)\n",
    "        \n",
    "        X['Health_nan'] = X['Healthcare_1'].isna() * 1\n",
    "        \n",
    "                \n",
    "        X_ = X[X.Health_nan == 0].drop(columns='Healthcare_1')[self.columns]\n",
    "        y_ = X[X.Health_nan == 0]['Healthcare_1']\n",
    "        \n",
    "        \n",
    "        self.dt_model.fit(X_, y_)\n",
    "        \n",
    "    def transform(self, X):\n",
    "        \"\"\"Трансформация данных\"\"\"\n",
    "\n",
    "        # HouseYear\n",
    "        X.loc[X['HouseYear'] == 20052011, 'HouseYear'] = 2011\n",
    "        X.loc[X['HouseYear'] == 4968, 'HouseYear'] = 1968\n",
    "        \n",
    "        # LifeSquare\n",
    "        X['LifeSquare_nan'] = X['LifeSquare'].isna() * 1\n",
    "        condition = (X['LifeSquare'].isna()) & (~X['Square'].isna()) & (~X['KitchenSquare'].isna())\n",
    "        \n",
    "        X.loc[condition, 'LifeSquare'] = X.loc[condition, 'Square'] - X.loc[condition, 'KitchenSquare'] - 5\n",
    "        \n",
    "        # Square\n",
    "        X['Square_outlier'] = 0\n",
    "\n",
    "        X.loc[(X['Square'] < 10) & (X['LifeSquare'] > 10), 'Square_outlier'] = 1\n",
    "        X.loc[(X['Square'] < 10) & (X['LifeSquare'] > 10), 'Square'] = \\\n",
    "                          X['LifeSquare']  +  X['KitchenSquare'] + 5\n",
    "        \n",
    "        X.loc[(X['Square'] < 10) & (X['LifeSquare'] <= 10), 'Square_outlier'] = 1\n",
    "        X.loc[(X['Square'] < 10) & (X['LifeSquare'] <= 10), 'Square'] = np.nan\n",
    "\n",
    "        X['Square'].fillna(\n",
    "        X.groupby(['HouseYear', 'Rooms'])['Square'].transform(lambda x: x.median()), inplace=True)\n",
    "        \n",
    "        # LifeSquare again\n",
    "        X.loc[X['LifeSquare'] < 0.25 * X['Square'], 'LifeSquare_nan'] = 1\n",
    "        X.loc[X['LifeSquare'] < 0.25 * X['Square'], 'LifeSquare'] = 0.5 * X['Square']\n",
    "                \n",
    "        # Rooms\n",
    "        X['Rooms_outlier'] = 0\n",
    "        X.loc[X['Rooms'] == 0, 'Rooms_outlier'] = 1\n",
    "        X.loc[X['Rooms'] == 0, 'Rooms'] = 1\n",
    "        \n",
    "        X.loc[X['Rooms'] > 5, 'Rooms_outlier'] = 1\n",
    "        X.loc[X['Rooms'] > 5, 'Rooms'] = 1\n",
    "        \n",
    "        X.loc[(X['Rooms'] >= 4) & (X['Square'] < 50), 'Rooms_outlier'] = 1\n",
    "        X.loc[(X['Rooms'] >= 4) & (X['Square'] < 50), 'Rooms'] = 1\n",
    "        \n",
    "        # KitchenSquare\n",
    "        condition = (X['KitchenSquare'].isna()) \\\n",
    "                    | (X['KitchenSquare'] > self.kitchen_square_quantile)\n",
    "        \n",
    "        X.loc[condition, 'KitchenSquare'] = self.medians['KitchenSquare']\n",
    "\n",
    "        X.loc[X['KitchenSquare'] < 3, 'KitchenSquare'] = 3\n",
    "        \n",
    "        # HouseFloor, Floor\n",
    "        X['HouseFloor_outlier'] = 0\n",
    "        X.loc[X['HouseFloor'] < 3, 'HouseFloor_outlier'] = 1\n",
    "        X.loc[X['Floor'] > X['HouseFloor'], 'HouseFloor_outlier'] = 1\n",
    "        X.loc[(X.HouseYear < 2002) & (X.HouseFloor > 32), 'HouseFloor_outlier'] = 1\n",
    "        \n",
    "        X.loc[X['HouseFloor_outlier'] == 1, 'HouseFloor'] = np.nan\n",
    "        \n",
    "        X['HouseFloor'].fillna(\n",
    "        X.groupby(['HouseYear'])['HouseFloor'].transform(lambda x: np.rint(x.median())), inplace=True)\n",
    "        X['HouseFloor'].fillna(X.Floor, inplace=True)\n",
    "        X.loc[X['Floor'] > X['HouseFloor'],'HouseFloor'] = X.Floor\n",
    "        \n",
    "        # Healthcare_1\n",
    "        X['Health_nan'] = X['Healthcare_1'].isna() * 1\n",
    "        health_train_null = X[X.Health_nan == 1][self.columns]\n",
    "        \n",
    "        health_train_pred = self.dt_model.predict(health_train_null)    \n",
    "        \n",
    "        health_train = pd.Series(health_train_pred, index=health_train_null.index)\n",
    "        \n",
    "        X['Healthcare_1'].fillna(health_train, inplace=True)\n",
    "\n",
    "#        X.fillna(self.medians, inplace=True)\n",
    "        \n",
    "        return X"
   ]
  },
  {
   "cell_type": "code",
   "execution_count": null,
   "metadata": {},
   "outputs": [],
   "source": [
    "\n"
   ]
  },
  {
   "cell_type": "code",
   "execution_count": null,
   "metadata": {},
   "outputs": [],
   "source": [
    "target_name = 'Price'"
   ]
  },
  {
   "cell_type": "code",
   "execution_count": 448,
   "metadata": {},
   "outputs": [],
   "source": [
    "X = strat_train_set.drop(columns=['Price', 'Square_cat'])\n",
    "\n",
    "y = strat_train_set['Price']"
   ]
  },
  {
   "cell_type": "code",
   "execution_count": 449,
   "metadata": {},
   "outputs": [],
   "source": [
    "preprocessor = DataPreprocessing()\n",
    "preprocessor.fit(strat_train_set)"
   ]
  },
  {
   "cell_type": "code",
   "execution_count": 450,
   "metadata": {},
   "outputs": [],
   "source": [
    "X_train = preprocessor.transform(X)\n",
    "#X_valid = preprocessor.transform(strat_test_set)\n",
    "test_df = preprocessor.transform(test_df)"
   ]
  },
  {
   "cell_type": "code",
   "execution_count": null,
   "metadata": {},
   "outputs": [],
   "source": []
  },
  {
   "cell_type": "code",
   "execution_count": 451,
   "metadata": {
    "scrolled": true
   },
   "outputs": [
    {
     "data": {
      "text/plain": [
       "((8000, 24), (2000, 26), (5000, 24))"
      ]
     },
     "execution_count": 451,
     "metadata": {},
     "output_type": "execute_result"
    }
   ],
   "source": [
    "X_train.shape, X_valid.shape, test_df.shape"
   ]
  },
  {
   "cell_type": "code",
   "execution_count": null,
   "metadata": {},
   "outputs": [],
   "source": []
  },
  {
   "cell_type": "code",
   "execution_count": null,
   "metadata": {},
   "outputs": [],
   "source": [
    "rf_model = RandomForestRegressor(random_state=28, n_jobs=-1)\n",
    "rf_model.fit(X_train, y_train)"
   ]
  },
  {
   "cell_type": "code",
   "execution_count": 453,
   "metadata": {},
   "outputs": [],
   "source": [
    "binary_to_numbers = {'A': 0, 'B': 1}\n",
    "\n",
    "for set_ in (X_train, test_df):\n",
    "    set_['Ecology_2'] = set_['Ecology_2'].replace(binary_to_numbers)\n",
    "    set_['Ecology_3'] = set_['Ecology_3'].replace(binary_to_numbers)\n",
    "    set_['Shops_2'] = set_['Shops_2'].replace(binary_to_numbers)"
   ]
  },
  {
   "cell_type": "code",
   "execution_count": 454,
   "metadata": {},
   "outputs": [
    {
     "data": {
      "text/plain": [
       "array([0.71580423, 0.71580123, 0.71884224])"
      ]
     },
     "execution_count": 454,
     "metadata": {},
     "output_type": "execute_result"
    }
   ],
   "source": [
    "cv_score_dt = cross_val_score(rf_model, X_train, y, scoring='r2', cv=KFold(n_splits=3, shuffle=True, random_state=28))\n",
    "cv_score_dt"
   ]
  },
  {
   "cell_type": "code",
   "execution_count": 455,
   "metadata": {},
   "outputs": [
    {
     "ename": "ValueError",
     "evalue": "Number of features of the model must match the input. Model n_features is 20 and input n_features is 24 ",
     "output_type": "error",
     "traceback": [
      "\u001b[1;31m---------------------------------------------------------------------------\u001b[0m",
      "\u001b[1;31mValueError\u001b[0m                                Traceback (most recent call last)",
      "\u001b[1;32m<ipython-input-455-72a38f123812>\u001b[0m in \u001b[0;36m<module>\u001b[1;34m\u001b[0m\n\u001b[1;32m----> 1\u001b[1;33m \u001b[0mpredictions\u001b[0m \u001b[1;33m=\u001b[0m \u001b[0mrf_model\u001b[0m\u001b[1;33m.\u001b[0m\u001b[0mpredict\u001b[0m\u001b[1;33m(\u001b[0m\u001b[0mtest_df\u001b[0m\u001b[1;33m)\u001b[0m\u001b[1;33m\u001b[0m\u001b[1;33m\u001b[0m\u001b[0m\n\u001b[0m\u001b[0;32m      2\u001b[0m \u001b[0mpredictions\u001b[0m\u001b[1;33m\u001b[0m\u001b[1;33m\u001b[0m\u001b[0m\n",
      "\u001b[1;32mF:\\DataSc\\anaconda3\\lib\\site-packages\\sklearn\\ensemble\\_forest.py\u001b[0m in \u001b[0;36mpredict\u001b[1;34m(self, X)\u001b[0m\n\u001b[0;32m    781\u001b[0m         \u001b[0mcheck_is_fitted\u001b[0m\u001b[1;33m(\u001b[0m\u001b[0mself\u001b[0m\u001b[1;33m)\u001b[0m\u001b[1;33m\u001b[0m\u001b[1;33m\u001b[0m\u001b[0m\n\u001b[0;32m    782\u001b[0m         \u001b[1;31m# Check data\u001b[0m\u001b[1;33m\u001b[0m\u001b[1;33m\u001b[0m\u001b[1;33m\u001b[0m\u001b[0m\n\u001b[1;32m--> 783\u001b[1;33m         \u001b[0mX\u001b[0m \u001b[1;33m=\u001b[0m \u001b[0mself\u001b[0m\u001b[1;33m.\u001b[0m\u001b[0m_validate_X_predict\u001b[0m\u001b[1;33m(\u001b[0m\u001b[0mX\u001b[0m\u001b[1;33m)\u001b[0m\u001b[1;33m\u001b[0m\u001b[1;33m\u001b[0m\u001b[0m\n\u001b[0m\u001b[0;32m    784\u001b[0m \u001b[1;33m\u001b[0m\u001b[0m\n\u001b[0;32m    785\u001b[0m         \u001b[1;31m# Assign chunk of trees to jobs\u001b[0m\u001b[1;33m\u001b[0m\u001b[1;33m\u001b[0m\u001b[1;33m\u001b[0m\u001b[0m\n",
      "\u001b[1;32mF:\\DataSc\\anaconda3\\lib\\site-packages\\sklearn\\ensemble\\_forest.py\u001b[0m in \u001b[0;36m_validate_X_predict\u001b[1;34m(self, X)\u001b[0m\n\u001b[0;32m    419\u001b[0m         \u001b[0mcheck_is_fitted\u001b[0m\u001b[1;33m(\u001b[0m\u001b[0mself\u001b[0m\u001b[1;33m)\u001b[0m\u001b[1;33m\u001b[0m\u001b[1;33m\u001b[0m\u001b[0m\n\u001b[0;32m    420\u001b[0m \u001b[1;33m\u001b[0m\u001b[0m\n\u001b[1;32m--> 421\u001b[1;33m         \u001b[1;32mreturn\u001b[0m \u001b[0mself\u001b[0m\u001b[1;33m.\u001b[0m\u001b[0mestimators_\u001b[0m\u001b[1;33m[\u001b[0m\u001b[1;36m0\u001b[0m\u001b[1;33m]\u001b[0m\u001b[1;33m.\u001b[0m\u001b[0m_validate_X_predict\u001b[0m\u001b[1;33m(\u001b[0m\u001b[0mX\u001b[0m\u001b[1;33m,\u001b[0m \u001b[0mcheck_input\u001b[0m\u001b[1;33m=\u001b[0m\u001b[1;32mTrue\u001b[0m\u001b[1;33m)\u001b[0m\u001b[1;33m\u001b[0m\u001b[1;33m\u001b[0m\u001b[0m\n\u001b[0m\u001b[0;32m    422\u001b[0m \u001b[1;33m\u001b[0m\u001b[0m\n\u001b[0;32m    423\u001b[0m     \u001b[1;33m@\u001b[0m\u001b[0mproperty\u001b[0m\u001b[1;33m\u001b[0m\u001b[1;33m\u001b[0m\u001b[0m\n",
      "\u001b[1;32mF:\\DataSc\\anaconda3\\lib\\site-packages\\sklearn\\tree\\_classes.py\u001b[0m in \u001b[0;36m_validate_X_predict\u001b[1;34m(self, X, check_input)\u001b[0m\n\u001b[0;32m    394\u001b[0m         \u001b[0mn_features\u001b[0m \u001b[1;33m=\u001b[0m \u001b[0mX\u001b[0m\u001b[1;33m.\u001b[0m\u001b[0mshape\u001b[0m\u001b[1;33m[\u001b[0m\u001b[1;36m1\u001b[0m\u001b[1;33m]\u001b[0m\u001b[1;33m\u001b[0m\u001b[1;33m\u001b[0m\u001b[0m\n\u001b[0;32m    395\u001b[0m         \u001b[1;32mif\u001b[0m \u001b[0mself\u001b[0m\u001b[1;33m.\u001b[0m\u001b[0mn_features_\u001b[0m \u001b[1;33m!=\u001b[0m \u001b[0mn_features\u001b[0m\u001b[1;33m:\u001b[0m\u001b[1;33m\u001b[0m\u001b[1;33m\u001b[0m\u001b[0m\n\u001b[1;32m--> 396\u001b[1;33m             raise ValueError(\"Number of features of the model must \"\n\u001b[0m\u001b[0;32m    397\u001b[0m                              \u001b[1;34m\"match the input. Model n_features is %s and \"\u001b[0m\u001b[1;33m\u001b[0m\u001b[1;33m\u001b[0m\u001b[0m\n\u001b[0;32m    398\u001b[0m                              \u001b[1;34m\"input n_features is %s \"\u001b[0m\u001b[1;33m\u001b[0m\u001b[1;33m\u001b[0m\u001b[0m\n",
      "\u001b[1;31mValueError\u001b[0m: Number of features of the model must match the input. Model n_features is 20 and input n_features is 24 "
     ]
    }
   ],
   "source": [
    "predictions = rf_model.predict(test_df)\n",
    "predictions"
   ]
  },
  {
   "cell_type": "code",
   "execution_count": null,
   "metadata": {},
   "outputs": [],
   "source": []
  },
  {
   "cell_type": "code",
   "execution_count": null,
   "metadata": {},
   "outputs": [],
   "source": []
  },
  {
   "cell_type": "code",
   "execution_count": null,
   "metadata": {},
   "outputs": [],
   "source": []
  },
  {
   "cell_type": "code",
   "execution_count": 424,
   "metadata": {},
   "outputs": [
    {
     "data": {
      "text/plain": [
       "(8000, 26)"
      ]
     },
     "execution_count": 424,
     "metadata": {},
     "output_type": "execute_result"
    }
   ],
   "source": [
    "strat_train_set.shape"
   ]
  },
  {
   "cell_type": "code",
   "execution_count": null,
   "metadata": {},
   "outputs": [],
   "source": []
  },
  {
   "cell_type": "code",
   "execution_count": 427,
   "metadata": {},
   "outputs": [
    {
     "data": {
      "text/plain": [
       "Index(['Id', 'DistrictId', 'Rooms', 'Square', 'LifeSquare', 'KitchenSquare',\n",
       "       'Floor', 'HouseFloor', 'HouseYear', 'Ecology_1', 'Ecology_2',\n",
       "       'Ecology_3', 'Social_1', 'Social_2', 'Social_3', 'Healthcare_1',\n",
       "       'Helthcare_2', 'Shops_1', 'Shops_2', 'LifeSquare_nan', 'Square_outlier',\n",
       "       'Rooms_outlier', 'HouseFloor_outlier', 'Health_nan'],\n",
       "      dtype='object')"
      ]
     },
     "execution_count": 427,
     "metadata": {},
     "output_type": "execute_result"
    }
   ],
   "source": [
    "test_df.columns"
   ]
  },
  {
   "cell_type": "code",
   "execution_count": 428,
   "metadata": {},
   "outputs": [
    {
     "data": {
      "text/plain": [
       "Index(['Id', 'DistrictId', 'Rooms', 'Square', 'LifeSquare', 'KitchenSquare',\n",
       "       'Floor', 'HouseFloor', 'HouseYear', 'Ecology_1', 'Ecology_2',\n",
       "       'Ecology_3', 'Social_1', 'Social_2', 'Social_3', 'Healthcare_1',\n",
       "       'Helthcare_2', 'Shops_1', 'Shops_2', 'Price', 'Square_cat',\n",
       "       'Health_nan', 'LifeSquare_nan', 'Square_outlier', 'Rooms_outlier',\n",
       "       'HouseFloor_outlier'],\n",
       "      dtype='object')"
      ]
     },
     "execution_count": 428,
     "metadata": {},
     "output_type": "execute_result"
    }
   ],
   "source": [
    "X_train.columns"
   ]
  },
  {
   "cell_type": "code",
   "execution_count": null,
   "metadata": {},
   "outputs": [],
   "source": []
  },
  {
   "cell_type": "code",
   "execution_count": 425,
   "metadata": {},
   "outputs": [
    {
     "data": {
      "text/plain": [
       "Id                    0\n",
       "DistrictId            0\n",
       "Rooms                 0\n",
       "Square                0\n",
       "LifeSquare            0\n",
       "KitchenSquare         0\n",
       "Floor                 0\n",
       "HouseFloor            0\n",
       "HouseYear             0\n",
       "Ecology_1             0\n",
       "Ecology_2             0\n",
       "Ecology_3             0\n",
       "Social_1              0\n",
       "Social_2              0\n",
       "Social_3              0\n",
       "Healthcare_1          0\n",
       "Helthcare_2           0\n",
       "Shops_1               0\n",
       "Shops_2               0\n",
       "Price                 0\n",
       "Square_cat            0\n",
       "Health_nan            0\n",
       "LifeSquare_nan        0\n",
       "Square_outlier        0\n",
       "Rooms_outlier         0\n",
       "HouseFloor_outlier    0\n",
       "dtype: int64"
      ]
     },
     "execution_count": 425,
     "metadata": {},
     "output_type": "execute_result"
    }
   ],
   "source": [
    "X_train.isna().sum()"
   ]
  },
  {
   "cell_type": "code",
   "execution_count": null,
   "metadata": {},
   "outputs": [],
   "source": []
  },
  {
   "cell_type": "code",
   "execution_count": 381,
   "metadata": {},
   "outputs": [],
   "source": [
    "strat_train_set['room_sq'] = strat_train_set['Square'] / strat_train_set['Rooms']"
   ]
  },
  {
   "cell_type": "code",
   "execution_count": 382,
   "metadata": {},
   "outputs": [
    {
     "data": {
      "text/plain": [
       "count    8000.000000\n",
       "mean       32.671810\n",
       "std        11.987107\n",
       "min         4.594955\n",
       "25%        25.638274\n",
       "50%        30.867572\n",
       "75%        39.133825\n",
       "max       409.425181\n",
       "Name: room_sq, dtype: float64"
      ]
     },
     "execution_count": 382,
     "metadata": {},
     "output_type": "execute_result"
    }
   ],
   "source": [
    "strat_train_set['room_sq'].describe()"
   ]
  },
  {
   "cell_type": "code",
   "execution_count": 383,
   "metadata": {},
   "outputs": [
    {
     "data": {
      "text/plain": [
       "(69.13758116173133, 16.993650168945965)"
      ]
     },
     "execution_count": 383,
     "metadata": {},
     "output_type": "execute_result"
    }
   ],
   "source": [
    "strat_train_set['room_sq'].quantile(.995), strat_train_set['room_sq'].quantile(.005)"
   ]
  },
  {
   "cell_type": "code",
   "execution_count": 384,
   "metadata": {},
   "outputs": [
    {
     "data": {
      "text/html": [
       "<div>\n",
       "<style scoped>\n",
       "    .dataframe tbody tr th:only-of-type {\n",
       "        vertical-align: middle;\n",
       "    }\n",
       "\n",
       "    .dataframe tbody tr th {\n",
       "        vertical-align: top;\n",
       "    }\n",
       "\n",
       "    .dataframe thead th {\n",
       "        text-align: right;\n",
       "    }\n",
       "</style>\n",
       "<table border=\"1\" class=\"dataframe\">\n",
       "  <thead>\n",
       "    <tr style=\"text-align: right;\">\n",
       "      <th></th>\n",
       "      <th>Id</th>\n",
       "      <th>DistrictId</th>\n",
       "      <th>Rooms</th>\n",
       "      <th>Square</th>\n",
       "      <th>LifeSquare</th>\n",
       "      <th>KitchenSquare</th>\n",
       "      <th>Floor</th>\n",
       "      <th>HouseFloor</th>\n",
       "      <th>HouseYear</th>\n",
       "      <th>Ecology_1</th>\n",
       "      <th>...</th>\n",
       "      <th>Healthcare_1</th>\n",
       "      <th>Helthcare_2</th>\n",
       "      <th>Shops_1</th>\n",
       "      <th>Shops_2</th>\n",
       "      <th>Price</th>\n",
       "      <th>room_sq</th>\n",
       "      <th>Rooms_outlier</th>\n",
       "      <th>LifeSquare_nan</th>\n",
       "      <th>Square_outlier</th>\n",
       "      <th>LifeSquare_outlier</th>\n",
       "    </tr>\n",
       "  </thead>\n",
       "  <tbody>\n",
       "    <tr>\n",
       "      <th>5520</th>\n",
       "      <td>4352</td>\n",
       "      <td>104</td>\n",
       "      <td>2.0</td>\n",
       "      <td>28.517666</td>\n",
       "      <td>15.565872</td>\n",
       "      <td>3.0</td>\n",
       "      <td>7</td>\n",
       "      <td>7.0</td>\n",
       "      <td>1931</td>\n",
       "      <td>0.000078</td>\n",
       "      <td>...</td>\n",
       "      <td>1046.0</td>\n",
       "      <td>3</td>\n",
       "      <td>23</td>\n",
       "      <td>B</td>\n",
       "      <td>197245.267664</td>\n",
       "      <td>14.258833</td>\n",
       "      <td>0</td>\n",
       "      <td>0</td>\n",
       "      <td>0</td>\n",
       "      <td>0</td>\n",
       "    </tr>\n",
       "    <tr>\n",
       "      <th>922</th>\n",
       "      <td>5913</td>\n",
       "      <td>90</td>\n",
       "      <td>3.0</td>\n",
       "      <td>44.418467</td>\n",
       "      <td>21.107737</td>\n",
       "      <td>8.0</td>\n",
       "      <td>10</td>\n",
       "      <td>15.0</td>\n",
       "      <td>1973</td>\n",
       "      <td>0.265089</td>\n",
       "      <td>...</td>\n",
       "      <td>1937.0</td>\n",
       "      <td>3</td>\n",
       "      <td>2</td>\n",
       "      <td>B</td>\n",
       "      <td>214431.006851</td>\n",
       "      <td>14.806156</td>\n",
       "      <td>0</td>\n",
       "      <td>0</td>\n",
       "      <td>0</td>\n",
       "      <td>0</td>\n",
       "    </tr>\n",
       "    <tr>\n",
       "      <th>5521</th>\n",
       "      <td>2748</td>\n",
       "      <td>143</td>\n",
       "      <td>3.0</td>\n",
       "      <td>46.388203</td>\n",
       "      <td>29.716007</td>\n",
       "      <td>5.0</td>\n",
       "      <td>3</td>\n",
       "      <td>5.0</td>\n",
       "      <td>1962</td>\n",
       "      <td>0.049863</td>\n",
       "      <td>...</td>\n",
       "      <td>75.0</td>\n",
       "      <td>3</td>\n",
       "      <td>1</td>\n",
       "      <td>B</td>\n",
       "      <td>255479.601949</td>\n",
       "      <td>15.462734</td>\n",
       "      <td>0</td>\n",
       "      <td>0</td>\n",
       "      <td>0</td>\n",
       "      <td>0</td>\n",
       "    </tr>\n",
       "    <tr>\n",
       "      <th>9332</th>\n",
       "      <td>3943</td>\n",
       "      <td>85</td>\n",
       "      <td>4.0</td>\n",
       "      <td>63.147414</td>\n",
       "      <td>46.777964</td>\n",
       "      <td>6.0</td>\n",
       "      <td>6</td>\n",
       "      <td>9.0</td>\n",
       "      <td>1979</td>\n",
       "      <td>0.037178</td>\n",
       "      <td>...</td>\n",
       "      <td>2300.0</td>\n",
       "      <td>1</td>\n",
       "      <td>7</td>\n",
       "      <td>B</td>\n",
       "      <td>250971.663904</td>\n",
       "      <td>15.786853</td>\n",
       "      <td>0</td>\n",
       "      <td>0</td>\n",
       "      <td>0</td>\n",
       "      <td>0</td>\n",
       "    </tr>\n",
       "    <tr>\n",
       "      <th>3521</th>\n",
       "      <td>8162</td>\n",
       "      <td>27</td>\n",
       "      <td>3.0</td>\n",
       "      <td>46.295821</td>\n",
       "      <td>40.295821</td>\n",
       "      <td>3.0</td>\n",
       "      <td>7</td>\n",
       "      <td>25.0</td>\n",
       "      <td>2016</td>\n",
       "      <td>0.072158</td>\n",
       "      <td>...</td>\n",
       "      <td>NaN</td>\n",
       "      <td>0</td>\n",
       "      <td>0</td>\n",
       "      <td>A</td>\n",
       "      <td>141657.045013</td>\n",
       "      <td>15.431940</td>\n",
       "      <td>0</td>\n",
       "      <td>1</td>\n",
       "      <td>0</td>\n",
       "      <td>0</td>\n",
       "    </tr>\n",
       "    <tr>\n",
       "      <th>8501</th>\n",
       "      <td>12927</td>\n",
       "      <td>62</td>\n",
       "      <td>2.0</td>\n",
       "      <td>17.414181</td>\n",
       "      <td>11.414181</td>\n",
       "      <td>3.0</td>\n",
       "      <td>4</td>\n",
       "      <td>20.0</td>\n",
       "      <td>1977</td>\n",
       "      <td>0.072158</td>\n",
       "      <td>...</td>\n",
       "      <td>NaN</td>\n",
       "      <td>0</td>\n",
       "      <td>0</td>\n",
       "      <td>A</td>\n",
       "      <td>180750.471749</td>\n",
       "      <td>8.707091</td>\n",
       "      <td>0</td>\n",
       "      <td>1</td>\n",
       "      <td>0</td>\n",
       "      <td>0</td>\n",
       "    </tr>\n",
       "    <tr>\n",
       "      <th>3686</th>\n",
       "      <td>15877</td>\n",
       "      <td>57</td>\n",
       "      <td>3.0</td>\n",
       "      <td>16.547242</td>\n",
       "      <td>16.698571</td>\n",
       "      <td>8.0</td>\n",
       "      <td>5</td>\n",
       "      <td>5.0</td>\n",
       "      <td>1962</td>\n",
       "      <td>0.133215</td>\n",
       "      <td>...</td>\n",
       "      <td>1406.0</td>\n",
       "      <td>3</td>\n",
       "      <td>4</td>\n",
       "      <td>A</td>\n",
       "      <td>77835.185808</td>\n",
       "      <td>5.515747</td>\n",
       "      <td>0</td>\n",
       "      <td>0</td>\n",
       "      <td>0</td>\n",
       "      <td>0</td>\n",
       "    </tr>\n",
       "    <tr>\n",
       "      <th>228</th>\n",
       "      <td>13727</td>\n",
       "      <td>27</td>\n",
       "      <td>3.0</td>\n",
       "      <td>47.821321</td>\n",
       "      <td>47.015083</td>\n",
       "      <td>3.0</td>\n",
       "      <td>10</td>\n",
       "      <td>25.0</td>\n",
       "      <td>1977</td>\n",
       "      <td>0.072158</td>\n",
       "      <td>...</td>\n",
       "      <td>NaN</td>\n",
       "      <td>0</td>\n",
       "      <td>0</td>\n",
       "      <td>A</td>\n",
       "      <td>143244.415307</td>\n",
       "      <td>15.940440</td>\n",
       "      <td>0</td>\n",
       "      <td>0</td>\n",
       "      <td>0</td>\n",
       "      <td>0</td>\n",
       "    </tr>\n",
       "    <tr>\n",
       "      <th>6619</th>\n",
       "      <td>11388</td>\n",
       "      <td>27</td>\n",
       "      <td>3.0</td>\n",
       "      <td>46.923652</td>\n",
       "      <td>40.923652</td>\n",
       "      <td>3.0</td>\n",
       "      <td>24</td>\n",
       "      <td>24.0</td>\n",
       "      <td>1977</td>\n",
       "      <td>0.072158</td>\n",
       "      <td>...</td>\n",
       "      <td>NaN</td>\n",
       "      <td>0</td>\n",
       "      <td>0</td>\n",
       "      <td>A</td>\n",
       "      <td>149404.835436</td>\n",
       "      <td>15.641217</td>\n",
       "      <td>0</td>\n",
       "      <td>1</td>\n",
       "      <td>0</td>\n",
       "      <td>0</td>\n",
       "    </tr>\n",
       "    <tr>\n",
       "      <th>9656</th>\n",
       "      <td>3508</td>\n",
       "      <td>27</td>\n",
       "      <td>3.0</td>\n",
       "      <td>46.126590</td>\n",
       "      <td>45.825691</td>\n",
       "      <td>3.0</td>\n",
       "      <td>9</td>\n",
       "      <td>25.0</td>\n",
       "      <td>2013</td>\n",
       "      <td>0.072158</td>\n",
       "      <td>...</td>\n",
       "      <td>NaN</td>\n",
       "      <td>0</td>\n",
       "      <td>0</td>\n",
       "      <td>A</td>\n",
       "      <td>137578.163912</td>\n",
       "      <td>15.375530</td>\n",
       "      <td>0</td>\n",
       "      <td>0</td>\n",
       "      <td>0</td>\n",
       "      <td>0</td>\n",
       "    </tr>\n",
       "    <tr>\n",
       "      <th>8850</th>\n",
       "      <td>11041</td>\n",
       "      <td>27</td>\n",
       "      <td>3.0</td>\n",
       "      <td>47.120275</td>\n",
       "      <td>41.120275</td>\n",
       "      <td>3.0</td>\n",
       "      <td>25</td>\n",
       "      <td>25.0</td>\n",
       "      <td>1977</td>\n",
       "      <td>0.072158</td>\n",
       "      <td>...</td>\n",
       "      <td>NaN</td>\n",
       "      <td>0</td>\n",
       "      <td>0</td>\n",
       "      <td>A</td>\n",
       "      <td>184690.868376</td>\n",
       "      <td>15.706758</td>\n",
       "      <td>0</td>\n",
       "      <td>1</td>\n",
       "      <td>0</td>\n",
       "      <td>0</td>\n",
       "    </tr>\n",
       "    <tr>\n",
       "      <th>685</th>\n",
       "      <td>6703</td>\n",
       "      <td>27</td>\n",
       "      <td>3.0</td>\n",
       "      <td>45.533768</td>\n",
       "      <td>30.749207</td>\n",
       "      <td>6.0</td>\n",
       "      <td>1</td>\n",
       "      <td>4.0</td>\n",
       "      <td>1965</td>\n",
       "      <td>0.075424</td>\n",
       "      <td>...</td>\n",
       "      <td>NaN</td>\n",
       "      <td>0</td>\n",
       "      <td>0</td>\n",
       "      <td>B</td>\n",
       "      <td>137784.604847</td>\n",
       "      <td>15.177923</td>\n",
       "      <td>0</td>\n",
       "      <td>0</td>\n",
       "      <td>0</td>\n",
       "      <td>0</td>\n",
       "    </tr>\n",
       "    <tr>\n",
       "      <th>8565</th>\n",
       "      <td>11126</td>\n",
       "      <td>27</td>\n",
       "      <td>3.0</td>\n",
       "      <td>47.938819</td>\n",
       "      <td>41.938819</td>\n",
       "      <td>3.0</td>\n",
       "      <td>5</td>\n",
       "      <td>25.0</td>\n",
       "      <td>1977</td>\n",
       "      <td>0.072158</td>\n",
       "      <td>...</td>\n",
       "      <td>NaN</td>\n",
       "      <td>0</td>\n",
       "      <td>0</td>\n",
       "      <td>A</td>\n",
       "      <td>132867.424433</td>\n",
       "      <td>15.979606</td>\n",
       "      <td>0</td>\n",
       "      <td>1</td>\n",
       "      <td>0</td>\n",
       "      <td>0</td>\n",
       "    </tr>\n",
       "    <tr>\n",
       "      <th>2763</th>\n",
       "      <td>3052</td>\n",
       "      <td>1</td>\n",
       "      <td>3.0</td>\n",
       "      <td>31.113950</td>\n",
       "      <td>19.799743</td>\n",
       "      <td>6.0</td>\n",
       "      <td>6</td>\n",
       "      <td>6.0</td>\n",
       "      <td>1975</td>\n",
       "      <td>0.014581</td>\n",
       "      <td>...</td>\n",
       "      <td>NaN</td>\n",
       "      <td>0</td>\n",
       "      <td>0</td>\n",
       "      <td>B</td>\n",
       "      <td>114756.610121</td>\n",
       "      <td>10.371317</td>\n",
       "      <td>0</td>\n",
       "      <td>0</td>\n",
       "      <td>0</td>\n",
       "      <td>0</td>\n",
       "    </tr>\n",
       "    <tr>\n",
       "      <th>153</th>\n",
       "      <td>10529</td>\n",
       "      <td>182</td>\n",
       "      <td>3.0</td>\n",
       "      <td>45.378424</td>\n",
       "      <td>30.651801</td>\n",
       "      <td>6.0</td>\n",
       "      <td>5</td>\n",
       "      <td>5.0</td>\n",
       "      <td>1977</td>\n",
       "      <td>0.246624</td>\n",
       "      <td>...</td>\n",
       "      <td>NaN</td>\n",
       "      <td>3</td>\n",
       "      <td>6</td>\n",
       "      <td>B</td>\n",
       "      <td>352139.644089</td>\n",
       "      <td>15.126141</td>\n",
       "      <td>0</td>\n",
       "      <td>0</td>\n",
       "      <td>0</td>\n",
       "      <td>0</td>\n",
       "    </tr>\n",
       "    <tr>\n",
       "      <th>9286</th>\n",
       "      <td>12676</td>\n",
       "      <td>81</td>\n",
       "      <td>3.0</td>\n",
       "      <td>13.784865</td>\n",
       "      <td>15.988889</td>\n",
       "      <td>7.0</td>\n",
       "      <td>4</td>\n",
       "      <td>5.0</td>\n",
       "      <td>1960</td>\n",
       "      <td>0.319809</td>\n",
       "      <td>...</td>\n",
       "      <td>2857.0</td>\n",
       "      <td>5</td>\n",
       "      <td>8</td>\n",
       "      <td>B</td>\n",
       "      <td>78388.806186</td>\n",
       "      <td>4.594955</td>\n",
       "      <td>0</td>\n",
       "      <td>0</td>\n",
       "      <td>0</td>\n",
       "      <td>0</td>\n",
       "    </tr>\n",
       "  </tbody>\n",
       "</table>\n",
       "<p>16 rows × 25 columns</p>\n",
       "</div>"
      ],
      "text/plain": [
       "         Id DistrictId  Rooms     Square  LifeSquare  KitchenSquare  Floor  \\\n",
       "5520   4352        104    2.0  28.517666   15.565872            3.0      7   \n",
       "922    5913         90    3.0  44.418467   21.107737            8.0     10   \n",
       "5521   2748        143    3.0  46.388203   29.716007            5.0      3   \n",
       "9332   3943         85    4.0  63.147414   46.777964            6.0      6   \n",
       "3521   8162         27    3.0  46.295821   40.295821            3.0      7   \n",
       "8501  12927         62    2.0  17.414181   11.414181            3.0      4   \n",
       "3686  15877         57    3.0  16.547242   16.698571            8.0      5   \n",
       "228   13727         27    3.0  47.821321   47.015083            3.0     10   \n",
       "6619  11388         27    3.0  46.923652   40.923652            3.0     24   \n",
       "9656   3508         27    3.0  46.126590   45.825691            3.0      9   \n",
       "8850  11041         27    3.0  47.120275   41.120275            3.0     25   \n",
       "685    6703         27    3.0  45.533768   30.749207            6.0      1   \n",
       "8565  11126         27    3.0  47.938819   41.938819            3.0      5   \n",
       "2763   3052          1    3.0  31.113950   19.799743            6.0      6   \n",
       "153   10529        182    3.0  45.378424   30.651801            6.0      5   \n",
       "9286  12676         81    3.0  13.784865   15.988889            7.0      4   \n",
       "\n",
       "      HouseFloor  HouseYear  Ecology_1  ... Healthcare_1 Helthcare_2  Shops_1  \\\n",
       "5520         7.0       1931   0.000078  ...       1046.0           3       23   \n",
       "922         15.0       1973   0.265089  ...       1937.0           3        2   \n",
       "5521         5.0       1962   0.049863  ...         75.0           3        1   \n",
       "9332         9.0       1979   0.037178  ...       2300.0           1        7   \n",
       "3521        25.0       2016   0.072158  ...          NaN           0        0   \n",
       "8501        20.0       1977   0.072158  ...          NaN           0        0   \n",
       "3686         5.0       1962   0.133215  ...       1406.0           3        4   \n",
       "228         25.0       1977   0.072158  ...          NaN           0        0   \n",
       "6619        24.0       1977   0.072158  ...          NaN           0        0   \n",
       "9656        25.0       2013   0.072158  ...          NaN           0        0   \n",
       "8850        25.0       1977   0.072158  ...          NaN           0        0   \n",
       "685          4.0       1965   0.075424  ...          NaN           0        0   \n",
       "8565        25.0       1977   0.072158  ...          NaN           0        0   \n",
       "2763         6.0       1975   0.014581  ...          NaN           0        0   \n",
       "153          5.0       1977   0.246624  ...          NaN           3        6   \n",
       "9286         5.0       1960   0.319809  ...       2857.0           5        8   \n",
       "\n",
       "      Shops_2          Price    room_sq  Rooms_outlier  LifeSquare_nan  \\\n",
       "5520        B  197245.267664  14.258833              0               0   \n",
       "922         B  214431.006851  14.806156              0               0   \n",
       "5521        B  255479.601949  15.462734              0               0   \n",
       "9332        B  250971.663904  15.786853              0               0   \n",
       "3521        A  141657.045013  15.431940              0               1   \n",
       "8501        A  180750.471749   8.707091              0               1   \n",
       "3686        A   77835.185808   5.515747              0               0   \n",
       "228         A  143244.415307  15.940440              0               0   \n",
       "6619        A  149404.835436  15.641217              0               1   \n",
       "9656        A  137578.163912  15.375530              0               0   \n",
       "8850        A  184690.868376  15.706758              0               1   \n",
       "685         B  137784.604847  15.177923              0               0   \n",
       "8565        A  132867.424433  15.979606              0               1   \n",
       "2763        B  114756.610121  10.371317              0               0   \n",
       "153         B  352139.644089  15.126141              0               0   \n",
       "9286        B   78388.806186   4.594955              0               0   \n",
       "\n",
       "     Square_outlier  LifeSquare_outlier  \n",
       "5520              0                   0  \n",
       "922               0                   0  \n",
       "5521              0                   0  \n",
       "9332              0                   0  \n",
       "3521              0                   0  \n",
       "8501              0                   0  \n",
       "3686              0                   0  \n",
       "228               0                   0  \n",
       "6619              0                   0  \n",
       "9656              0                   0  \n",
       "8850              0                   0  \n",
       "685               0                   0  \n",
       "8565              0                   0  \n",
       "2763              0                   0  \n",
       "153               0                   0  \n",
       "9286              0                   0  \n",
       "\n",
       "[16 rows x 25 columns]"
      ]
     },
     "execution_count": 384,
     "metadata": {},
     "output_type": "execute_result"
    }
   ],
   "source": [
    "strat_train_set[strat_train_set['room_sq'] < 16]"
   ]
  },
  {
   "cell_type": "code",
   "execution_count": null,
   "metadata": {},
   "outputs": [],
   "source": []
  },
  {
   "cell_type": "code",
   "execution_count": 83,
   "metadata": {},
   "outputs": [
    {
     "data": {
      "text/plain": [
       "566         1979\n",
       "2197        1965\n",
       "3019        1994\n",
       "8589        2009\n",
       "3056        2001\n",
       "7584        1968\n",
       "8124        1978\n",
       "9566        1995\n",
       "4826        1996\n",
       "7183        1996\n",
       "5438        1962\n",
       "7963        2001\n",
       "6540        1999\n",
       "5933        1966\n",
       "9449        2002\n",
       "1205        1990\n",
       "3115        1988\n",
       "9772        2011\n",
       "8402        1965\n",
       "7014        1964\n",
       "5809        1985\n",
       "6669        1999\n",
       "2309        1979\n",
       "9880        1982\n",
       "9163    20052011\n",
       "6385        1965\n",
       "1865        2002\n",
       "9411        1987\n",
       "5948        1980\n",
       "8025        2012\n",
       "1477        1976\n",
       "4324        1963\n",
       "4796        1977\n",
       "4408        2005\n",
       "Name: HouseYear, dtype: int64"
      ]
     },
     "execution_count": 83,
     "metadata": {},
     "output_type": "execute_result"
    }
   ],
   "source": [
    "strat_train_set[strat_train_set['DistrictId'] == '109'].HouseYear"
   ]
  },
  {
   "cell_type": "code",
   "execution_count": null,
   "metadata": {},
   "outputs": [],
   "source": []
  },
  {
   "cell_type": "code",
   "execution_count": null,
   "metadata": {},
   "outputs": [],
   "source": []
  },
  {
   "cell_type": "code",
   "execution_count": 25,
   "metadata": {},
   "outputs": [
    {
     "data": {
      "text/plain": [
       "27     851\n",
       "1      652\n",
       "23     565\n",
       "6      511\n",
       "9      294\n",
       "      ... \n",
       "199      1\n",
       "205      1\n",
       "196      1\n",
       "207      1\n",
       "117      1\n",
       "Name: DistrictId, Length: 205, dtype: int64"
      ]
     },
     "execution_count": 25,
     "metadata": {},
     "output_type": "execute_result"
    }
   ],
   "source": [
    "df['DistrictId'].value_counts()"
   ]
  },
  {
   "cell_type": "code",
   "execution_count": 26,
   "metadata": {},
   "outputs": [
    {
     "data": {
      "text/html": [
       "<div>\n",
       "<style scoped>\n",
       "    .dataframe tbody tr th:only-of-type {\n",
       "        vertical-align: middle;\n",
       "    }\n",
       "\n",
       "    .dataframe tbody tr th {\n",
       "        vertical-align: top;\n",
       "    }\n",
       "\n",
       "    .dataframe thead th {\n",
       "        text-align: right;\n",
       "    }\n",
       "</style>\n",
       "<table border=\"1\" class=\"dataframe\">\n",
       "  <thead>\n",
       "    <tr style=\"text-align: right;\">\n",
       "      <th></th>\n",
       "      <th>Id</th>\n",
       "      <th>DistrictId</th>\n",
       "      <th>Rooms</th>\n",
       "      <th>Square</th>\n",
       "      <th>LifeSquare</th>\n",
       "      <th>KitchenSquare</th>\n",
       "      <th>Floor</th>\n",
       "      <th>HouseFloor</th>\n",
       "      <th>HouseYear</th>\n",
       "      <th>Ecology_1</th>\n",
       "      <th>Ecology_2</th>\n",
       "      <th>Ecology_3</th>\n",
       "      <th>Social_1</th>\n",
       "      <th>Social_2</th>\n",
       "      <th>Social_3</th>\n",
       "      <th>Healthcare_1</th>\n",
       "      <th>Helthcare_2</th>\n",
       "      <th>Shops_1</th>\n",
       "      <th>Shops_2</th>\n",
       "      <th>Price</th>\n",
       "    </tr>\n",
       "  </thead>\n",
       "  <tbody>\n",
       "  </tbody>\n",
       "</table>\n",
       "</div>"
      ],
      "text/plain": [
       "Empty DataFrame\n",
       "Columns: [Id, DistrictId, Rooms, Square, LifeSquare, KitchenSquare, Floor, HouseFloor, HouseYear, Ecology_1, Ecology_2, Ecology_3, Social_1, Social_2, Social_3, Healthcare_1, Helthcare_2, Shops_1, Shops_2, Price]\n",
       "Index: []"
      ]
     },
     "execution_count": 26,
     "metadata": {},
     "output_type": "execute_result"
    }
   ],
   "source": [
    "df[df['DistrictId'] == 0]"
   ]
  },
  {
   "cell_type": "code",
   "execution_count": 31,
   "metadata": {},
   "outputs": [
    {
     "data": {
      "text/html": [
       "<div>\n",
       "<style scoped>\n",
       "    .dataframe tbody tr th:only-of-type {\n",
       "        vertical-align: middle;\n",
       "    }\n",
       "\n",
       "    .dataframe tbody tr th {\n",
       "        vertical-align: top;\n",
       "    }\n",
       "\n",
       "    .dataframe thead th {\n",
       "        text-align: right;\n",
       "    }\n",
       "</style>\n",
       "<table border=\"1\" class=\"dataframe\">\n",
       "  <thead>\n",
       "    <tr style=\"text-align: right;\">\n",
       "      <th></th>\n",
       "      <th>Id</th>\n",
       "      <th>DistrictId</th>\n",
       "      <th>Rooms</th>\n",
       "      <th>Square</th>\n",
       "      <th>LifeSquare</th>\n",
       "      <th>KitchenSquare</th>\n",
       "      <th>Floor</th>\n",
       "      <th>HouseFloor</th>\n",
       "      <th>HouseYear</th>\n",
       "      <th>Ecology_1</th>\n",
       "      <th>Ecology_2</th>\n",
       "      <th>Ecology_3</th>\n",
       "      <th>Social_1</th>\n",
       "      <th>Social_2</th>\n",
       "      <th>Social_3</th>\n",
       "      <th>Healthcare_1</th>\n",
       "      <th>Helthcare_2</th>\n",
       "      <th>Shops_1</th>\n",
       "      <th>Shops_2</th>\n",
       "      <th>Price</th>\n",
       "    </tr>\n",
       "  </thead>\n",
       "  <tbody>\n",
       "    <tr>\n",
       "      <th>2194</th>\n",
       "      <td>3159</td>\n",
       "      <td>88</td>\n",
       "      <td>0.0</td>\n",
       "      <td>38.697117</td>\n",
       "      <td>19.345131</td>\n",
       "      <td>9.0</td>\n",
       "      <td>9</td>\n",
       "      <td>16.0</td>\n",
       "      <td>1982</td>\n",
       "      <td>0.127376</td>\n",
       "      <td>B</td>\n",
       "      <td>B</td>\n",
       "      <td>43</td>\n",
       "      <td>8429</td>\n",
       "      <td>3</td>\n",
       "      <td>NaN</td>\n",
       "      <td>3</td>\n",
       "      <td>9</td>\n",
       "      <td>B</td>\n",
       "      <td>158998.110646</td>\n",
       "    </tr>\n",
       "    <tr>\n",
       "      <th>3780</th>\n",
       "      <td>7317</td>\n",
       "      <td>27</td>\n",
       "      <td>0.0</td>\n",
       "      <td>41.790881</td>\n",
       "      <td>NaN</td>\n",
       "      <td>0.0</td>\n",
       "      <td>13</td>\n",
       "      <td>0.0</td>\n",
       "      <td>1977</td>\n",
       "      <td>0.211401</td>\n",
       "      <td>B</td>\n",
       "      <td>B</td>\n",
       "      <td>9</td>\n",
       "      <td>1892</td>\n",
       "      <td>0</td>\n",
       "      <td>NaN</td>\n",
       "      <td>0</td>\n",
       "      <td>1</td>\n",
       "      <td>B</td>\n",
       "      <td>98129.976788</td>\n",
       "    </tr>\n",
       "    <tr>\n",
       "      <th>5894</th>\n",
       "      <td>770</td>\n",
       "      <td>28</td>\n",
       "      <td>0.0</td>\n",
       "      <td>49.483501</td>\n",
       "      <td>NaN</td>\n",
       "      <td>0.0</td>\n",
       "      <td>16</td>\n",
       "      <td>0.0</td>\n",
       "      <td>2015</td>\n",
       "      <td>0.118537</td>\n",
       "      <td>B</td>\n",
       "      <td>B</td>\n",
       "      <td>30</td>\n",
       "      <td>6207</td>\n",
       "      <td>1</td>\n",
       "      <td>1183.0</td>\n",
       "      <td>1</td>\n",
       "      <td>0</td>\n",
       "      <td>B</td>\n",
       "      <td>217009.338463</td>\n",
       "    </tr>\n",
       "    <tr>\n",
       "      <th>6401</th>\n",
       "      <td>9443</td>\n",
       "      <td>27</td>\n",
       "      <td>0.0</td>\n",
       "      <td>87.762616</td>\n",
       "      <td>85.125471</td>\n",
       "      <td>0.0</td>\n",
       "      <td>5</td>\n",
       "      <td>15.0</td>\n",
       "      <td>1977</td>\n",
       "      <td>0.211401</td>\n",
       "      <td>B</td>\n",
       "      <td>B</td>\n",
       "      <td>9</td>\n",
       "      <td>1892</td>\n",
       "      <td>0</td>\n",
       "      <td>NaN</td>\n",
       "      <td>0</td>\n",
       "      <td>1</td>\n",
       "      <td>B</td>\n",
       "      <td>219281.918007</td>\n",
       "    </tr>\n",
       "    <tr>\n",
       "      <th>7644</th>\n",
       "      <td>7917</td>\n",
       "      <td>27</td>\n",
       "      <td>0.0</td>\n",
       "      <td>212.932361</td>\n",
       "      <td>211.231125</td>\n",
       "      <td>0.0</td>\n",
       "      <td>2</td>\n",
       "      <td>3.0</td>\n",
       "      <td>2008</td>\n",
       "      <td>0.211401</td>\n",
       "      <td>B</td>\n",
       "      <td>B</td>\n",
       "      <td>9</td>\n",
       "      <td>1892</td>\n",
       "      <td>0</td>\n",
       "      <td>NaN</td>\n",
       "      <td>0</td>\n",
       "      <td>1</td>\n",
       "      <td>B</td>\n",
       "      <td>302211.260887</td>\n",
       "    </tr>\n",
       "    <tr>\n",
       "      <th>7929</th>\n",
       "      <td>456</td>\n",
       "      <td>6</td>\n",
       "      <td>0.0</td>\n",
       "      <td>81.491446</td>\n",
       "      <td>NaN</td>\n",
       "      <td>0.0</td>\n",
       "      <td>4</td>\n",
       "      <td>0.0</td>\n",
       "      <td>1977</td>\n",
       "      <td>0.243205</td>\n",
       "      <td>B</td>\n",
       "      <td>B</td>\n",
       "      <td>5</td>\n",
       "      <td>1564</td>\n",
       "      <td>0</td>\n",
       "      <td>540.0</td>\n",
       "      <td>0</td>\n",
       "      <td>0</td>\n",
       "      <td>B</td>\n",
       "      <td>212864.799112</td>\n",
       "    </tr>\n",
       "    <tr>\n",
       "      <th>9767</th>\n",
       "      <td>12638</td>\n",
       "      <td>27</td>\n",
       "      <td>0.0</td>\n",
       "      <td>138.427694</td>\n",
       "      <td>136.215499</td>\n",
       "      <td>0.0</td>\n",
       "      <td>4</td>\n",
       "      <td>3.0</td>\n",
       "      <td>2016</td>\n",
       "      <td>0.075424</td>\n",
       "      <td>B</td>\n",
       "      <td>B</td>\n",
       "      <td>11</td>\n",
       "      <td>3097</td>\n",
       "      <td>0</td>\n",
       "      <td>NaN</td>\n",
       "      <td>0</td>\n",
       "      <td>0</td>\n",
       "      <td>B</td>\n",
       "      <td>268394.744389</td>\n",
       "    </tr>\n",
       "    <tr>\n",
       "      <th>9869</th>\n",
       "      <td>3224</td>\n",
       "      <td>27</td>\n",
       "      <td>0.0</td>\n",
       "      <td>2.377248</td>\n",
       "      <td>0.873147</td>\n",
       "      <td>0.0</td>\n",
       "      <td>1</td>\n",
       "      <td>0.0</td>\n",
       "      <td>1977</td>\n",
       "      <td>0.017647</td>\n",
       "      <td>B</td>\n",
       "      <td>B</td>\n",
       "      <td>2</td>\n",
       "      <td>469</td>\n",
       "      <td>0</td>\n",
       "      <td>NaN</td>\n",
       "      <td>0</td>\n",
       "      <td>0</td>\n",
       "      <td>B</td>\n",
       "      <td>126596.941798</td>\n",
       "    </tr>\n",
       "  </tbody>\n",
       "</table>\n",
       "</div>"
      ],
      "text/plain": [
       "         Id DistrictId  Rooms      Square  LifeSquare  KitchenSquare  Floor  \\\n",
       "2194   3159         88    0.0   38.697117   19.345131            9.0      9   \n",
       "3780   7317         27    0.0   41.790881         NaN            0.0     13   \n",
       "5894    770         28    0.0   49.483501         NaN            0.0     16   \n",
       "6401   9443         27    0.0   87.762616   85.125471            0.0      5   \n",
       "7644   7917         27    0.0  212.932361  211.231125            0.0      2   \n",
       "7929    456          6    0.0   81.491446         NaN            0.0      4   \n",
       "9767  12638         27    0.0  138.427694  136.215499            0.0      4   \n",
       "9869   3224         27    0.0    2.377248    0.873147            0.0      1   \n",
       "\n",
       "      HouseFloor  HouseYear  Ecology_1 Ecology_2 Ecology_3  Social_1  \\\n",
       "2194        16.0       1982   0.127376         B         B        43   \n",
       "3780         0.0       1977   0.211401         B         B         9   \n",
       "5894         0.0       2015   0.118537         B         B        30   \n",
       "6401        15.0       1977   0.211401         B         B         9   \n",
       "7644         3.0       2008   0.211401         B         B         9   \n",
       "7929         0.0       1977   0.243205         B         B         5   \n",
       "9767         3.0       2016   0.075424         B         B        11   \n",
       "9869         0.0       1977   0.017647         B         B         2   \n",
       "\n",
       "      Social_2  Social_3  Healthcare_1  Helthcare_2  Shops_1 Shops_2  \\\n",
       "2194      8429         3           NaN            3        9       B   \n",
       "3780      1892         0           NaN            0        1       B   \n",
       "5894      6207         1        1183.0            1        0       B   \n",
       "6401      1892         0           NaN            0        1       B   \n",
       "7644      1892         0           NaN            0        1       B   \n",
       "7929      1564         0         540.0            0        0       B   \n",
       "9767      3097         0           NaN            0        0       B   \n",
       "9869       469         0           NaN            0        0       B   \n",
       "\n",
       "              Price  \n",
       "2194  158998.110646  \n",
       "3780   98129.976788  \n",
       "5894  217009.338463  \n",
       "6401  219281.918007  \n",
       "7644  302211.260887  \n",
       "7929  212864.799112  \n",
       "9767  268394.744389  \n",
       "9869  126596.941798  "
      ]
     },
     "execution_count": 31,
     "metadata": {},
     "output_type": "execute_result"
    }
   ],
   "source": [
    "df[df.Rooms == 0]"
   ]
  },
  {
   "cell_type": "code",
   "execution_count": 33,
   "metadata": {},
   "outputs": [],
   "source": [
    "df['pr_m'] = df.Price / df.Square"
   ]
  },
  {
   "cell_type": "code",
   "execution_count": 34,
   "metadata": {},
   "outputs": [
    {
     "data": {
      "text/plain": [
       "count     10000.000000\n",
       "mean       3988.383777\n",
       "std        3755.437224\n",
       "min         208.293451\n",
       "25%        2918.525328\n",
       "50%        3910.052336\n",
       "75%        4692.375993\n",
       "max      230463.537966\n",
       "Name: pr_m, dtype: float64"
      ]
     },
     "execution_count": 34,
     "metadata": {},
     "output_type": "execute_result"
    }
   ],
   "source": [
    "df.pr_m.describe()"
   ]
  },
  {
   "cell_type": "code",
   "execution_count": 36,
   "metadata": {},
   "outputs": [
    {
     "data": {
      "text/plain": [
       "array(['27', '22', '1', '94', '99', '44', '59', '6', '2', '88', '93',\n",
       "       '90', '36', '96', '48', '8', '45', '63', '20', '7', '103', '67',\n",
       "       '24', '23', '38', '100', '74', '35', '9', '167', '119', '129', '4',\n",
       "       '62', '173', '37', '60', '111', '124', '157', '138', '147', '66',\n",
       "       '42', '41', '58', '75', '81', '110', '5', '57', '77', '11', '61',\n",
       "       '120', '121', '101', '32', '21', '140', '46', '91', '30', '0',\n",
       "       '33', '85', '17', '56', '84', '137', '143', '31', '53', '163',\n",
       "       '200', '78', '182', '73', '70', '98', '54', '55', '3', '159', '50',\n",
       "       '49', '52', '127', '28', '83', '29', '194', '47', '128', '12',\n",
       "       '187', '80', '170', '34', '205', '79', '105', '123', '39', '142',\n",
       "       '176', '130', '13', '15', '25', '89', '169', '113', '108', '132',\n",
       "       '186', '106', '10', '139', '151', '144', '69', '189', '152', '125',\n",
       "       '109', '40', '162', '72', '154', '64', '26', '18', '164', '71',\n",
       "       '82', '86', '155', '122', '112', '126', '166', '117', '116', '95',\n",
       "       '87', '92', '168', '136', '165', '150', '68', '191', '145', '43',\n",
       "       '188', '193', '146', '104', '51', '158', '97', '153', '161', '149',\n",
       "       '107', '177', '118', '114', '156', '160', '14', '19', '135', '148',\n",
       "       '131', '134', '183', '185', '190', '141', '207', '115', '192',\n",
       "       '102', '171', '201', '76', '202', '133', '180', '181', '65', '208',\n",
       "       '178', '179', '172', '184', '196', '199', '175', '16', '195',\n",
       "       '209', '174'], dtype=object)"
      ]
     },
     "execution_count": 36,
     "metadata": {},
     "output_type": "execute_result"
    }
   ],
   "source": [
    "df['DistrictId'].unique()"
   ]
  },
  {
   "cell_type": "code",
   "execution_count": 71,
   "metadata": {},
   "outputs": [],
   "source": [
    "Distr = []\n",
    "for d in df.DistrictId.unique():\n",
    "    Distr.append([d, df.pr_m[df.DistrictId == d].median(), df.pr_m[df.DistrictId == d].count()])"
   ]
  },
  {
   "cell_type": "code",
   "execution_count": 72,
   "metadata": {},
   "outputs": [
    {
     "data": {
      "text/plain": [
       "[['27', 2761.2667473098977, 851],\n",
       " ['22', 3553.678687223999, 78],\n",
       " ['1', 3251.6473961721604, 652],\n",
       " ['94', 4219.992381822662, 89],\n",
       " ['99', 3992.031265451767, 97],\n",
       " ['44', 4610.399154954972, 104],\n",
       " ['59', 4736.6316107216, 67],\n",
       " ['6', 2861.079292929318, 511],\n",
       " ['2', 4550.709249535287, 78],\n",
       " ['88', 4424.291635018726, 64],\n",
       " ['93', 3494.426935835619, 73],\n",
       " ['90', 4451.242829085757, 72],\n",
       " ['36', 4664.977121869393, 17],\n",
       " ['96', 4025.341982237956, 71],\n",
       " ['48', 5115.764637301366, 90],\n",
       " ['8', 4124.217673241366, 142],\n",
       " ['45', 5288.644431367424, 116],\n",
       " ['63', 5433.8994784000715, 43],\n",
       " ['20', 5544.800299680768, 24],\n",
       " ['7', 4562.0267772945335, 92],\n",
       " ['103', 4953.811526267013, 33],\n",
       " ['67', 4229.830132718442, 61],\n",
       " ['24', 5008.479259603621, 35],\n",
       " ['23', 2273.4987368094166, 565],\n",
       " ['38', 4665.5830305062045, 36],\n",
       " ['100', 4933.389993872963, 25],\n",
       " ['74', 3319.318045403382, 114],\n",
       " ['35', 4358.274853343687, 22],\n",
       " ['9', 3206.5882566971477, 294],\n",
       " ['167', 5225.658217989187, 20],\n",
       " ['119', 4073.002230935311, 49],\n",
       " ['129', 4730.652435824393, 43],\n",
       " ['4', 5716.888354234639, 11],\n",
       " ['62', 2613.223638044904, 247],\n",
       " ['173', 5875.235049369963, 7],\n",
       " ['37', 4430.244621714515, 72],\n",
       " ['60', 5319.674093013627, 9],\n",
       " ['111', 5017.6487513598795, 49],\n",
       " ['124', 4991.712722976691, 43],\n",
       " ['157', 7654.286864193783, 15],\n",
       " ['138', 4956.871270691303, 29],\n",
       " ['147', 5016.9683636336595, 15],\n",
       " ['66', 5003.889499702173, 62],\n",
       " ['42', 3925.7296681012394, 42],\n",
       " ['41', 4437.304072496336, 87],\n",
       " ['58', 2949.975414530477, 179],\n",
       " ['75', 4262.324103632845, 66],\n",
       " ['81', 4947.248278243929, 18],\n",
       " ['110', 4254.806236786033, 13],\n",
       " ['5', 4853.266404978675, 34],\n",
       " ['57', 4127.810881335724, 107],\n",
       " ['77', 4400.0595956413545, 40],\n",
       " ['11', 4134.353749474017, 129],\n",
       " ['61', 4528.020925876495, 118],\n",
       " ['120', 4625.230528377908, 26],\n",
       " ['121', 5111.608785385811, 25],\n",
       " ['101', 4188.4147446414245, 97],\n",
       " ['32', 5067.192462664533, 34],\n",
       " ['21', 3986.5681703354994, 165],\n",
       " ['140', 5173.232154015614, 13],\n",
       " ['46', 4608.809056600243, 119],\n",
       " ['91', 4158.1879792757445, 44],\n",
       " ['30', 2830.364108254023, 228],\n",
       " ['0', 3935.906409115417, 48],\n",
       " ['33', 4768.956709454961, 31],\n",
       " ['85', 4452.225270445733, 76],\n",
       " ['17', 5029.78368192822, 59],\n",
       " ['56', 5706.051001150269, 34],\n",
       " ['84', 4229.546394571884, 80],\n",
       " ['137', 6334.641113548632, 9],\n",
       " ['143', 5507.426180516125, 11],\n",
       " ['31', 5480.216930281392, 55],\n",
       " ['53', 4845.919064200897, 174],\n",
       " ['163', 5418.77986079826, 14],\n",
       " ['200', 5248.377944231926, 6],\n",
       " ['78', 4313.837096077579, 46],\n",
       " ['182', 8008.603353376818, 4],\n",
       " ['73', 7579.190261459667, 17],\n",
       " ['70', 4552.38846561944, 27],\n",
       " ['98', 4444.979920139102, 21],\n",
       " ['54', 4802.628223300358, 37],\n",
       " ['55', 4081.4018507543483, 58],\n",
       " ['3', 3892.2037374001297, 82],\n",
       " ['159', 5171.4589156334205, 6],\n",
       " ['50', 7203.649946093117, 4],\n",
       " ['49', 4620.95991647066, 16],\n",
       " ['52', 2938.048239111628, 143],\n",
       " ['127', 4067.568928722545, 10],\n",
       " ['28', 4385.488771398001, 79],\n",
       " ['83', 4398.613176460186, 31],\n",
       " ['29', 4186.662748188238, 89],\n",
       " ['194', 4182.984694584688, 5],\n",
       " ['47', 4181.963614858857, 97],\n",
       " ['128', 4333.671199072258, 64],\n",
       " ['12', 4162.240019985806, 64],\n",
       " ['187', 3548.896258473006, 10],\n",
       " ['80', 4285.403071888043, 31],\n",
       " ['170', 4949.776418909174, 16],\n",
       " ['34', 4304.299309005946, 111],\n",
       " ['205', 5101.016598083746, 1],\n",
       " ['79', 4494.8213762593505, 42],\n",
       " ['105', 4644.689213977664, 55],\n",
       " ['123', 4651.1701097532, 32],\n",
       " ['39', 4249.133232229784, 57],\n",
       " ['142', 4576.364469369711, 11],\n",
       " ['176', 4877.330875431186, 6],\n",
       " ['130', 4554.18745752802, 29],\n",
       " ['13', 4273.749206965422, 97],\n",
       " ['15', 3946.455613172474, 36],\n",
       " ['25', 4166.864688072443, 77],\n",
       " ['89', 5334.3402211131215, 24],\n",
       " ['169', 4771.917860564489, 22],\n",
       " ['113', 4571.660176827585, 41],\n",
       " ['108', 5996.379615612485, 27],\n",
       " ['132', 5543.811002239719, 12],\n",
       " ['186', 6030.867635080587, 2],\n",
       " ['106', 4133.740853797208, 10],\n",
       " ['10', 4458.893221811486, 56],\n",
       " ['139', 4433.1305897966495, 14],\n",
       " ['151', 5478.2311026475545, 14],\n",
       " ['144', 4708.779313324006, 20],\n",
       " ['69', 5478.576959464464, 29],\n",
       " ['189', 5957.993646151697, 5],\n",
       " ['152', 6599.192501572305, 7],\n",
       " ['125', 4512.453054970681, 15],\n",
       " ['109', 5736.995959026926, 41],\n",
       " ['40', 4863.1751849124175, 11],\n",
       " ['162', 5647.009799687796, 8],\n",
       " ['72', 4553.856453146575, 10],\n",
       " ['154', 5445.489427396124, 10],\n",
       " ['64', 5192.3767268590955, 28],\n",
       " ['26', 4745.150770301531, 65],\n",
       " ['18', 4120.025201223722, 51],\n",
       " ['164', 4240.680251556807, 8],\n",
       " ['71', 3413.474713124205, 7],\n",
       " ['82', 5819.857326374647, 5],\n",
       " ['86', 4878.148716430946, 27],\n",
       " ['155', 5953.798365518391, 10],\n",
       " ['122', 4470.882896103152, 25],\n",
       " ['112', 4773.613101309787, 4],\n",
       " ['126', 3883.851302960789, 11],\n",
       " ['166', 4937.5326986351865, 5],\n",
       " ['117', 5907.460236151796, 1],\n",
       " ['116', 6085.149676935093, 11],\n",
       " ['95', 5496.385873857949, 15],\n",
       " ['87', 4394.4834510008895, 27],\n",
       " ['92', 4945.814943711113, 12],\n",
       " ['168', 4935.30946627675, 11],\n",
       " ['136', 5662.3911781971465, 4],\n",
       " ['165', 4302.87507258446, 6],\n",
       " ['150', 4300.519071154547, 10],\n",
       " ['68', 5535.987101385537, 8],\n",
       " ['191', 4416.588907815592, 6],\n",
       " ['145', 4308.368757398656, 19],\n",
       " ['43', 7569.699274667083, 9],\n",
       " ['188', 6388.043566696007, 5],\n",
       " ['193', 3932.405633003104, 3],\n",
       " ['146', 4822.201773953344, 18],\n",
       " ['104', 6176.483333786494, 11],\n",
       " ['51', 5283.544184721489, 5],\n",
       " ['158', 2298.367046962433, 2],\n",
       " ['97', 4942.568587092488, 10],\n",
       " ['153', 4135.3389494451985, 6],\n",
       " ['161', 4893.010480950802, 11],\n",
       " ['149', 3891.190128952915, 6],\n",
       " ['107', 5170.4972880835985, 23],\n",
       " ['177', 4473.0908198796715, 10],\n",
       " ['118', 4381.683494912654, 13],\n",
       " ['114', 5589.584729702037, 12],\n",
       " ['156', 6176.396560321654, 10],\n",
       " ['160', 4065.643426684551, 10],\n",
       " ['14', 5171.905760187928, 17],\n",
       " ['19', 4296.248343930521, 31],\n",
       " ['135', 5631.020577982999, 9],\n",
       " ['148', 4555.776713989462, 11],\n",
       " ['131', 6336.11725715362, 6],\n",
       " ['134', 6245.081723701351, 18],\n",
       " ['183', 5810.399149971445, 8],\n",
       " ['185', 3356.921785211638, 3],\n",
       " ['190', 8645.171143049396, 7],\n",
       " ['141', 6262.532997011845, 5],\n",
       " ['207', 5550.678338846342, 1],\n",
       " ['115', 4343.362626538955, 5],\n",
       " ['192', 4272.400888904528, 5],\n",
       " ['102', 2846.7087624227042, 8],\n",
       " ['171', 5410.452703085248, 6],\n",
       " ['201', 8397.602044412346, 3],\n",
       " ['76', 4495.1632267557525, 6],\n",
       " ['202', 7447.527732817578, 2],\n",
       " ['133', 5764.769056921451, 5],\n",
       " ['180', 5684.782584717615, 4],\n",
       " ['181', 8700.768532619968, 3],\n",
       " ['65', 6946.875578322109, 5],\n",
       " ['208', 8005.605047162764, 2],\n",
       " ['178', 4860.1134540746125, 7],\n",
       " ['179', 4581.0918230198395, 4],\n",
       " ['172', 5125.054861131492, 2],\n",
       " ['184', 5063.383067758434, 5],\n",
       " ['196', 7149.180513279968, 1],\n",
       " ['199', 6082.8429413886415, 1],\n",
       " ['175', 7072.043879128218, 3],\n",
       " ['16', 4377.906782463491, 6],\n",
       " ['195', 5723.68175223945, 2],\n",
       " ['209', 4176.4375423074225, 1],\n",
       " ['174', 6409.881183882414, 1]]"
      ]
     },
     "execution_count": 72,
     "metadata": {},
     "output_type": "execute_result"
    }
   ],
   "source": [
    "Distr"
   ]
  },
  {
   "cell_type": "code",
   "execution_count": 73,
   "metadata": {},
   "outputs": [],
   "source": [
    "Distr_df = pd.DataFrame(Distr, columns = ['Distr_id', 'pr_med', 'cnt'])\n",
    "Distr_df['Distr_id'] = Distr_df['Distr_id'].astype(int)\n",
    "Distr_df = Distr_df.sort_values(by = 'Distr_id', ascending=True)\n",
    "Distr_df.reset_index(inplace=True)"
   ]
  },
  {
   "cell_type": "code",
   "execution_count": 74,
   "metadata": {},
   "outputs": [
    {
     "data": {
      "text/html": [
       "<div>\n",
       "<style scoped>\n",
       "    .dataframe tbody tr th:only-of-type {\n",
       "        vertical-align: middle;\n",
       "    }\n",
       "\n",
       "    .dataframe tbody tr th {\n",
       "        vertical-align: top;\n",
       "    }\n",
       "\n",
       "    .dataframe thead th {\n",
       "        text-align: right;\n",
       "    }\n",
       "</style>\n",
       "<table border=\"1\" class=\"dataframe\">\n",
       "  <thead>\n",
       "    <tr style=\"text-align: right;\">\n",
       "      <th></th>\n",
       "      <th>index</th>\n",
       "      <th>Distr_id</th>\n",
       "      <th>pr_med</th>\n",
       "      <th>cnt</th>\n",
       "    </tr>\n",
       "  </thead>\n",
       "  <tbody>\n",
       "    <tr>\n",
       "      <th>0</th>\n",
       "      <td>63</td>\n",
       "      <td>0</td>\n",
       "      <td>3935.906409</td>\n",
       "      <td>48</td>\n",
       "    </tr>\n",
       "    <tr>\n",
       "      <th>1</th>\n",
       "      <td>2</td>\n",
       "      <td>1</td>\n",
       "      <td>3251.647396</td>\n",
       "      <td>652</td>\n",
       "    </tr>\n",
       "    <tr>\n",
       "      <th>2</th>\n",
       "      <td>8</td>\n",
       "      <td>2</td>\n",
       "      <td>4550.709250</td>\n",
       "      <td>78</td>\n",
       "    </tr>\n",
       "    <tr>\n",
       "      <th>3</th>\n",
       "      <td>82</td>\n",
       "      <td>3</td>\n",
       "      <td>3892.203737</td>\n",
       "      <td>82</td>\n",
       "    </tr>\n",
       "    <tr>\n",
       "      <th>4</th>\n",
       "      <td>32</td>\n",
       "      <td>4</td>\n",
       "      <td>5716.888354</td>\n",
       "      <td>11</td>\n",
       "    </tr>\n",
       "    <tr>\n",
       "      <th>...</th>\n",
       "      <td>...</td>\n",
       "      <td>...</td>\n",
       "      <td>...</td>\n",
       "      <td>...</td>\n",
       "    </tr>\n",
       "    <tr>\n",
       "      <th>200</th>\n",
       "      <td>188</td>\n",
       "      <td>202</td>\n",
       "      <td>7447.527733</td>\n",
       "      <td>2</td>\n",
       "    </tr>\n",
       "    <tr>\n",
       "      <th>201</th>\n",
       "      <td>99</td>\n",
       "      <td>205</td>\n",
       "      <td>5101.016598</td>\n",
       "      <td>1</td>\n",
       "    </tr>\n",
       "    <tr>\n",
       "      <th>202</th>\n",
       "      <td>181</td>\n",
       "      <td>207</td>\n",
       "      <td>5550.678339</td>\n",
       "      <td>1</td>\n",
       "    </tr>\n",
       "    <tr>\n",
       "      <th>203</th>\n",
       "      <td>193</td>\n",
       "      <td>208</td>\n",
       "      <td>8005.605047</td>\n",
       "      <td>2</td>\n",
       "    </tr>\n",
       "    <tr>\n",
       "      <th>204</th>\n",
       "      <td>203</td>\n",
       "      <td>209</td>\n",
       "      <td>4176.437542</td>\n",
       "      <td>1</td>\n",
       "    </tr>\n",
       "  </tbody>\n",
       "</table>\n",
       "<p>205 rows × 4 columns</p>\n",
       "</div>"
      ],
      "text/plain": [
       "     index  Distr_id       pr_med  cnt\n",
       "0       63         0  3935.906409   48\n",
       "1        2         1  3251.647396  652\n",
       "2        8         2  4550.709250   78\n",
       "3       82         3  3892.203737   82\n",
       "4       32         4  5716.888354   11\n",
       "..     ...       ...          ...  ...\n",
       "200    188       202  7447.527733    2\n",
       "201     99       205  5101.016598    1\n",
       "202    181       207  5550.678339    1\n",
       "203    193       208  8005.605047    2\n",
       "204    203       209  4176.437542    1\n",
       "\n",
       "[205 rows x 4 columns]"
      ]
     },
     "execution_count": 74,
     "metadata": {},
     "output_type": "execute_result"
    }
   ],
   "source": [
    "Distr_df"
   ]
  },
  {
   "cell_type": "code",
   "execution_count": 78,
   "metadata": {},
   "outputs": [
    {
     "data": {
      "text/html": [
       "<div>\n",
       "<style scoped>\n",
       "    .dataframe tbody tr th:only-of-type {\n",
       "        vertical-align: middle;\n",
       "    }\n",
       "\n",
       "    .dataframe tbody tr th {\n",
       "        vertical-align: top;\n",
       "    }\n",
       "\n",
       "    .dataframe thead th {\n",
       "        text-align: right;\n",
       "    }\n",
       "</style>\n",
       "<table border=\"1\" class=\"dataframe\">\n",
       "  <thead>\n",
       "    <tr style=\"text-align: right;\">\n",
       "      <th></th>\n",
       "      <th>index</th>\n",
       "      <th>Distr_id</th>\n",
       "      <th>pr_med</th>\n",
       "      <th>cnt</th>\n",
       "      <th>bin_cat</th>\n",
       "    </tr>\n",
       "  </thead>\n",
       "  <tbody>\n",
       "    <tr>\n",
       "      <th>0</th>\n",
       "      <td>63</td>\n",
       "      <td>0</td>\n",
       "      <td>3935.906409</td>\n",
       "      <td>48</td>\n",
       "      <td>3</td>\n",
       "    </tr>\n",
       "    <tr>\n",
       "      <th>1</th>\n",
       "      <td>2</td>\n",
       "      <td>1</td>\n",
       "      <td>3251.647396</td>\n",
       "      <td>652</td>\n",
       "      <td>3</td>\n",
       "    </tr>\n",
       "    <tr>\n",
       "      <th>2</th>\n",
       "      <td>8</td>\n",
       "      <td>2</td>\n",
       "      <td>4550.709250</td>\n",
       "      <td>78</td>\n",
       "      <td>3</td>\n",
       "    </tr>\n",
       "    <tr>\n",
       "      <th>3</th>\n",
       "      <td>82</td>\n",
       "      <td>3</td>\n",
       "      <td>3892.203737</td>\n",
       "      <td>82</td>\n",
       "      <td>3</td>\n",
       "    </tr>\n",
       "    <tr>\n",
       "      <th>4</th>\n",
       "      <td>32</td>\n",
       "      <td>4</td>\n",
       "      <td>5716.888354</td>\n",
       "      <td>11</td>\n",
       "      <td>3</td>\n",
       "    </tr>\n",
       "    <tr>\n",
       "      <th>...</th>\n",
       "      <td>...</td>\n",
       "      <td>...</td>\n",
       "      <td>...</td>\n",
       "      <td>...</td>\n",
       "      <td>...</td>\n",
       "    </tr>\n",
       "    <tr>\n",
       "      <th>200</th>\n",
       "      <td>188</td>\n",
       "      <td>202</td>\n",
       "      <td>7447.527733</td>\n",
       "      <td>2</td>\n",
       "      <td>2</td>\n",
       "    </tr>\n",
       "    <tr>\n",
       "      <th>201</th>\n",
       "      <td>99</td>\n",
       "      <td>205</td>\n",
       "      <td>5101.016598</td>\n",
       "      <td>1</td>\n",
       "      <td>1</td>\n",
       "    </tr>\n",
       "    <tr>\n",
       "      <th>202</th>\n",
       "      <td>181</td>\n",
       "      <td>207</td>\n",
       "      <td>5550.678339</td>\n",
       "      <td>1</td>\n",
       "      <td>1</td>\n",
       "    </tr>\n",
       "    <tr>\n",
       "      <th>203</th>\n",
       "      <td>193</td>\n",
       "      <td>208</td>\n",
       "      <td>8005.605047</td>\n",
       "      <td>2</td>\n",
       "      <td>2</td>\n",
       "    </tr>\n",
       "    <tr>\n",
       "      <th>204</th>\n",
       "      <td>203</td>\n",
       "      <td>209</td>\n",
       "      <td>4176.437542</td>\n",
       "      <td>1</td>\n",
       "      <td>1</td>\n",
       "    </tr>\n",
       "  </tbody>\n",
       "</table>\n",
       "<p>205 rows × 5 columns</p>\n",
       "</div>"
      ],
      "text/plain": [
       "     index  Distr_id       pr_med  cnt  bin_cat\n",
       "0       63         0  3935.906409   48        3\n",
       "1        2         1  3251.647396  652        3\n",
       "2        8         2  4550.709250   78        3\n",
       "3       82         3  3892.203737   82        3\n",
       "4       32         4  5716.888354   11        3\n",
       "..     ...       ...          ...  ...      ...\n",
       "200    188       202  7447.527733    2        2\n",
       "201     99       205  5101.016598    1        1\n",
       "202    181       207  5550.678339    1        1\n",
       "203    193       208  8005.605047    2        2\n",
       "204    203       209  4176.437542    1        1\n",
       "\n",
       "[205 rows x 5 columns]"
      ]
     },
     "execution_count": 78,
     "metadata": {},
     "output_type": "execute_result"
    }
   ],
   "source": [
    "Distr_df['bin_cat'] = Distr_df['cnt'].where(Distr_df['cnt'] < 3, 3)\n",
    "Distr_df"
   ]
  },
  {
   "cell_type": "code",
   "execution_count": 80,
   "metadata": {
    "scrolled": true
   },
   "outputs": [
    {
     "ename": "AttributeError",
     "evalue": "'PathCollection' object has no property 'colors'",
     "output_type": "error",
     "traceback": [
      "\u001b[1;31m---------------------------------------------------------------------------\u001b[0m",
      "\u001b[1;31mAttributeError\u001b[0m                            Traceback (most recent call last)",
      "\u001b[1;32m<ipython-input-80-d33d2cc05669>\u001b[0m in \u001b[0;36m<module>\u001b[1;34m\u001b[0m\n\u001b[1;32m----> 1\u001b[1;33m \u001b[0mDistr_df\u001b[0m\u001b[1;33m.\u001b[0m\u001b[0mplot\u001b[0m\u001b[1;33m(\u001b[0m\u001b[0mkind\u001b[0m\u001b[1;33m=\u001b[0m\u001b[1;34m'scatter'\u001b[0m\u001b[1;33m,\u001b[0m \u001b[0mx\u001b[0m\u001b[1;33m=\u001b[0m\u001b[1;34m'Distr_id'\u001b[0m\u001b[1;33m,\u001b[0m \u001b[0my\u001b[0m \u001b[1;33m=\u001b[0m \u001b[1;34m'pr_med'\u001b[0m\u001b[1;33m,\u001b[0m \u001b[0mcolors\u001b[0m \u001b[1;33m=\u001b[0m \u001b[0mDistr_df\u001b[0m\u001b[1;33m.\u001b[0m\u001b[0mbin_cat\u001b[0m\u001b[1;33m)\u001b[0m\u001b[1;33m\u001b[0m\u001b[1;33m\u001b[0m\u001b[0m\n\u001b[0m",
      "\u001b[1;32mF:\\DataSc\\anaconda3\\lib\\site-packages\\pandas\\plotting\\_core.py\u001b[0m in \u001b[0;36m__call__\u001b[1;34m(self, *args, **kwargs)\u001b[0m\n\u001b[0;32m    892\u001b[0m         \u001b[1;32mif\u001b[0m \u001b[0mkind\u001b[0m \u001b[1;32min\u001b[0m \u001b[0mself\u001b[0m\u001b[1;33m.\u001b[0m\u001b[0m_dataframe_kinds\u001b[0m\u001b[1;33m:\u001b[0m\u001b[1;33m\u001b[0m\u001b[1;33m\u001b[0m\u001b[0m\n\u001b[0;32m    893\u001b[0m             \u001b[1;32mif\u001b[0m \u001b[0misinstance\u001b[0m\u001b[1;33m(\u001b[0m\u001b[0mdata\u001b[0m\u001b[1;33m,\u001b[0m \u001b[0mABCDataFrame\u001b[0m\u001b[1;33m)\u001b[0m\u001b[1;33m:\u001b[0m\u001b[1;33m\u001b[0m\u001b[1;33m\u001b[0m\u001b[0m\n\u001b[1;32m--> 894\u001b[1;33m                 \u001b[1;32mreturn\u001b[0m \u001b[0mplot_backend\u001b[0m\u001b[1;33m.\u001b[0m\u001b[0mplot\u001b[0m\u001b[1;33m(\u001b[0m\u001b[0mdata\u001b[0m\u001b[1;33m,\u001b[0m \u001b[0mx\u001b[0m\u001b[1;33m=\u001b[0m\u001b[0mx\u001b[0m\u001b[1;33m,\u001b[0m \u001b[0my\u001b[0m\u001b[1;33m=\u001b[0m\u001b[0my\u001b[0m\u001b[1;33m,\u001b[0m \u001b[0mkind\u001b[0m\u001b[1;33m=\u001b[0m\u001b[0mkind\u001b[0m\u001b[1;33m,\u001b[0m \u001b[1;33m**\u001b[0m\u001b[0mkwargs\u001b[0m\u001b[1;33m)\u001b[0m\u001b[1;33m\u001b[0m\u001b[1;33m\u001b[0m\u001b[0m\n\u001b[0m\u001b[0;32m    895\u001b[0m             \u001b[1;32melse\u001b[0m\u001b[1;33m:\u001b[0m\u001b[1;33m\u001b[0m\u001b[1;33m\u001b[0m\u001b[0m\n\u001b[0;32m    896\u001b[0m                 \u001b[1;32mraise\u001b[0m \u001b[0mValueError\u001b[0m\u001b[1;33m(\u001b[0m\u001b[1;34mf\"plot kind {kind} can only be used for data frames\"\u001b[0m\u001b[1;33m)\u001b[0m\u001b[1;33m\u001b[0m\u001b[1;33m\u001b[0m\u001b[0m\n",
      "\u001b[1;32mF:\\DataSc\\anaconda3\\lib\\site-packages\\pandas\\plotting\\_matplotlib\\__init__.py\u001b[0m in \u001b[0;36mplot\u001b[1;34m(data, kind, **kwargs)\u001b[0m\n\u001b[0;32m     59\u001b[0m             \u001b[0mkwargs\u001b[0m\u001b[1;33m[\u001b[0m\u001b[1;34m\"ax\"\u001b[0m\u001b[1;33m]\u001b[0m \u001b[1;33m=\u001b[0m \u001b[0mgetattr\u001b[0m\u001b[1;33m(\u001b[0m\u001b[0max\u001b[0m\u001b[1;33m,\u001b[0m \u001b[1;34m\"left_ax\"\u001b[0m\u001b[1;33m,\u001b[0m \u001b[0max\u001b[0m\u001b[1;33m)\u001b[0m\u001b[1;33m\u001b[0m\u001b[1;33m\u001b[0m\u001b[0m\n\u001b[0;32m     60\u001b[0m     \u001b[0mplot_obj\u001b[0m \u001b[1;33m=\u001b[0m \u001b[0mPLOT_CLASSES\u001b[0m\u001b[1;33m[\u001b[0m\u001b[0mkind\u001b[0m\u001b[1;33m]\u001b[0m\u001b[1;33m(\u001b[0m\u001b[0mdata\u001b[0m\u001b[1;33m,\u001b[0m \u001b[1;33m**\u001b[0m\u001b[0mkwargs\u001b[0m\u001b[1;33m)\u001b[0m\u001b[1;33m\u001b[0m\u001b[1;33m\u001b[0m\u001b[0m\n\u001b[1;32m---> 61\u001b[1;33m     \u001b[0mplot_obj\u001b[0m\u001b[1;33m.\u001b[0m\u001b[0mgenerate\u001b[0m\u001b[1;33m(\u001b[0m\u001b[1;33m)\u001b[0m\u001b[1;33m\u001b[0m\u001b[1;33m\u001b[0m\u001b[0m\n\u001b[0m\u001b[0;32m     62\u001b[0m     \u001b[0mplot_obj\u001b[0m\u001b[1;33m.\u001b[0m\u001b[0mdraw\u001b[0m\u001b[1;33m(\u001b[0m\u001b[1;33m)\u001b[0m\u001b[1;33m\u001b[0m\u001b[1;33m\u001b[0m\u001b[0m\n\u001b[0;32m     63\u001b[0m     \u001b[1;32mreturn\u001b[0m \u001b[0mplot_obj\u001b[0m\u001b[1;33m.\u001b[0m\u001b[0mresult\u001b[0m\u001b[1;33m\u001b[0m\u001b[1;33m\u001b[0m\u001b[0m\n",
      "\u001b[1;32mF:\\DataSc\\anaconda3\\lib\\site-packages\\pandas\\plotting\\_matplotlib\\core.py\u001b[0m in \u001b[0;36mgenerate\u001b[1;34m(self)\u001b[0m\n\u001b[0;32m    269\u001b[0m         \u001b[0mself\u001b[0m\u001b[1;33m.\u001b[0m\u001b[0m_compute_plot_data\u001b[0m\u001b[1;33m(\u001b[0m\u001b[1;33m)\u001b[0m\u001b[1;33m\u001b[0m\u001b[1;33m\u001b[0m\u001b[0m\n\u001b[0;32m    270\u001b[0m         \u001b[0mself\u001b[0m\u001b[1;33m.\u001b[0m\u001b[0m_setup_subplots\u001b[0m\u001b[1;33m(\u001b[0m\u001b[1;33m)\u001b[0m\u001b[1;33m\u001b[0m\u001b[1;33m\u001b[0m\u001b[0m\n\u001b[1;32m--> 271\u001b[1;33m         \u001b[0mself\u001b[0m\u001b[1;33m.\u001b[0m\u001b[0m_make_plot\u001b[0m\u001b[1;33m(\u001b[0m\u001b[1;33m)\u001b[0m\u001b[1;33m\u001b[0m\u001b[1;33m\u001b[0m\u001b[0m\n\u001b[0m\u001b[0;32m    272\u001b[0m         \u001b[0mself\u001b[0m\u001b[1;33m.\u001b[0m\u001b[0m_add_table\u001b[0m\u001b[1;33m(\u001b[0m\u001b[1;33m)\u001b[0m\u001b[1;33m\u001b[0m\u001b[1;33m\u001b[0m\u001b[0m\n\u001b[0;32m    273\u001b[0m         \u001b[0mself\u001b[0m\u001b[1;33m.\u001b[0m\u001b[0m_make_legend\u001b[0m\u001b[1;33m(\u001b[0m\u001b[1;33m)\u001b[0m\u001b[1;33m\u001b[0m\u001b[1;33m\u001b[0m\u001b[0m\n",
      "\u001b[1;32mF:\\DataSc\\anaconda3\\lib\\site-packages\\pandas\\plotting\\_matplotlib\\core.py\u001b[0m in \u001b[0;36m_make_plot\u001b[1;34m(self)\u001b[0m\n\u001b[0;32m   1008\u001b[0m         \u001b[1;32melse\u001b[0m\u001b[1;33m:\u001b[0m\u001b[1;33m\u001b[0m\u001b[1;33m\u001b[0m\u001b[0m\n\u001b[0;32m   1009\u001b[0m             \u001b[0mlabel\u001b[0m \u001b[1;33m=\u001b[0m \u001b[1;32mNone\u001b[0m\u001b[1;33m\u001b[0m\u001b[1;33m\u001b[0m\u001b[0m\n\u001b[1;32m-> 1010\u001b[1;33m         scatter = ax.scatter(\n\u001b[0m\u001b[0;32m   1011\u001b[0m             \u001b[0mdata\u001b[0m\u001b[1;33m[\u001b[0m\u001b[0mx\u001b[0m\u001b[1;33m]\u001b[0m\u001b[1;33m.\u001b[0m\u001b[0mvalues\u001b[0m\u001b[1;33m,\u001b[0m\u001b[1;33m\u001b[0m\u001b[1;33m\u001b[0m\u001b[0m\n\u001b[0;32m   1012\u001b[0m             \u001b[0mdata\u001b[0m\u001b[1;33m[\u001b[0m\u001b[0my\u001b[0m\u001b[1;33m]\u001b[0m\u001b[1;33m.\u001b[0m\u001b[0mvalues\u001b[0m\u001b[1;33m,\u001b[0m\u001b[1;33m\u001b[0m\u001b[1;33m\u001b[0m\u001b[0m\n",
      "\u001b[1;32mF:\\DataSc\\anaconda3\\lib\\site-packages\\matplotlib\\__init__.py\u001b[0m in \u001b[0;36minner\u001b[1;34m(ax, data, *args, **kwargs)\u001b[0m\n\u001b[0;32m   1436\u001b[0m     \u001b[1;32mdef\u001b[0m \u001b[0minner\u001b[0m\u001b[1;33m(\u001b[0m\u001b[0max\u001b[0m\u001b[1;33m,\u001b[0m \u001b[1;33m*\u001b[0m\u001b[0margs\u001b[0m\u001b[1;33m,\u001b[0m \u001b[0mdata\u001b[0m\u001b[1;33m=\u001b[0m\u001b[1;32mNone\u001b[0m\u001b[1;33m,\u001b[0m \u001b[1;33m**\u001b[0m\u001b[0mkwargs\u001b[0m\u001b[1;33m)\u001b[0m\u001b[1;33m:\u001b[0m\u001b[1;33m\u001b[0m\u001b[1;33m\u001b[0m\u001b[0m\n\u001b[0;32m   1437\u001b[0m         \u001b[1;32mif\u001b[0m \u001b[0mdata\u001b[0m \u001b[1;32mis\u001b[0m \u001b[1;32mNone\u001b[0m\u001b[1;33m:\u001b[0m\u001b[1;33m\u001b[0m\u001b[1;33m\u001b[0m\u001b[0m\n\u001b[1;32m-> 1438\u001b[1;33m             \u001b[1;32mreturn\u001b[0m \u001b[0mfunc\u001b[0m\u001b[1;33m(\u001b[0m\u001b[0max\u001b[0m\u001b[1;33m,\u001b[0m \u001b[1;33m*\u001b[0m\u001b[0mmap\u001b[0m\u001b[1;33m(\u001b[0m\u001b[0msanitize_sequence\u001b[0m\u001b[1;33m,\u001b[0m \u001b[0margs\u001b[0m\u001b[1;33m)\u001b[0m\u001b[1;33m,\u001b[0m \u001b[1;33m**\u001b[0m\u001b[0mkwargs\u001b[0m\u001b[1;33m)\u001b[0m\u001b[1;33m\u001b[0m\u001b[1;33m\u001b[0m\u001b[0m\n\u001b[0m\u001b[0;32m   1439\u001b[0m \u001b[1;33m\u001b[0m\u001b[0m\n\u001b[0;32m   1440\u001b[0m         \u001b[0mbound\u001b[0m \u001b[1;33m=\u001b[0m \u001b[0mnew_sig\u001b[0m\u001b[1;33m.\u001b[0m\u001b[0mbind\u001b[0m\u001b[1;33m(\u001b[0m\u001b[0max\u001b[0m\u001b[1;33m,\u001b[0m \u001b[1;33m*\u001b[0m\u001b[0margs\u001b[0m\u001b[1;33m,\u001b[0m \u001b[1;33m**\u001b[0m\u001b[0mkwargs\u001b[0m\u001b[1;33m)\u001b[0m\u001b[1;33m\u001b[0m\u001b[1;33m\u001b[0m\u001b[0m\n",
      "\u001b[1;32mF:\\DataSc\\anaconda3\\lib\\site-packages\\matplotlib\\cbook\\deprecation.py\u001b[0m in \u001b[0;36mwrapper\u001b[1;34m(*inner_args, **inner_kwargs)\u001b[0m\n\u001b[0;32m    409\u001b[0m                          \u001b[1;32melse\u001b[0m \u001b[0mdeprecation_addendum\u001b[0m\u001b[1;33m,\u001b[0m\u001b[1;33m\u001b[0m\u001b[1;33m\u001b[0m\u001b[0m\n\u001b[0;32m    410\u001b[0m                 **kwargs)\n\u001b[1;32m--> 411\u001b[1;33m         \u001b[1;32mreturn\u001b[0m \u001b[0mfunc\u001b[0m\u001b[1;33m(\u001b[0m\u001b[1;33m*\u001b[0m\u001b[0minner_args\u001b[0m\u001b[1;33m,\u001b[0m \u001b[1;33m**\u001b[0m\u001b[0minner_kwargs\u001b[0m\u001b[1;33m)\u001b[0m\u001b[1;33m\u001b[0m\u001b[1;33m\u001b[0m\u001b[0m\n\u001b[0m\u001b[0;32m    412\u001b[0m \u001b[1;33m\u001b[0m\u001b[0m\n\u001b[0;32m    413\u001b[0m     \u001b[1;32mreturn\u001b[0m \u001b[0mwrapper\u001b[0m\u001b[1;33m\u001b[0m\u001b[1;33m\u001b[0m\u001b[0m\n",
      "\u001b[1;32mF:\\DataSc\\anaconda3\\lib\\site-packages\\matplotlib\\axes\\_axes.py\u001b[0m in \u001b[0;36mscatter\u001b[1;34m(self, x, y, s, c, marker, cmap, norm, vmin, vmax, alpha, linewidths, verts, edgecolors, plotnonfinite, **kwargs)\u001b[0m\n\u001b[0;32m   4496\u001b[0m                 )\n\u001b[0;32m   4497\u001b[0m         \u001b[0mcollection\u001b[0m\u001b[1;33m.\u001b[0m\u001b[0mset_transform\u001b[0m\u001b[1;33m(\u001b[0m\u001b[0mmtransforms\u001b[0m\u001b[1;33m.\u001b[0m\u001b[0mIdentityTransform\u001b[0m\u001b[1;33m(\u001b[0m\u001b[1;33m)\u001b[0m\u001b[1;33m)\u001b[0m\u001b[1;33m\u001b[0m\u001b[1;33m\u001b[0m\u001b[0m\n\u001b[1;32m-> 4498\u001b[1;33m         \u001b[0mcollection\u001b[0m\u001b[1;33m.\u001b[0m\u001b[0mupdate\u001b[0m\u001b[1;33m(\u001b[0m\u001b[0mkwargs\u001b[0m\u001b[1;33m)\u001b[0m\u001b[1;33m\u001b[0m\u001b[1;33m\u001b[0m\u001b[0m\n\u001b[0m\u001b[0;32m   4499\u001b[0m \u001b[1;33m\u001b[0m\u001b[0m\n\u001b[0;32m   4500\u001b[0m         \u001b[1;32mif\u001b[0m \u001b[0mcolors\u001b[0m \u001b[1;32mis\u001b[0m \u001b[1;32mNone\u001b[0m\u001b[1;33m:\u001b[0m\u001b[1;33m\u001b[0m\u001b[1;33m\u001b[0m\u001b[0m\n",
      "\u001b[1;32mF:\\DataSc\\anaconda3\\lib\\site-packages\\matplotlib\\artist.py\u001b[0m in \u001b[0;36mupdate\u001b[1;34m(self, props)\u001b[0m\n\u001b[0;32m    994\u001b[0m                     \u001b[0mfunc\u001b[0m \u001b[1;33m=\u001b[0m \u001b[0mgetattr\u001b[0m\u001b[1;33m(\u001b[0m\u001b[0mself\u001b[0m\u001b[1;33m,\u001b[0m \u001b[1;34mf\"set_{k}\"\u001b[0m\u001b[1;33m,\u001b[0m \u001b[1;32mNone\u001b[0m\u001b[1;33m)\u001b[0m\u001b[1;33m\u001b[0m\u001b[1;33m\u001b[0m\u001b[0m\n\u001b[0;32m    995\u001b[0m                     \u001b[1;32mif\u001b[0m \u001b[1;32mnot\u001b[0m \u001b[0mcallable\u001b[0m\u001b[1;33m(\u001b[0m\u001b[0mfunc\u001b[0m\u001b[1;33m)\u001b[0m\u001b[1;33m:\u001b[0m\u001b[1;33m\u001b[0m\u001b[1;33m\u001b[0m\u001b[0m\n\u001b[1;32m--> 996\u001b[1;33m                         raise AttributeError(f\"{type(self).__name__!r} object \"\n\u001b[0m\u001b[0;32m    997\u001b[0m                                              f\"has no property {k!r}\")\n\u001b[0;32m    998\u001b[0m                     \u001b[0mret\u001b[0m\u001b[1;33m.\u001b[0m\u001b[0mappend\u001b[0m\u001b[1;33m(\u001b[0m\u001b[0mfunc\u001b[0m\u001b[1;33m(\u001b[0m\u001b[0mv\u001b[0m\u001b[1;33m)\u001b[0m\u001b[1;33m)\u001b[0m\u001b[1;33m\u001b[0m\u001b[1;33m\u001b[0m\u001b[0m\n",
      "\u001b[1;31mAttributeError\u001b[0m: 'PathCollection' object has no property 'colors'"
     ]
    },
    {
     "data": {
      "image/png": "[encoded data removed]",
      "text/plain": [
       "<Figure size 432x288 with 1 Axes>"
      ]
     },
     "metadata": {},
     "output_type": "display_data"
    }
   ],
   "source": [
    "Distr_df.plot(kind='scatter', x='Distr_id', y = 'pr_med', c = Distr_df.bin_cat)"
   ]
  },
  {
   "cell_type": "code",
   "execution_count": 81,
   "metadata": {},
   "outputs": [
    {
     "data": {
      "text/plain": [
       "<matplotlib.collections.PathCollection at 0x1703cde8be0>"
      ]
     },
     "execution_count": 81,
     "metadata": {},
     "output_type": "execute_result"
    },
    {
     "data": {
      "image/png": "[encoded data removed]",
      "text/plain": [
       "<Figure size 432x288 with 1 Axes>"
      ]
     },
     "metadata": {},
     "output_type": "display_data"
    }
   ],
   "source": [
    "plt.scatter(Distr_df['Distr_id'], Distr_df['pr_med'], c= Distr_df.bin_cat)"
   ]
  },
  {
   "cell_type": "code",
   "execution_count": 43,
   "metadata": {},
   "outputs": [
    {
     "data": {
      "text/plain": [
       "count     205.000000\n",
       "mean     4892.045358\n",
       "std      1095.528345\n",
       "min      2273.498737\n",
       "25%      4262.324104\n",
       "50%      4708.779313\n",
       "75%      5445.489427\n",
       "max      8700.768533\n",
       "Name: pr_med, dtype: float64"
      ]
     },
     "execution_count": 43,
     "metadata": {},
     "output_type": "execute_result"
    }
   ],
   "source": [
    "Distr_df.pr_med.describe()"
   ]
  },
  {
   "cell_type": "code",
   "execution_count": 82,
   "metadata": {},
   "outputs": [],
   "source": [
    "from sklearn.cluster import KMeans, DBSCAN, AgglomerativeClustering\n",
    "\n",
    "from sklearn.neighbors import KNeighborsClassifier\n",
    "\n",
    "# Понижения размерности\n",
    "from sklearn.decomposition import PCA\n",
    "from sklearn.manifold import TSNE"
   ]
  },
  {
   "cell_type": "code",
   "execution_count": null,
   "metadata": {},
   "outputs": [],
   "source": [
    "X_small = X_train_scaled[['total_rooms', 'total_bedrooms']]\n",
    "\n",
    "pca = PCA(n_components=1, random_state=42)\n",
    "X_small['component_1'] = pca.fit_transform(X_small)\n",
    "\n",
    "plt.figure(figsize=(10,6))\n",
    "plt.scatter(X_small.total_rooms,  X_small.total_bedrooms)\n",
    "plt.show()"
   ]
  },
  {
   "cell_type": "code",
   "execution_count": null,
   "metadata": {},
   "outputs": [],
   "source": []
  },
  {
   "cell_type": "code",
   "execution_count": 84,
   "metadata": {},
   "outputs": [],
   "source": [
    "def reduce_dims(df, dims=2, method='pca', perplexity=30):\n",
    "    \n",
    "    assert method in ['pca', 'tsne'], 'Неверно указан метод'\n",
    "    \n",
    "    if method=='pca':\n",
    "        dim_reducer = PCA(n_components=dims, random_state=42)\n",
    "        components = dim_reducer.fit_transform(df)\n",
    "    elif method == 'tsne':\n",
    "        dim_reducer = TSNE(n_components=dims, learning_rate=250, random_state=42, perplexity=perplexity)\n",
    "        components = dim_reducer.fit_transform(df)\n",
    "    else:\n",
    "        print('Error')\n",
    "        \n",
    "    colnames = ['component_' + str(i) for i in range(1, dims+1)]\n",
    "    return dim_reducer, pd.DataFrame(data = components, columns = colnames) "
   ]
  },
  {
   "cell_type": "code",
   "execution_count": 85,
   "metadata": {},
   "outputs": [
    {
     "ename": "ValueError",
     "evalue": "could not convert string to float: 'B'",
     "output_type": "error",
     "traceback": [
      "\u001b[1;31m---------------------------------------------------------------------------\u001b[0m",
      "\u001b[1;31mValueError\u001b[0m                                Traceback (most recent call last)",
      "\u001b[1;32m<ipython-input-85-ecbda3034af9>\u001b[0m in \u001b[0;36m<module>\u001b[1;34m\u001b[0m\n\u001b[1;32m----> 1\u001b[1;33m \u001b[0mdim_reducer2d\u001b[0m\u001b[1;33m,\u001b[0m \u001b[0mcomponents_2d\u001b[0m \u001b[1;33m=\u001b[0m \u001b[0mreduce_dims\u001b[0m\u001b[1;33m(\u001b[0m\u001b[0mdf\u001b[0m\u001b[1;33m,\u001b[0m \u001b[0mdims\u001b[0m\u001b[1;33m=\u001b[0m\u001b[1;36m2\u001b[0m\u001b[1;33m,\u001b[0m \u001b[0mmethod\u001b[0m\u001b[1;33m=\u001b[0m\u001b[1;34m'pca'\u001b[0m\u001b[1;33m)\u001b[0m\u001b[1;33m\u001b[0m\u001b[1;33m\u001b[0m\u001b[0m\n\u001b[0m\u001b[0;32m      2\u001b[0m \u001b[0mcomponents_2d\u001b[0m\u001b[1;33m.\u001b[0m\u001b[0mhead\u001b[0m\u001b[1;33m(\u001b[0m\u001b[1;36m2\u001b[0m\u001b[1;33m)\u001b[0m\u001b[1;33m\u001b[0m\u001b[1;33m\u001b[0m\u001b[0m\n",
      "\u001b[1;32m<ipython-input-84-0cbc26c43661>\u001b[0m in \u001b[0;36mreduce_dims\u001b[1;34m(df, dims, method, perplexity)\u001b[0m\n\u001b[0;32m      5\u001b[0m     \u001b[1;32mif\u001b[0m \u001b[0mmethod\u001b[0m\u001b[1;33m==\u001b[0m\u001b[1;34m'pca'\u001b[0m\u001b[1;33m:\u001b[0m\u001b[1;33m\u001b[0m\u001b[1;33m\u001b[0m\u001b[0m\n\u001b[0;32m      6\u001b[0m         \u001b[0mdim_reducer\u001b[0m \u001b[1;33m=\u001b[0m \u001b[0mPCA\u001b[0m\u001b[1;33m(\u001b[0m\u001b[0mn_components\u001b[0m\u001b[1;33m=\u001b[0m\u001b[0mdims\u001b[0m\u001b[1;33m,\u001b[0m \u001b[0mrandom_state\u001b[0m\u001b[1;33m=\u001b[0m\u001b[1;36m42\u001b[0m\u001b[1;33m)\u001b[0m\u001b[1;33m\u001b[0m\u001b[1;33m\u001b[0m\u001b[0m\n\u001b[1;32m----> 7\u001b[1;33m         \u001b[0mcomponents\u001b[0m \u001b[1;33m=\u001b[0m \u001b[0mdim_reducer\u001b[0m\u001b[1;33m.\u001b[0m\u001b[0mfit_transform\u001b[0m\u001b[1;33m(\u001b[0m\u001b[0mdf\u001b[0m\u001b[1;33m)\u001b[0m\u001b[1;33m\u001b[0m\u001b[1;33m\u001b[0m\u001b[0m\n\u001b[0m\u001b[0;32m      8\u001b[0m     \u001b[1;32melif\u001b[0m \u001b[0mmethod\u001b[0m \u001b[1;33m==\u001b[0m \u001b[1;34m'tsne'\u001b[0m\u001b[1;33m:\u001b[0m\u001b[1;33m\u001b[0m\u001b[1;33m\u001b[0m\u001b[0m\n\u001b[0;32m      9\u001b[0m         \u001b[0mdim_reducer\u001b[0m \u001b[1;33m=\u001b[0m \u001b[0mTSNE\u001b[0m\u001b[1;33m(\u001b[0m\u001b[0mn_components\u001b[0m\u001b[1;33m=\u001b[0m\u001b[0mdims\u001b[0m\u001b[1;33m,\u001b[0m \u001b[0mlearning_rate\u001b[0m\u001b[1;33m=\u001b[0m\u001b[1;36m250\u001b[0m\u001b[1;33m,\u001b[0m \u001b[0mrandom_state\u001b[0m\u001b[1;33m=\u001b[0m\u001b[1;36m42\u001b[0m\u001b[1;33m,\u001b[0m \u001b[0mperplexity\u001b[0m\u001b[1;33m=\u001b[0m\u001b[0mperplexity\u001b[0m\u001b[1;33m)\u001b[0m\u001b[1;33m\u001b[0m\u001b[1;33m\u001b[0m\u001b[0m\n",
      "\u001b[1;32mF:\\DataSc\\anaconda3\\lib\\site-packages\\sklearn\\decomposition\\_pca.py\u001b[0m in \u001b[0;36mfit_transform\u001b[1;34m(self, X, y)\u001b[0m\n\u001b[0;32m    374\u001b[0m         \u001b[0mC\u001b[0m\u001b[1;33m-\u001b[0m\u001b[0mordered\u001b[0m \u001b[0marray\u001b[0m\u001b[1;33m,\u001b[0m \u001b[0muse\u001b[0m \u001b[1;34m'np.ascontiguousarray'\u001b[0m\u001b[1;33m.\u001b[0m\u001b[1;33m\u001b[0m\u001b[1;33m\u001b[0m\u001b[0m\n\u001b[0;32m    375\u001b[0m         \"\"\"\n\u001b[1;32m--> 376\u001b[1;33m         \u001b[0mU\u001b[0m\u001b[1;33m,\u001b[0m \u001b[0mS\u001b[0m\u001b[1;33m,\u001b[0m \u001b[0mV\u001b[0m \u001b[1;33m=\u001b[0m \u001b[0mself\u001b[0m\u001b[1;33m.\u001b[0m\u001b[0m_fit\u001b[0m\u001b[1;33m(\u001b[0m\u001b[0mX\u001b[0m\u001b[1;33m)\u001b[0m\u001b[1;33m\u001b[0m\u001b[1;33m\u001b[0m\u001b[0m\n\u001b[0m\u001b[0;32m    377\u001b[0m         \u001b[0mU\u001b[0m \u001b[1;33m=\u001b[0m \u001b[0mU\u001b[0m\u001b[1;33m[\u001b[0m\u001b[1;33m:\u001b[0m\u001b[1;33m,\u001b[0m \u001b[1;33m:\u001b[0m\u001b[0mself\u001b[0m\u001b[1;33m.\u001b[0m\u001b[0mn_components_\u001b[0m\u001b[1;33m]\u001b[0m\u001b[1;33m\u001b[0m\u001b[1;33m\u001b[0m\u001b[0m\n\u001b[0;32m    378\u001b[0m \u001b[1;33m\u001b[0m\u001b[0m\n",
      "\u001b[1;32mF:\\DataSc\\anaconda3\\lib\\site-packages\\sklearn\\decomposition\\_pca.py\u001b[0m in \u001b[0;36m_fit\u001b[1;34m(self, X)\u001b[0m\n\u001b[0;32m    395\u001b[0m                             'TruncatedSVD for a possible alternative.')\n\u001b[0;32m    396\u001b[0m \u001b[1;33m\u001b[0m\u001b[0m\n\u001b[1;32m--> 397\u001b[1;33m         X = self._validate_data(X, dtype=[np.float64, np.float32],\n\u001b[0m\u001b[0;32m    398\u001b[0m                                 ensure_2d=True, copy=self.copy)\n\u001b[0;32m    399\u001b[0m \u001b[1;33m\u001b[0m\u001b[0m\n",
      "\u001b[1;32mF:\\DataSc\\anaconda3\\lib\\site-packages\\sklearn\\base.py\u001b[0m in \u001b[0;36m_validate_data\u001b[1;34m(self, X, y, reset, validate_separately, **check_params)\u001b[0m\n\u001b[0;32m    418\u001b[0m                     \u001b[1;34mf\"requires y to be passed, but the target y is None.\"\u001b[0m\u001b[1;33m\u001b[0m\u001b[1;33m\u001b[0m\u001b[0m\n\u001b[0;32m    419\u001b[0m                 )\n\u001b[1;32m--> 420\u001b[1;33m             \u001b[0mX\u001b[0m \u001b[1;33m=\u001b[0m \u001b[0mcheck_array\u001b[0m\u001b[1;33m(\u001b[0m\u001b[0mX\u001b[0m\u001b[1;33m,\u001b[0m \u001b[1;33m**\u001b[0m\u001b[0mcheck_params\u001b[0m\u001b[1;33m)\u001b[0m\u001b[1;33m\u001b[0m\u001b[1;33m\u001b[0m\u001b[0m\n\u001b[0m\u001b[0;32m    421\u001b[0m             \u001b[0mout\u001b[0m \u001b[1;33m=\u001b[0m \u001b[0mX\u001b[0m\u001b[1;33m\u001b[0m\u001b[1;33m\u001b[0m\u001b[0m\n\u001b[0;32m    422\u001b[0m         \u001b[1;32melse\u001b[0m\u001b[1;33m:\u001b[0m\u001b[1;33m\u001b[0m\u001b[1;33m\u001b[0m\u001b[0m\n",
      "\u001b[1;32mF:\\DataSc\\anaconda3\\lib\\site-packages\\sklearn\\utils\\validation.py\u001b[0m in \u001b[0;36minner_f\u001b[1;34m(*args, **kwargs)\u001b[0m\n\u001b[0;32m     70\u001b[0m                           FutureWarning)\n\u001b[0;32m     71\u001b[0m         \u001b[0mkwargs\u001b[0m\u001b[1;33m.\u001b[0m\u001b[0mupdate\u001b[0m\u001b[1;33m(\u001b[0m\u001b[1;33m{\u001b[0m\u001b[0mk\u001b[0m\u001b[1;33m:\u001b[0m \u001b[0marg\u001b[0m \u001b[1;32mfor\u001b[0m \u001b[0mk\u001b[0m\u001b[1;33m,\u001b[0m \u001b[0marg\u001b[0m \u001b[1;32min\u001b[0m \u001b[0mzip\u001b[0m\u001b[1;33m(\u001b[0m\u001b[0msig\u001b[0m\u001b[1;33m.\u001b[0m\u001b[0mparameters\u001b[0m\u001b[1;33m,\u001b[0m \u001b[0margs\u001b[0m\u001b[1;33m)\u001b[0m\u001b[1;33m}\u001b[0m\u001b[1;33m)\u001b[0m\u001b[1;33m\u001b[0m\u001b[1;33m\u001b[0m\u001b[0m\n\u001b[1;32m---> 72\u001b[1;33m         \u001b[1;32mreturn\u001b[0m \u001b[0mf\u001b[0m\u001b[1;33m(\u001b[0m\u001b[1;33m**\u001b[0m\u001b[0mkwargs\u001b[0m\u001b[1;33m)\u001b[0m\u001b[1;33m\u001b[0m\u001b[1;33m\u001b[0m\u001b[0m\n\u001b[0m\u001b[0;32m     73\u001b[0m     \u001b[1;32mreturn\u001b[0m \u001b[0minner_f\u001b[0m\u001b[1;33m\u001b[0m\u001b[1;33m\u001b[0m\u001b[0m\n\u001b[0;32m     74\u001b[0m \u001b[1;33m\u001b[0m\u001b[0m\n",
      "\u001b[1;32mF:\\DataSc\\anaconda3\\lib\\site-packages\\sklearn\\utils\\validation.py\u001b[0m in \u001b[0;36mcheck_array\u001b[1;34m(array, accept_sparse, accept_large_sparse, dtype, order, copy, force_all_finite, ensure_2d, allow_nd, ensure_min_samples, ensure_min_features, estimator)\u001b[0m\n\u001b[0;32m    596\u001b[0m                     \u001b[0marray\u001b[0m \u001b[1;33m=\u001b[0m \u001b[0marray\u001b[0m\u001b[1;33m.\u001b[0m\u001b[0mastype\u001b[0m\u001b[1;33m(\u001b[0m\u001b[0mdtype\u001b[0m\u001b[1;33m,\u001b[0m \u001b[0mcasting\u001b[0m\u001b[1;33m=\u001b[0m\u001b[1;34m\"unsafe\"\u001b[0m\u001b[1;33m,\u001b[0m \u001b[0mcopy\u001b[0m\u001b[1;33m=\u001b[0m\u001b[1;32mFalse\u001b[0m\u001b[1;33m)\u001b[0m\u001b[1;33m\u001b[0m\u001b[1;33m\u001b[0m\u001b[0m\n\u001b[0;32m    597\u001b[0m                 \u001b[1;32melse\u001b[0m\u001b[1;33m:\u001b[0m\u001b[1;33m\u001b[0m\u001b[1;33m\u001b[0m\u001b[0m\n\u001b[1;32m--> 598\u001b[1;33m                     \u001b[0marray\u001b[0m \u001b[1;33m=\u001b[0m \u001b[0mnp\u001b[0m\u001b[1;33m.\u001b[0m\u001b[0masarray\u001b[0m\u001b[1;33m(\u001b[0m\u001b[0marray\u001b[0m\u001b[1;33m,\u001b[0m \u001b[0morder\u001b[0m\u001b[1;33m=\u001b[0m\u001b[0morder\u001b[0m\u001b[1;33m,\u001b[0m \u001b[0mdtype\u001b[0m\u001b[1;33m=\u001b[0m\u001b[0mdtype\u001b[0m\u001b[1;33m)\u001b[0m\u001b[1;33m\u001b[0m\u001b[1;33m\u001b[0m\u001b[0m\n\u001b[0m\u001b[0;32m    599\u001b[0m             \u001b[1;32mexcept\u001b[0m \u001b[0mComplexWarning\u001b[0m\u001b[1;33m:\u001b[0m\u001b[1;33m\u001b[0m\u001b[1;33m\u001b[0m\u001b[0m\n\u001b[0;32m    600\u001b[0m                 raise ValueError(\"Complex data not supported\\n\"\n",
      "\u001b[1;32mF:\\DataSc\\anaconda3\\lib\\site-packages\\numpy\\core\\_asarray.py\u001b[0m in \u001b[0;36masarray\u001b[1;34m(a, dtype, order)\u001b[0m\n\u001b[0;32m     81\u001b[0m \u001b[1;33m\u001b[0m\u001b[0m\n\u001b[0;32m     82\u001b[0m     \"\"\"\n\u001b[1;32m---> 83\u001b[1;33m     \u001b[1;32mreturn\u001b[0m \u001b[0marray\u001b[0m\u001b[1;33m(\u001b[0m\u001b[0ma\u001b[0m\u001b[1;33m,\u001b[0m \u001b[0mdtype\u001b[0m\u001b[1;33m,\u001b[0m \u001b[0mcopy\u001b[0m\u001b[1;33m=\u001b[0m\u001b[1;32mFalse\u001b[0m\u001b[1;33m,\u001b[0m \u001b[0morder\u001b[0m\u001b[1;33m=\u001b[0m\u001b[0morder\u001b[0m\u001b[1;33m)\u001b[0m\u001b[1;33m\u001b[0m\u001b[1;33m\u001b[0m\u001b[0m\n\u001b[0m\u001b[0;32m     84\u001b[0m \u001b[1;33m\u001b[0m\u001b[0m\n\u001b[0;32m     85\u001b[0m \u001b[1;33m\u001b[0m\u001b[0m\n",
      "\u001b[1;32mF:\\DataSc\\anaconda3\\lib\\site-packages\\pandas\\core\\generic.py\u001b[0m in \u001b[0;36m__array__\u001b[1;34m(self, dtype)\u001b[0m\n\u001b[0;32m   1779\u001b[0m \u001b[1;33m\u001b[0m\u001b[0m\n\u001b[0;32m   1780\u001b[0m     \u001b[1;32mdef\u001b[0m \u001b[0m__array__\u001b[0m\u001b[1;33m(\u001b[0m\u001b[0mself\u001b[0m\u001b[1;33m,\u001b[0m \u001b[0mdtype\u001b[0m\u001b[1;33m=\u001b[0m\u001b[1;32mNone\u001b[0m\u001b[1;33m)\u001b[0m \u001b[1;33m->\u001b[0m \u001b[0mnp\u001b[0m\u001b[1;33m.\u001b[0m\u001b[0mndarray\u001b[0m\u001b[1;33m:\u001b[0m\u001b[1;33m\u001b[0m\u001b[1;33m\u001b[0m\u001b[0m\n\u001b[1;32m-> 1781\u001b[1;33m         \u001b[1;32mreturn\u001b[0m \u001b[0mnp\u001b[0m\u001b[1;33m.\u001b[0m\u001b[0masarray\u001b[0m\u001b[1;33m(\u001b[0m\u001b[0mself\u001b[0m\u001b[1;33m.\u001b[0m\u001b[0m_values\u001b[0m\u001b[1;33m,\u001b[0m \u001b[0mdtype\u001b[0m\u001b[1;33m=\u001b[0m\u001b[0mdtype\u001b[0m\u001b[1;33m)\u001b[0m\u001b[1;33m\u001b[0m\u001b[1;33m\u001b[0m\u001b[0m\n\u001b[0m\u001b[0;32m   1782\u001b[0m \u001b[1;33m\u001b[0m\u001b[0m\n\u001b[0;32m   1783\u001b[0m     \u001b[1;32mdef\u001b[0m \u001b[0m__array_wrap__\u001b[0m\u001b[1;33m(\u001b[0m\u001b[0mself\u001b[0m\u001b[1;33m,\u001b[0m \u001b[0mresult\u001b[0m\u001b[1;33m,\u001b[0m \u001b[0mcontext\u001b[0m\u001b[1;33m=\u001b[0m\u001b[1;32mNone\u001b[0m\u001b[1;33m)\u001b[0m\u001b[1;33m:\u001b[0m\u001b[1;33m\u001b[0m\u001b[1;33m\u001b[0m\u001b[0m\n",
      "\u001b[1;32mF:\\DataSc\\anaconda3\\lib\\site-packages\\numpy\\core\\_asarray.py\u001b[0m in \u001b[0;36masarray\u001b[1;34m(a, dtype, order)\u001b[0m\n\u001b[0;32m     81\u001b[0m \u001b[1;33m\u001b[0m\u001b[0m\n\u001b[0;32m     82\u001b[0m     \"\"\"\n\u001b[1;32m---> 83\u001b[1;33m     \u001b[1;32mreturn\u001b[0m \u001b[0marray\u001b[0m\u001b[1;33m(\u001b[0m\u001b[0ma\u001b[0m\u001b[1;33m,\u001b[0m \u001b[0mdtype\u001b[0m\u001b[1;33m,\u001b[0m \u001b[0mcopy\u001b[0m\u001b[1;33m=\u001b[0m\u001b[1;32mFalse\u001b[0m\u001b[1;33m,\u001b[0m \u001b[0morder\u001b[0m\u001b[1;33m=\u001b[0m\u001b[0morder\u001b[0m\u001b[1;33m)\u001b[0m\u001b[1;33m\u001b[0m\u001b[1;33m\u001b[0m\u001b[0m\n\u001b[0m\u001b[0;32m     84\u001b[0m \u001b[1;33m\u001b[0m\u001b[0m\n\u001b[0;32m     85\u001b[0m \u001b[1;33m\u001b[0m\u001b[0m\n",
      "\u001b[1;31mValueError\u001b[0m: could not convert string to float: 'B'"
     ]
    }
   ],
   "source": [
    "dim_reducer2d, components_2d = reduce_dims(df, dims=2, method='pca')\n",
    "components_2d.head(2)"
   ]
  },
  {
   "cell_type": "code",
   "execution_count": null,
   "metadata": {},
   "outputs": [],
   "source": []
  },
  {
   "cell_type": "code",
   "execution_count": null,
   "metadata": {},
   "outputs": [],
   "source": []
  },
  {
   "cell_type": "code",
   "execution_count": null,
   "metadata": {},
   "outputs": [],
   "source": []
  },
  {
   "cell_type": "code",
   "execution_count": null,
   "metadata": {},
   "outputs": [],
   "source": []
  },
  {
   "cell_type": "code",
   "execution_count": null,
   "metadata": {},
   "outputs": [],
   "source": []
  },
  {
   "cell_type": "code",
   "execution_count": null,
   "metadata": {},
   "outputs": [],
   "source": []
  }
 ],
 "metadata": {
  "kernelspec": {
   "display_name": "Python 3",
   "language": "python",
   "name": "python3"
  },
  "language_info": {
   "codemirror_mode": {
    "name": "ipython",
    "version": 3
   },
   "file_extension": ".py",
   "mimetype": "text/x-python",
   "name": "python",
   "nbconvert_exporter": "python",
   "pygments_lexer": "ipython3",
   "version": "3.8.5"
  }
 },
 "nbformat": 4,
 "nbformat_minor": 4
}
